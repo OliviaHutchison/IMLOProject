{
  "nbformat": 4,
  "nbformat_minor": 0,
  "metadata": {
    "colab": {
      "provenance": []
    },
    "kernelspec": {
      "name": "python3",
      "display_name": "Python 3"
    },
    "language_info": {
      "name": "python"
    }
  },
  "cells": [
    {
      "cell_type": "markdown",
      "source": [
        "<h1>Pytorch Tutorial Part 2</h1>\n",
        "<h2>Build the Neural Network</h2>\n",
        "<a href=\"https://pytorch.org/tutorials/beginner/basics/buildmodel_tutorial.html\">Here.</a>\n"
      ],
      "metadata": {
        "id": "uUBY6o1KQ61O"
      }
    },
    {
      "cell_type": "code",
      "source": [
        "import os\n",
        "import torch\n",
        "from torch import nn\n",
        "from torch.utils.data import DataLoader\n",
        "from torchvision import datasets, transforms"
      ],
      "metadata": {
        "id": "WAwmbA8dREPn"
      },
      "execution_count": 1,
      "outputs": []
    },
    {
      "cell_type": "markdown",
      "source": [
        "<h3>Get device for Training</h3>\n",
        "<p>We want to be able to train our model on a hardware accelerator like the GPU or MPS, if available. Let’s check to see if torch.cuda or torch.backends.mps are available, otherwise we use the CPU.</p>"
      ],
      "metadata": {
        "id": "w6ZW7vlVRQX1"
      }
    },
    {
      "cell_type": "code",
      "source": [
        "device = (\n",
        "    \"cuda\"\n",
        "    if torch.cuda.is_available()\n",
        "    else \"mps\"\n",
        "    if torch.backends.mps.is_available()\n",
        "    else \"cpu\"\n",
        ")\n",
        "print(f\"Using {device} device\")"
      ],
      "metadata": {
        "colab": {
          "base_uri": "https://localhost:8080/"
        },
        "id": "nbGi7zjBRKxL",
        "outputId": "d619f9be-c932-43e7-ffeb-05ec784195e0"
      },
      "execution_count": 2,
      "outputs": [
        {
          "output_type": "stream",
          "name": "stdout",
          "text": [
            "Using cpu device\n"
          ]
        }
      ]
    },
    {
      "cell_type": "markdown",
      "source": [
        "<h3>Define the Class</h3>\n",
        "<p>We define our neural network by subclassing nn.Module, and initialize the neural network layers in __init__. Every nn.Module subclass implements the operations on input data in the forward method.</p>"
      ],
      "metadata": {
        "id": "mT1wHyBTRb3b"
      }
    },
    {
      "cell_type": "code",
      "source": [
        "class NeuralNetwork(nn.Module):\n",
        "    def __init__(self):\n",
        "        super().__init__()\n",
        "        self.flatten = nn.Flatten()\n",
        "        self.linear_relu_stack = nn.Sequential(\n",
        "            nn.Linear(28*28, 512),\n",
        "            nn.ReLU(),\n",
        "            nn.Linear(512, 512),\n",
        "            nn.ReLU(),\n",
        "            nn.Linear(512, 10),\n",
        "        )\n",
        "\n",
        "    def forward(self, x):\n",
        "        x = self.flatten(x)\n",
        "        logits = self.linear_relu_stack(x)\n",
        "        return logits"
      ],
      "metadata": {
        "id": "OfC-O9tORZBt"
      },
      "execution_count": 3,
      "outputs": []
    },
    {
      "cell_type": "markdown",
      "source": [
        "<p>We create an instance of NeuralNetwork, and move it to the device, and print its structure.</p>"
      ],
      "metadata": {
        "id": "6YaPRAZURz6Q"
      }
    },
    {
      "cell_type": "code",
      "source": [
        "model = NeuralNetwork().to(device)\n",
        "print(model)"
      ],
      "metadata": {
        "colab": {
          "base_uri": "https://localhost:8080/"
        },
        "id": "G9Zv0G8bRzKB",
        "outputId": "76f740e4-ae6a-409d-ccc3-0dd89b2eaeac"
      },
      "execution_count": 4,
      "outputs": [
        {
          "output_type": "stream",
          "name": "stdout",
          "text": [
            "NeuralNetwork(\n",
            "  (flatten): Flatten(start_dim=1, end_dim=-1)\n",
            "  (linear_relu_stack): Sequential(\n",
            "    (0): Linear(in_features=784, out_features=512, bias=True)\n",
            "    (1): ReLU()\n",
            "    (2): Linear(in_features=512, out_features=512, bias=True)\n",
            "    (3): ReLU()\n",
            "    (4): Linear(in_features=512, out_features=10, bias=True)\n",
            "  )\n",
            ")\n"
          ]
        }
      ]
    },
    {
      "cell_type": "markdown",
      "source": [
        "<p>To use the model, we pass it the input data. This executes the model’s forward, along with some background operations. Do not call model.forward() directly!\n",
        "\n",
        "Calling the model on the input returns a 2-dimensional tensor with dim=0 corresponding to each output of 10 raw predicted values for each class, and dim=1 corresponding to the individual values of each output. We get the prediction probabilities by passing it through an instance of the nn.Softmax module.</p>"
      ],
      "metadata": {
        "id": "v-GQU3okR77c"
      }
    },
    {
      "cell_type": "code",
      "source": [
        "X = torch.rand(1, 28, 28, device=device)\n",
        "logits = model(X)\n",
        "pred_probab = nn.Softmax(dim=1)(logits) ##Softmax using the softplus curve?\n",
        "y_pred = pred_probab.argmax(1)\n",
        "print(f\"Predicted class: {y_pred}\")"
      ],
      "metadata": {
        "colab": {
          "base_uri": "https://localhost:8080/"
        },
        "id": "WN0aB0nJR9in",
        "outputId": "71937b8c-7e4a-447c-aa8f-bc1d319ef362"
      },
      "execution_count": 5,
      "outputs": [
        {
          "output_type": "stream",
          "name": "stdout",
          "text": [
            "Predicted class: tensor([2])\n"
          ]
        }
      ]
    },
    {
      "cell_type": "markdown",
      "source": [
        "<h3>Model Layers</h3>\n",
        "<p>Let’s break down the layers in the FashionMNIST model. To illustrate it, we will take a sample minibatch of 3 images of size 28x28 and see what happens to it as we pass it through the network.</p>"
      ],
      "metadata": {
        "id": "43sEbwo1ZWcs"
      }
    },
    {
      "cell_type": "code",
      "source": [
        "input_image = torch.rand(3,28,28)\n",
        "print(input_image.size())"
      ],
      "metadata": {
        "colab": {
          "base_uri": "https://localhost:8080/"
        },
        "id": "Z88JyTJBZTkB",
        "outputId": "45aba6ff-ecbe-4188-9521-6a30e5f9fc1a"
      },
      "execution_count": 6,
      "outputs": [
        {
          "output_type": "stream",
          "name": "stdout",
          "text": [
            "torch.Size([3, 28, 28])\n"
          ]
        }
      ]
    },
    {
      "cell_type": "code",
      "source": [
        "##nn.Flatten\n",
        "#convert each 2D 28*28 image into a contiguous array of 784 pixel values\n",
        "#(minibatch dimension (at dim=0) is maintained)\n",
        "flatten = nn.Flatten()\n",
        "flat_image = flatten(input_image)\n",
        "print(flat_image.size())"
      ],
      "metadata": {
        "colab": {
          "base_uri": "https://localhost:8080/"
        },
        "id": "a5B431ZfZc5b",
        "outputId": "7ae66ac8-c987-4115-9828-baa21703eaeb"
      },
      "execution_count": 7,
      "outputs": [
        {
          "output_type": "stream",
          "name": "stdout",
          "text": [
            "torch.Size([3, 784])\n"
          ]
        }
      ]
    },
    {
      "cell_type": "code",
      "source": [
        "##nn.Linear\n",
        "#linear layer is module that applies a linear transformation on the input using\n",
        "#its stored weights and biases\n",
        "layer1 = nn.Linear(in_features=28*28, out_features=20)\n",
        "hidden1 = layer1(flat_image)\n",
        "print(hidden1.size())"
      ],
      "metadata": {
        "colab": {
          "base_uri": "https://localhost:8080/"
        },
        "id": "usO_ub7AZwPG",
        "outputId": "22b8feb3-22cd-4c91-b301-97b05fe73c10"
      },
      "execution_count": 8,
      "outputs": [
        {
          "output_type": "stream",
          "name": "stdout",
          "text": [
            "torch.Size([3, 20])\n"
          ]
        }
      ]
    },
    {
      "cell_type": "code",
      "source": [
        "##nn.ReLu\n",
        "#ReLu curves - squiggles! See StatQuest notes\n",
        "#Non-linear activations are what create the complex mappings between the model’s\n",
        "#inputs and outputs. They are applied after linear transformations to introduce\n",
        "#nonlinearity, helping neural networks learn a wide variety of phenomena.\n",
        "\n",
        "#In this model, we use nn.ReLU between our linear layers, but there’s other\n",
        "#activations to introduce non-linearity in your model.\n",
        "print(f\"Before ReLU: {hidden1}\\n\\n\")\n",
        "hidden1 = nn.ReLU()(hidden1)\n",
        "print(f\"After ReLU: {hidden1}\")"
      ],
      "metadata": {
        "colab": {
          "base_uri": "https://localhost:8080/"
        },
        "id": "ngN-AFrTaAyr",
        "outputId": "96cef8d5-6c49-43e9-d465-ce5cfce50c7d"
      },
      "execution_count": 10,
      "outputs": [
        {
          "output_type": "stream",
          "name": "stdout",
          "text": [
            "Before ReLU: tensor([[0.0504, 0.0000, 0.0000, 0.3182, 0.1382, 0.0901, 0.0534, 0.4403, 0.0253,\n",
            "         0.0000, 0.0000, 0.0000, 0.0000, 0.0000, 0.0000, 0.0663, 0.1126, 0.0000,\n",
            "         0.7353, 0.0000],\n",
            "        [0.2159, 0.0000, 0.0097, 0.3971, 0.0000, 0.0000, 0.0000, 0.1731, 0.0462,\n",
            "         0.0000, 0.0000, 0.0430, 0.3793, 0.0272, 0.0000, 0.0000, 0.2539, 0.0000,\n",
            "         0.5289, 0.0000],\n",
            "        [0.2683, 0.0000, 0.0631, 0.3418, 0.0000, 0.0000, 0.0000, 0.0000, 0.0490,\n",
            "         0.1616, 0.0777, 0.0000, 0.0875, 0.1322, 0.0000, 0.0000, 0.1325, 0.0000,\n",
            "         0.7407, 0.0000]], grad_fn=<ReluBackward0>)\n",
            "\n",
            "\n",
            "After ReLU: tensor([[0.0504, 0.0000, 0.0000, 0.3182, 0.1382, 0.0901, 0.0534, 0.4403, 0.0253,\n",
            "         0.0000, 0.0000, 0.0000, 0.0000, 0.0000, 0.0000, 0.0663, 0.1126, 0.0000,\n",
            "         0.7353, 0.0000],\n",
            "        [0.2159, 0.0000, 0.0097, 0.3971, 0.0000, 0.0000, 0.0000, 0.1731, 0.0462,\n",
            "         0.0000, 0.0000, 0.0430, 0.3793, 0.0272, 0.0000, 0.0000, 0.2539, 0.0000,\n",
            "         0.5289, 0.0000],\n",
            "        [0.2683, 0.0000, 0.0631, 0.3418, 0.0000, 0.0000, 0.0000, 0.0000, 0.0490,\n",
            "         0.1616, 0.0777, 0.0000, 0.0875, 0.1322, 0.0000, 0.0000, 0.1325, 0.0000,\n",
            "         0.7407, 0.0000]], grad_fn=<ReluBackward0>)\n"
          ]
        }
      ]
    },
    {
      "cell_type": "code",
      "source": [
        "##nn.Sequential\n",
        "#nn.Sequential is an ordered container of modules. The data is passed through\n",
        "#all the modules in the same order as defined. You can use sequential\n",
        "#containers to put together a quick network like seq_modules.\n",
        "seq_modules = nn.Sequential(\n",
        "    flatten,\n",
        "    layer1,\n",
        "    nn.ReLU(),\n",
        "    nn.Linear(20, 10)\n",
        ")\n",
        "input_image = torch.rand(3,28,28)\n",
        "logits = seq_modules(input_image)"
      ],
      "metadata": {
        "id": "VmigS8sraM9C"
      },
      "execution_count": 11,
      "outputs": []
    },
    {
      "cell_type": "code",
      "source": [
        "##nn.Softmax\n",
        "#The last linear layer of the neural network returns logits - raw values in\n",
        "#[-infty, infty] - which are passed to the nn.Softmax module. The logits are\n",
        "#scaled to values [0, 1] representing the model’s predicted probabilities for\n",
        "# each class. dim parameter indicates the dimension along which the values must\n",
        "#sum to 1.\n",
        "softmax = nn.Softmax(dim=1)\n",
        "pred_probab = softmax(logits)"
      ],
      "metadata": {
        "id": "UdGv09BJcKE7"
      },
      "execution_count": 12,
      "outputs": []
    },
    {
      "cell_type": "markdown",
      "source": [
        "<p>Links to all below:</p>\n",
        "<ul>\n",
        "  <li><a href=\"https://pytorch.org/docs/stable/generated/torch.nn.Flatten.html\">Flatten</a></li>\n",
        "  <li><a href=\"https://pytorch.org/docs/stable/generated/torch.nn.Linear.html\">Linear Layer</a></li>\n",
        "  <li><a href=\"https://pytorch.org/docs/stable/generated/torch.nn.ReLU.html\">ReLu</a></li>\n",
        "  <li><a href=\"https://pytorch.org/docs/stable/generated/torch.nn.Sequential.html\">Sequential</a></li>\n",
        "  <li><a href=\"https://pytorch.org/docs/stable/generated/torch.nn.Softmax.html\">Softmax</a></li>\n",
        "</ul>"
      ],
      "metadata": {
        "id": "rYfDBIqncW8I"
      }
    },
    {
      "cell_type": "markdown",
      "source": [
        "<h3>Model Params</h3>\n",
        "<p>Many layers inside a neural network are parameterized, i.e. have associated weights and biases that are optimized during training. Subclassing nn.Module automatically tracks all fields defined inside your model object, and makes all parameters accessible using your model’s parameters() or named_parameters() methods.\n",
        "\n",
        "In this example, we iterate over each parameter, and print its size and a preview of its values.</p>"
      ],
      "metadata": {
        "id": "iu_mnzWddFML"
      }
    },
    {
      "cell_type": "code",
      "source": [
        "print(f\"Model structure: {model}\\n\\n\")\n",
        "\n",
        "for name, param in model.named_parameters():\n",
        "    print(f\"Layer: {name} | Size: {param.size()} | Values : {param[:2]} \\n\")"
      ],
      "metadata": {
        "colab": {
          "base_uri": "https://localhost:8080/"
        },
        "id": "1pRVlZn1cTwM",
        "outputId": "94b41625-54d0-40d3-dfd9-6a5110fd420f"
      },
      "execution_count": 13,
      "outputs": [
        {
          "output_type": "stream",
          "name": "stdout",
          "text": [
            "Model structure: NeuralNetwork(\n",
            "  (flatten): Flatten(start_dim=1, end_dim=-1)\n",
            "  (linear_relu_stack): Sequential(\n",
            "    (0): Linear(in_features=784, out_features=512, bias=True)\n",
            "    (1): ReLU()\n",
            "    (2): Linear(in_features=512, out_features=512, bias=True)\n",
            "    (3): ReLU()\n",
            "    (4): Linear(in_features=512, out_features=10, bias=True)\n",
            "  )\n",
            ")\n",
            "\n",
            "\n",
            "Layer: linear_relu_stack.0.weight | Size: torch.Size([512, 784]) | Values : tensor([[-0.0133, -0.0011, -0.0217,  ...,  0.0325, -0.0033,  0.0252],\n",
            "        [ 0.0128, -0.0061, -0.0239,  ...,  0.0173, -0.0172, -0.0331]],\n",
            "       grad_fn=<SliceBackward0>) \n",
            "\n",
            "Layer: linear_relu_stack.0.bias | Size: torch.Size([512]) | Values : tensor([ 0.0038, -0.0113], grad_fn=<SliceBackward0>) \n",
            "\n",
            "Layer: linear_relu_stack.2.weight | Size: torch.Size([512, 512]) | Values : tensor([[-0.0431,  0.0236,  0.0379,  ..., -0.0360,  0.0149, -0.0180],\n",
            "        [-0.0427, -0.0036,  0.0158,  ...,  0.0115,  0.0034,  0.0238]],\n",
            "       grad_fn=<SliceBackward0>) \n",
            "\n",
            "Layer: linear_relu_stack.2.bias | Size: torch.Size([512]) | Values : tensor([ 0.0340, -0.0321], grad_fn=<SliceBackward0>) \n",
            "\n",
            "Layer: linear_relu_stack.4.weight | Size: torch.Size([10, 512]) | Values : tensor([[-0.0147,  0.0372,  0.0408,  ...,  0.0219,  0.0237,  0.0220],\n",
            "        [ 0.0241, -0.0091,  0.0404,  ..., -0.0115,  0.0375,  0.0204]],\n",
            "       grad_fn=<SliceBackward0>) \n",
            "\n",
            "Layer: linear_relu_stack.4.bias | Size: torch.Size([10]) | Values : tensor([ 0.0279, -0.0254], grad_fn=<SliceBackward0>) \n",
            "\n"
          ]
        }
      ]
    },
    {
      "cell_type": "markdown",
      "source": [
        "<h2>Automatic Differentiaton<h2>\n",
        "<h3>with Autograd</h3>\n",
        "<a href=\"https://pytorch.org/tutorials/beginner/basics/autogradqs_tutorial.html\">Here.</a>\n",
        "\n",
        "<p>When training neural networks, the most frequently used algorithm is <b>back propagation</b>. In this algorithm, parameters (model weights) are adjusted according to the <b>gradient</b> of the loss function with respect to the given parameter.\n",
        "\n",
        "To compute those gradients, PyTorch has a built-in differentiation engine called torch.autograd. It supports automatic computation of gradient for any computational graph.\n",
        "\n",
        "Consider the simplest one-layer neural network, with input x, parameters w and b, and some loss function. It can be defined in PyTorch in the following manner:</p>"
      ],
      "metadata": {
        "id": "jIBpZNoHdda_"
      }
    },
    {
      "cell_type": "code",
      "source": [
        "import torch\n",
        "\n",
        "x = torch.ones(5)  # input tensor\n",
        "y = torch.zeros(3)  # expected output\n",
        "w = torch.randn(5, 3, requires_grad=True)\n",
        "b = torch.randn(3, requires_grad=True)\n",
        "z = torch.matmul(x, w)+b\n",
        "loss = torch.nn.functional.binary_cross_entropy_with_logits(z, y)"
      ],
      "metadata": {
        "id": "ISH_78qudMOG"
      },
      "execution_count": 14,
      "outputs": []
    },
    {
      "cell_type": "markdown",
      "source": [
        "<h3>Tensors, Functions and Computational Graph</h3>\n",
        "<p>See diagram on web page</p>\n",
        "<p>In this network, w and b are parameters, which we need to optimize. Thus, we need to be able to compute the gradients of loss function with respect to those variables. In order to do that, we set the requires_grad property of those tensors.</p>\n",
        "\n",
        "<p><em>You can set the value of requires_grad when creating a tensor, or later by using x.requires_grad_(True) method.</em></p>\n",
        "\n",
        "<p>A function that we apply to tensors to construct computational graph is in fact an object of class Function. This object knows how to compute the function in the forward direction, and also how to compute its derivative during the backward propagation step. A reference to the backward propagation function is stored in grad_fn property of a tensor. You can find more information of Function in the <a href=\"https://pytorch.org/docs/stable/autograd.html#function\">documentation</a>.</p>\n",
        "\n",
        "\n"
      ],
      "metadata": {
        "id": "34MHnZKceAUC"
      }
    },
    {
      "cell_type": "code",
      "source": [
        "print(f\"Gradient function for z = {z.grad_fn}\")\n",
        "print(f\"Gradient function for loss = {loss.grad_fn}\")"
      ],
      "metadata": {
        "colab": {
          "base_uri": "https://localhost:8080/"
        },
        "id": "mP652JlFd_LN",
        "outputId": "872b7428-fd62-4ea0-8b05-f63ecf60cdf9"
      },
      "execution_count": 15,
      "outputs": [
        {
          "output_type": "stream",
          "name": "stdout",
          "text": [
            "Gradient function for z = <AddBackward0 object at 0x7ebb3712f0d0>\n",
            "Gradient function for loss = <BinaryCrossEntropyWithLogitsBackward0 object at 0x7ebb3712eb90>\n"
          ]
        }
      ]
    },
    {
      "cell_type": "markdown",
      "source": [
        "<h3>Computing Gradients</h3>\n",
        "<p>To optimize weights of parameters in the neural network, we need to compute the derivatives of our loss function with respect to parameters, namely, we need:</p>\n",
        "(∂\n",
        "𝑙\n",
        "𝑜\n",
        "𝑠\n",
        "𝑠)/\n",
        "(∂\n",
        "𝑤\n",
        "∂w\n",
        "​)\n",
        "  and\n",
        "(∂\n",
        "𝑙\n",
        "𝑜\n",
        "𝑠\n",
        "𝑠)/\n",
        "(∂\n",
        "𝑏)\n",
        "\n",
        "  <p>under some fixed values of x and y. To compute those derivatives, we call loss.backward(), and then retrieve the values from w.grad and b.grad:</p>\n",
        "  "
      ],
      "metadata": {
        "id": "gwSxormWet4g"
      }
    },
    {
      "cell_type": "code",
      "source": [
        "loss.backward()\n",
        "print(w.grad)\n",
        "print(b.grad)"
      ],
      "metadata": {
        "colab": {
          "base_uri": "https://localhost:8080/"
        },
        "id": "wjUKkYIxer-c",
        "outputId": "f6a83728-dc5d-4f05-f972-838aa2091812"
      },
      "execution_count": 16,
      "outputs": [
        {
          "output_type": "stream",
          "name": "stdout",
          "text": [
            "tensor([[0.0159, 0.0447, 0.2784],\n",
            "        [0.0159, 0.0447, 0.2784],\n",
            "        [0.0159, 0.0447, 0.2784],\n",
            "        [0.0159, 0.0447, 0.2784],\n",
            "        [0.0159, 0.0447, 0.2784]])\n",
            "tensor([0.0159, 0.0447, 0.2784])\n"
          ]
        }
      ]
    },
    {
      "cell_type": "markdown",
      "source": [
        "<h4>Note:</h4>\n",
        "<ul>\n",
        "  <li>We can only obtain the grad properties for the leaf nodes of the computational graph, which have requires_grad property set to True. For all other nodes in our graph, gradients will not be available.</li>\n",
        "  <li>We can only perform gradient calculations using backward once on a given graph, for performance reasons. If we need to do several backward calls on the same graph, we need to pass retain_graph=True to the backward call.</li>\n",
        "</ul>"
      ],
      "metadata": {
        "id": "brc__FJ7fZ4f"
      }
    },
    {
      "cell_type": "markdown",
      "source": [
        "<h3>Disabling Gradient Tracking</h3>\n",
        "<p>By default, all tensors with requires_grad=True are tracking their computational history and support gradient computation. However, there are some cases when we do not need to do that, for example, when we have trained the model and just want to apply it to some input data, i.e. we only want to do forward computations through the network. We can stop tracking computations by surrounding our computation code with torch.no_grad() block:</p>"
      ],
      "metadata": {
        "id": "zdvtx6YQfk13"
      }
    },
    {
      "cell_type": "code",
      "source": [
        "z = torch.matmul(x, w)+b\n",
        "print(z.requires_grad)\n",
        "\n",
        "with torch.no_grad():\n",
        "    z = torch.matmul(x, w)+b\n",
        "print(z.requires_grad)"
      ],
      "metadata": {
        "colab": {
          "base_uri": "https://localhost:8080/"
        },
        "id": "q_iSoKJ-fYvL",
        "outputId": "5abf5c47-99c1-4858-ab4b-c937991d6ab2"
      },
      "execution_count": 17,
      "outputs": [
        {
          "output_type": "stream",
          "name": "stdout",
          "text": [
            "True\n",
            "False\n"
          ]
        }
      ]
    },
    {
      "cell_type": "code",
      "source": [
        "##Another way is with the detach() method\n",
        "z = torch.matmul(x, w)+b\n",
        "z_det = z.detach()\n",
        "print(z_det.requires_grad)"
      ],
      "metadata": {
        "colab": {
          "base_uri": "https://localhost:8080/"
        },
        "id": "4HpYyAq-fzAs",
        "outputId": "d4c8875b-97f1-442c-c889-0fa11a5879ce"
      },
      "execution_count": 18,
      "outputs": [
        {
          "output_type": "stream",
          "name": "stdout",
          "text": [
            "False\n"
          ]
        }
      ]
    },
    {
      "cell_type": "markdown",
      "source": [
        "<p>Reasons to disable grad tracking:</p>\n",
        "<ul>\n",
        "  <li>To mark some parameters in your neural network as <b>frozen parameters</b>.</li>\n",
        "  <li>To <b>speed up computations</b> when you are only doing forward pass, because computations on tensors that do not track gradients would be more efficient.</li>"
      ],
      "metadata": {
        "id": "7756dR87f9FQ"
      }
    },
    {
      "cell_type": "markdown",
      "source": [
        "<h3>More on Computational Graphs</h3>\n",
        "<p>Conceptually, autograd keeps a record of data (tensors) and all executed operations in a directed acyclic graph (DAG) consisting of Function objects.In this DAG, leaves are the input tensors, roots are the output tensors. By tracing this graph from roots to leaves, you can automatically compute the gradients using the chain rule.</p>\n",
        "\n",
        "<p>n a forward pass, autograd does two things simultaneously:</p>\n",
        "<ul>\n",
        "  <li>run the requested operation to compute a resulting tensor</li>\n",
        "  <li>maintain the operation’s gradient function in the DAG.</li>\n",
        "</ul>\n",
        "\n",
        "<p>The backward pass kicks off when .backward() is called on the DAG root. autograd then:</p>\n",
        "<ul>\n",
        "  <li>computes the gradients from each .grad_fn,</li>\n",
        "  <li>accumulates them in the respective tensor’s .grad attribute</li>\n",
        "  <li>using the chain rule, propagates all the way to the leaf tensors.</li>\n",
        "</ul>\n",
        "\n",
        "<p><em>Note: <b>DAGs are dynamic in PyTorch</b> An important thing to note is that the graph is recreated from scratch; after each .backward() call, autograd starts populating a new graph. This is exactly what allows you to use control flow statements in your model; you can change the shape, size and operations at every iteration if needed.</em></p>"
      ],
      "metadata": {
        "id": "ImEGTQlJgMh2"
      }
    },
    {
      "cell_type": "markdown",
      "source": [
        "<h3>Optional reading</h3>\n",
        "<p> See web page for diagrams</p>\n",
        "<p>In many cases, we have a scalar loss function, and we need to compute the gradient with respect to some parameters. However, there are cases when the output function is an arbitrary tensor. In this case, PyTorch allows you to compute so-called Jacobian product, and not the actual gradient.</p>"
      ],
      "metadata": {
        "id": "3DAEgUlzjfYz"
      }
    },
    {
      "cell_type": "code",
      "source": [
        "inp = torch.eye(4, 5, requires_grad=True)\n",
        "out = (inp+1).pow(2).t()\n",
        "out.backward(torch.ones_like(out), retain_graph=True)\n",
        "print(f\"First call\\n{inp.grad}\")\n",
        "out.backward(torch.ones_like(out), retain_graph=True)\n",
        "print(f\"\\nSecond call\\n{inp.grad}\")\n",
        "inp.grad.zero_()\n",
        "out.backward(torch.ones_like(out), retain_graph=True)\n",
        "print(f\"\\nCall after zeroing gradients\\n{inp.grad}\")"
      ],
      "metadata": {
        "colab": {
          "base_uri": "https://localhost:8080/"
        },
        "id": "RhAuALpJf6Np",
        "outputId": "fdd7994a-d481-4002-e3ca-644eb040be15"
      },
      "execution_count": 19,
      "outputs": [
        {
          "output_type": "stream",
          "name": "stdout",
          "text": [
            "First call\n",
            "tensor([[4., 2., 2., 2., 2.],\n",
            "        [2., 4., 2., 2., 2.],\n",
            "        [2., 2., 4., 2., 2.],\n",
            "        [2., 2., 2., 4., 2.]])\n",
            "\n",
            "Second call\n",
            "tensor([[8., 4., 4., 4., 4.],\n",
            "        [4., 8., 4., 4., 4.],\n",
            "        [4., 4., 8., 4., 4.],\n",
            "        [4., 4., 4., 8., 4.]])\n",
            "\n",
            "Call after zeroing gradients\n",
            "tensor([[4., 2., 2., 2., 2.],\n",
            "        [2., 4., 2., 2., 2.],\n",
            "        [2., 2., 4., 2., 2.],\n",
            "        [2., 2., 2., 4., 2.]])\n"
          ]
        }
      ]
    },
    {
      "cell_type": "markdown",
      "source": [
        "<p>Notice that when we call backward for the second time with the same argument, the value of the gradient is different. This happens because when doing backward propagation, PyTorch <b>accumulates the gradients</b>, i.e. the value of computed gradients is added to the grad property of all leaf nodes of computational graph. If you want to compute the proper gradients, you need to zero out the grad property before. In real-life training an optimizer helps us to do this.</p>\n",
        "\n",
        "<p><em>Note: Previously we were calling backward() function without parameters. This is essentially equivalent to calling backward(torch.tensor(1.0)), which is a useful way to compute the gradients in case of a scalar-valued function, such as loss during neural network training.</em></p>"
      ],
      "metadata": {
        "id": "N-HCQ3JajvXG"
      }
    },
    {
      "cell_type": "markdown",
      "source": [
        "<h2>Optimisation</h2>\n",
        "<a href=\"https://pytorch.org/tutorials/beginner/basics/optimization_tutorial.html\">Here</a>\n",
        "\n",
        "<p>Now that we have a model and data it’s time to train, validate and test our model by optimizing its parameters on our data. Training a model is an iterative process; in each iteration the model makes a guess about the output, calculates the error in its guess (loss), collects the derivatives of the error with respect to its parameters (as we saw in the previous section), and <b>optimizes</b> these parameters using gradient descent. For a more detailed walkthrough of this process, check out <a href=\"https://www.youtube.com/watch?v=tIeHLnjs5U8\">this video on backpropagation from 3Blue1Brown</a>.</p>"
      ],
      "metadata": {
        "id": "wapEtzHEj_AF"
      }
    },
    {
      "cell_type": "markdown",
      "source": [
        "<h3>Pre-requisite Code</h3>\n",
        "<p>Load code from prev tutorials on Datasets and DataLoaders and Build Model</p>\n",
        "\n"
      ],
      "metadata": {
        "id": "J1At_JTakTYo"
      }
    },
    {
      "cell_type": "code",
      "source": [
        "import torch\n",
        "from torch import nn\n",
        "from torch.utils.data import DataLoader\n",
        "from torchvision import datasets\n",
        "from torchvision.transforms import ToTensor\n",
        "\n",
        "training_data = datasets.FashionMNIST(\n",
        "    root=\"data\",\n",
        "    train=True,\n",
        "    download=True,\n",
        "    transform=ToTensor()\n",
        ")\n",
        "\n",
        "test_data = datasets.FashionMNIST(\n",
        "    root=\"data\",\n",
        "    train=False,\n",
        "    download=True,\n",
        "    transform=ToTensor()\n",
        ")\n",
        "\n",
        "train_dataloader = DataLoader(training_data, batch_size=64)\n",
        "test_dataloader = DataLoader(test_data, batch_size=64)\n",
        "\n",
        "class NeuralNetwork(nn.Module):\n",
        "    def __init__(self):\n",
        "        super().__init__()\n",
        "        self.flatten = nn.Flatten()\n",
        "        self.linear_relu_stack = nn.Sequential(\n",
        "            nn.Linear(28*28, 512),\n",
        "            nn.ReLU(),\n",
        "            nn.Linear(512, 512),\n",
        "            nn.ReLU(),\n",
        "            nn.Linear(512, 10),\n",
        "        )\n",
        "\n",
        "    def forward(self, x):\n",
        "        x = self.flatten(x)\n",
        "        logits = self.linear_relu_stack(x)\n",
        "        return logits\n",
        "\n",
        "model = NeuralNetwork()"
      ],
      "metadata": {
        "colab": {
          "base_uri": "https://localhost:8080/"
        },
        "id": "eReuweA1jpA9",
        "outputId": "2b4daa67-8b21-40f7-c896-d7f538c41159"
      },
      "execution_count": 20,
      "outputs": [
        {
          "output_type": "stream",
          "name": "stdout",
          "text": [
            "Downloading http://fashion-mnist.s3-website.eu-central-1.amazonaws.com/train-images-idx3-ubyte.gz\n",
            "Downloading http://fashion-mnist.s3-website.eu-central-1.amazonaws.com/train-images-idx3-ubyte.gz to data/FashionMNIST/raw/train-images-idx3-ubyte.gz\n"
          ]
        },
        {
          "output_type": "stream",
          "name": "stderr",
          "text": [
            "100%|██████████| 26421880/26421880 [00:02<00:00, 11113742.74it/s]\n"
          ]
        },
        {
          "output_type": "stream",
          "name": "stdout",
          "text": [
            "Extracting data/FashionMNIST/raw/train-images-idx3-ubyte.gz to data/FashionMNIST/raw\n",
            "\n",
            "Downloading http://fashion-mnist.s3-website.eu-central-1.amazonaws.com/train-labels-idx1-ubyte.gz\n",
            "Downloading http://fashion-mnist.s3-website.eu-central-1.amazonaws.com/train-labels-idx1-ubyte.gz to data/FashionMNIST/raw/train-labels-idx1-ubyte.gz\n"
          ]
        },
        {
          "output_type": "stream",
          "name": "stderr",
          "text": [
            "100%|██████████| 29515/29515 [00:00<00:00, 199053.06it/s]\n"
          ]
        },
        {
          "output_type": "stream",
          "name": "stdout",
          "text": [
            "Extracting data/FashionMNIST/raw/train-labels-idx1-ubyte.gz to data/FashionMNIST/raw\n",
            "\n",
            "Downloading http://fashion-mnist.s3-website.eu-central-1.amazonaws.com/t10k-images-idx3-ubyte.gz\n",
            "Downloading http://fashion-mnist.s3-website.eu-central-1.amazonaws.com/t10k-images-idx3-ubyte.gz to data/FashionMNIST/raw/t10k-images-idx3-ubyte.gz\n"
          ]
        },
        {
          "output_type": "stream",
          "name": "stderr",
          "text": [
            "100%|██████████| 4422102/4422102 [00:01<00:00, 3756112.07it/s]\n"
          ]
        },
        {
          "output_type": "stream",
          "name": "stdout",
          "text": [
            "Extracting data/FashionMNIST/raw/t10k-images-idx3-ubyte.gz to data/FashionMNIST/raw\n",
            "\n",
            "Downloading http://fashion-mnist.s3-website.eu-central-1.amazonaws.com/t10k-labels-idx1-ubyte.gz\n",
            "Downloading http://fashion-mnist.s3-website.eu-central-1.amazonaws.com/t10k-labels-idx1-ubyte.gz to data/FashionMNIST/raw/t10k-labels-idx1-ubyte.gz\n"
          ]
        },
        {
          "output_type": "stream",
          "name": "stderr",
          "text": [
            "100%|██████████| 5148/5148 [00:00<00:00, 12219737.97it/s]"
          ]
        },
        {
          "output_type": "stream",
          "name": "stdout",
          "text": [
            "Extracting data/FashionMNIST/raw/t10k-labels-idx1-ubyte.gz to data/FashionMNIST/raw\n",
            "\n"
          ]
        },
        {
          "output_type": "stream",
          "name": "stderr",
          "text": [
            "\n"
          ]
        }
      ]
    },
    {
      "cell_type": "markdown",
      "source": [
        "<h3>Hyperparameters</h3>\n",
        "<p>Hyperparameters are adjustable parameters that let you control the model optimization process. Different hyperparameter values can impact model training and convergence rates</p>\n",
        "\n",
        "<p>Define the following hyperparams for training:</p>\n",
        "<ul>\n",
        "  <li>Number of Epochs - number of times to iterate over dataset</li>\n",
        "  <li>Batch Size - number of data samples propagated through network before the params are updated</li>\n",
        "  <li>Learning rate - how much to update models parameters at each batch/epoch. Smaller values yield slow learning speed, while large values may result in unpredictable behavior during training.</li>"
      ],
      "metadata": {
        "id": "beM9QvsUkmp2"
      }
    },
    {
      "cell_type": "code",
      "source": [
        "learning_rate = 1e-3\n",
        "batch_size = 64\n",
        "epochs = 5"
      ],
      "metadata": {
        "id": "ZG_N347Hkjtd"
      },
      "execution_count": 21,
      "outputs": []
    },
    {
      "cell_type": "markdown",
      "source": [
        "<h3>Optimisation Loop</h3>\n",
        "<p>Once we set our hyperparameters, we can then train and optimize our model with an optimization loop. Each iteration of the optimization loop is called an epoch.</p>\n",
        "\n",
        "<p>Epochs have 2 main parts:</p>\n",
        "<ul>\n",
        "  <li>The Train Loop - iterate over the training dataset and try to converge to optimal parameters.</li>\n",
        "  <li>The Validation/Test Loop - iterate over the test dataset to check if model performance is improving.</li>\n",
        "</ul>\n"
      ],
      "metadata": {
        "id": "BR5MQPJ7lYNp"
      }
    },
    {
      "cell_type": "markdown",
      "source": [
        "<h3>Training Loop Concepts</h3>\n",
        "<h4>Loss Function</h4>\n",
        "<p>Loss function measures the degree of dissimilarity of obtained result to the target value, and it is the loss function that we want to minimize during training. To calculate the loss we make a prediction using the inputs of our given data sample and compare it against the true data label value.</p>\n",
        "\n",
        "<p>Common Loss functions include <a href=\"https://pytorch.org/docs/stable/generated/torch.nn.MSELoss.html#torch.nn.MSELoss\">nn.MSELoss (Mean Square Error)</a> for regression tasks and <a href=\"https://pytorch.org/docs/stable/generated/torch.nn.NLLLoss.html#torch.nn.NLLLoss\">nn.NLLLLoss (Negative Log Likelihood)</a> for classification.</p>\n",
        "<p><a href=\"https://pytorch.org/docs/stable/generated/torch.nn.CrossEntropyLoss.html#torch.nn.CrossEntropyLoss\">nn.CrossEntropyLoss</a> combines nn.LogSoftmax and nn.NLLLoss.</p>\n",
        "\n",
        "<p>We pass our model’s output logits to nn.CrossEntropyLoss, which will normalize the logits and compute the prediction error.</p>"
      ],
      "metadata": {
        "id": "thKzlQh5lufx"
      }
    },
    {
      "cell_type": "code",
      "source": [],
      "metadata": {
        "id": "PcGNa8aFlKIQ"
      },
      "execution_count": null,
      "outputs": []
    }
  ]
}