{
  "nbformat": 4,
  "nbformat_minor": 0,
  "metadata": {
    "colab": {
      "provenance": [],
      "gpuType": "T4",
      "machine_shape": "hm",
      "authorship_tag": "ABX9TyOY2tSssbTAtfxcge2jefB5",
      "include_colab_link": true
    },
    "kernelspec": {
      "name": "python3",
      "display_name": "Python 3"
    },
    "language_info": {
      "name": "python"
    },
    "accelerator": "GPU",
    "widgets": {
      "application/vnd.jupyter.widget-state+json": {
        "d323fc2e0515450e9615446ea5e40b9a": {
          "model_module": "@jupyter-widgets/controls",
          "model_name": "HBoxModel",
          "model_module_version": "1.5.0",
          "state": {
            "_dom_classes": [],
            "_model_module": "@jupyter-widgets/controls",
            "_model_module_version": "1.5.0",
            "_model_name": "HBoxModel",
            "_view_count": null,
            "_view_module": "@jupyter-widgets/controls",
            "_view_module_version": "1.5.0",
            "_view_name": "HBoxView",
            "box_style": "",
            "children": [
              "IPY_MODEL_1c9053859cd9406e83b77ee59cd2b5fb",
              "IPY_MODEL_bcf536f5b0714f9b932752c236f36766",
              "IPY_MODEL_8476922c0b3a4ac0bc9f1514d95d99cf"
            ],
            "layout": "IPY_MODEL_65c56d0c43b34d6ba7554c17b226f791"
          }
        },
        "1c9053859cd9406e83b77ee59cd2b5fb": {
          "model_module": "@jupyter-widgets/controls",
          "model_name": "HTMLModel",
          "model_module_version": "1.5.0",
          "state": {
            "_dom_classes": [],
            "_model_module": "@jupyter-widgets/controls",
            "_model_module_version": "1.5.0",
            "_model_name": "HTMLModel",
            "_view_count": null,
            "_view_module": "@jupyter-widgets/controls",
            "_view_module_version": "1.5.0",
            "_view_name": "HTMLView",
            "description": "",
            "description_tooltip": null,
            "layout": "IPY_MODEL_6e62176bda8f4f959d95cc956f50a7e1",
            "placeholder": "​",
            "style": "IPY_MODEL_ce67138e9cc94821b41a7bb9a22e98ef",
            "value": "100%"
          }
        },
        "bcf536f5b0714f9b932752c236f36766": {
          "model_module": "@jupyter-widgets/controls",
          "model_name": "FloatProgressModel",
          "model_module_version": "1.5.0",
          "state": {
            "_dom_classes": [],
            "_model_module": "@jupyter-widgets/controls",
            "_model_module_version": "1.5.0",
            "_model_name": "FloatProgressModel",
            "_view_count": null,
            "_view_module": "@jupyter-widgets/controls",
            "_view_module_version": "1.5.0",
            "_view_name": "ProgressView",
            "bar_style": "success",
            "description": "",
            "description_tooltip": null,
            "layout": "IPY_MODEL_6e2e924aaa624f9485405f7e293e8428",
            "max": 20,
            "min": 0,
            "orientation": "horizontal",
            "style": "IPY_MODEL_916a1576155c46bd8151d183b9692a2c",
            "value": 20
          }
        },
        "8476922c0b3a4ac0bc9f1514d95d99cf": {
          "model_module": "@jupyter-widgets/controls",
          "model_name": "HTMLModel",
          "model_module_version": "1.5.0",
          "state": {
            "_dom_classes": [],
            "_model_module": "@jupyter-widgets/controls",
            "_model_module_version": "1.5.0",
            "_model_name": "HTMLModel",
            "_view_count": null,
            "_view_module": "@jupyter-widgets/controls",
            "_view_module_version": "1.5.0",
            "_view_name": "HTMLView",
            "description": "",
            "description_tooltip": null,
            "layout": "IPY_MODEL_906817d004e74a57b439846f3ad4ea8b",
            "placeholder": "​",
            "style": "IPY_MODEL_03dcb666ed2b4c3f91f7d0e0fd1861ea",
            "value": " 20/20 [21:15&lt;00:00, 64.18s/it]"
          }
        },
        "65c56d0c43b34d6ba7554c17b226f791": {
          "model_module": "@jupyter-widgets/base",
          "model_name": "LayoutModel",
          "model_module_version": "1.2.0",
          "state": {
            "_model_module": "@jupyter-widgets/base",
            "_model_module_version": "1.2.0",
            "_model_name": "LayoutModel",
            "_view_count": null,
            "_view_module": "@jupyter-widgets/base",
            "_view_module_version": "1.2.0",
            "_view_name": "LayoutView",
            "align_content": null,
            "align_items": null,
            "align_self": null,
            "border": null,
            "bottom": null,
            "display": null,
            "flex": null,
            "flex_flow": null,
            "grid_area": null,
            "grid_auto_columns": null,
            "grid_auto_flow": null,
            "grid_auto_rows": null,
            "grid_column": null,
            "grid_gap": null,
            "grid_row": null,
            "grid_template_areas": null,
            "grid_template_columns": null,
            "grid_template_rows": null,
            "height": null,
            "justify_content": null,
            "justify_items": null,
            "left": null,
            "margin": null,
            "max_height": null,
            "max_width": null,
            "min_height": null,
            "min_width": null,
            "object_fit": null,
            "object_position": null,
            "order": null,
            "overflow": null,
            "overflow_x": null,
            "overflow_y": null,
            "padding": null,
            "right": null,
            "top": null,
            "visibility": null,
            "width": null
          }
        },
        "6e62176bda8f4f959d95cc956f50a7e1": {
          "model_module": "@jupyter-widgets/base",
          "model_name": "LayoutModel",
          "model_module_version": "1.2.0",
          "state": {
            "_model_module": "@jupyter-widgets/base",
            "_model_module_version": "1.2.0",
            "_model_name": "LayoutModel",
            "_view_count": null,
            "_view_module": "@jupyter-widgets/base",
            "_view_module_version": "1.2.0",
            "_view_name": "LayoutView",
            "align_content": null,
            "align_items": null,
            "align_self": null,
            "border": null,
            "bottom": null,
            "display": null,
            "flex": null,
            "flex_flow": null,
            "grid_area": null,
            "grid_auto_columns": null,
            "grid_auto_flow": null,
            "grid_auto_rows": null,
            "grid_column": null,
            "grid_gap": null,
            "grid_row": null,
            "grid_template_areas": null,
            "grid_template_columns": null,
            "grid_template_rows": null,
            "height": null,
            "justify_content": null,
            "justify_items": null,
            "left": null,
            "margin": null,
            "max_height": null,
            "max_width": null,
            "min_height": null,
            "min_width": null,
            "object_fit": null,
            "object_position": null,
            "order": null,
            "overflow": null,
            "overflow_x": null,
            "overflow_y": null,
            "padding": null,
            "right": null,
            "top": null,
            "visibility": null,
            "width": null
          }
        },
        "ce67138e9cc94821b41a7bb9a22e98ef": {
          "model_module": "@jupyter-widgets/controls",
          "model_name": "DescriptionStyleModel",
          "model_module_version": "1.5.0",
          "state": {
            "_model_module": "@jupyter-widgets/controls",
            "_model_module_version": "1.5.0",
            "_model_name": "DescriptionStyleModel",
            "_view_count": null,
            "_view_module": "@jupyter-widgets/base",
            "_view_module_version": "1.2.0",
            "_view_name": "StyleView",
            "description_width": ""
          }
        },
        "6e2e924aaa624f9485405f7e293e8428": {
          "model_module": "@jupyter-widgets/base",
          "model_name": "LayoutModel",
          "model_module_version": "1.2.0",
          "state": {
            "_model_module": "@jupyter-widgets/base",
            "_model_module_version": "1.2.0",
            "_model_name": "LayoutModel",
            "_view_count": null,
            "_view_module": "@jupyter-widgets/base",
            "_view_module_version": "1.2.0",
            "_view_name": "LayoutView",
            "align_content": null,
            "align_items": null,
            "align_self": null,
            "border": null,
            "bottom": null,
            "display": null,
            "flex": null,
            "flex_flow": null,
            "grid_area": null,
            "grid_auto_columns": null,
            "grid_auto_flow": null,
            "grid_auto_rows": null,
            "grid_column": null,
            "grid_gap": null,
            "grid_row": null,
            "grid_template_areas": null,
            "grid_template_columns": null,
            "grid_template_rows": null,
            "height": null,
            "justify_content": null,
            "justify_items": null,
            "left": null,
            "margin": null,
            "max_height": null,
            "max_width": null,
            "min_height": null,
            "min_width": null,
            "object_fit": null,
            "object_position": null,
            "order": null,
            "overflow": null,
            "overflow_x": null,
            "overflow_y": null,
            "padding": null,
            "right": null,
            "top": null,
            "visibility": null,
            "width": null
          }
        },
        "916a1576155c46bd8151d183b9692a2c": {
          "model_module": "@jupyter-widgets/controls",
          "model_name": "ProgressStyleModel",
          "model_module_version": "1.5.0",
          "state": {
            "_model_module": "@jupyter-widgets/controls",
            "_model_module_version": "1.5.0",
            "_model_name": "ProgressStyleModel",
            "_view_count": null,
            "_view_module": "@jupyter-widgets/base",
            "_view_module_version": "1.2.0",
            "_view_name": "StyleView",
            "bar_color": null,
            "description_width": ""
          }
        },
        "906817d004e74a57b439846f3ad4ea8b": {
          "model_module": "@jupyter-widgets/base",
          "model_name": "LayoutModel",
          "model_module_version": "1.2.0",
          "state": {
            "_model_module": "@jupyter-widgets/base",
            "_model_module_version": "1.2.0",
            "_model_name": "LayoutModel",
            "_view_count": null,
            "_view_module": "@jupyter-widgets/base",
            "_view_module_version": "1.2.0",
            "_view_name": "LayoutView",
            "align_content": null,
            "align_items": null,
            "align_self": null,
            "border": null,
            "bottom": null,
            "display": null,
            "flex": null,
            "flex_flow": null,
            "grid_area": null,
            "grid_auto_columns": null,
            "grid_auto_flow": null,
            "grid_auto_rows": null,
            "grid_column": null,
            "grid_gap": null,
            "grid_row": null,
            "grid_template_areas": null,
            "grid_template_columns": null,
            "grid_template_rows": null,
            "height": null,
            "justify_content": null,
            "justify_items": null,
            "left": null,
            "margin": null,
            "max_height": null,
            "max_width": null,
            "min_height": null,
            "min_width": null,
            "object_fit": null,
            "object_position": null,
            "order": null,
            "overflow": null,
            "overflow_x": null,
            "overflow_y": null,
            "padding": null,
            "right": null,
            "top": null,
            "visibility": null,
            "width": null
          }
        },
        "03dcb666ed2b4c3f91f7d0e0fd1861ea": {
          "model_module": "@jupyter-widgets/controls",
          "model_name": "DescriptionStyleModel",
          "model_module_version": "1.5.0",
          "state": {
            "_model_module": "@jupyter-widgets/controls",
            "_model_module_version": "1.5.0",
            "_model_name": "DescriptionStyleModel",
            "_view_count": null,
            "_view_module": "@jupyter-widgets/base",
            "_view_module_version": "1.2.0",
            "_view_name": "StyleView",
            "description_width": ""
          }
        }
      }
    }
  },
  "cells": [
    {
      "cell_type": "markdown",
      "metadata": {
        "id": "view-in-github",
        "colab_type": "text"
      },
      "source": [
        "<a href=\"https://colab.research.google.com/github/OliviaHutchison/IMLOProject/blob/main/CNN_Model.ipynb\" target=\"_parent\"><img src=\"https://colab.research.google.com/assets/colab-badge.svg\" alt=\"Open In Colab\"/></a>"
      ]
    },
    {
      "cell_type": "markdown",
      "source": [
        "# Imports + Setup"
      ],
      "metadata": {
        "id": "fYtvqfkHUhqb"
      }
    },
    {
      "cell_type": "code",
      "source": [
        "#check for GPU access with PyTorch\n",
        "import torch\n",
        "torch.cuda.is_available()"
      ],
      "metadata": {
        "colab": {
          "base_uri": "https://localhost:8080/"
        },
        "id": "PPcBFYjpG5CR",
        "outputId": "3fb49588-826c-41d5-c6a7-ebf4123f80d7"
      },
      "execution_count": 1,
      "outputs": [
        {
          "output_type": "execute_result",
          "data": {
            "text/plain": [
              "True"
            ]
          },
          "metadata": {},
          "execution_count": 1
        }
      ]
    },
    {
      "cell_type": "code",
      "source": [
        "#setup DAC\n",
        "device = \"cuda\" if torch.cuda.is_available() else \"cpu\"\n",
        "device"
      ],
      "metadata": {
        "colab": {
          "base_uri": "https://localhost:8080/",
          "height": 36
        },
        "id": "hh1ajbMjG7re",
        "outputId": "c8141905-1c4f-4d6a-9726-25f2d141963e"
      },
      "execution_count": 2,
      "outputs": [
        {
          "output_type": "execute_result",
          "data": {
            "text/plain": [
              "'cuda'"
            ],
            "application/vnd.google.colaboratory.intrinsic+json": {
              "type": "string"
            }
          },
          "metadata": {},
          "execution_count": 2
        }
      ]
    },
    {
      "cell_type": "code",
      "source": [
        "#Import PyTorch\n",
        "import torch\n",
        "from torch import nn\n",
        "\n",
        "#Torchvision\n",
        "import torchvision\n",
        "from torchvision import datasets\n",
        "from torchvision import transforms\n",
        "from torchvision.transforms import ToTensor, Resize\n",
        "\n",
        "#Visualisation\n",
        "import matplotlib.pyplot as plt\n",
        "\n",
        "#Version check\n",
        "print(torch.__version__)\n",
        "print(torchvision.__version__)"
      ],
      "metadata": {
        "colab": {
          "base_uri": "https://localhost:8080/"
        },
        "id": "Me46htQ3Ud_X",
        "outputId": "b5c4d293-c6bf-46f6-a75c-441530d40c44"
      },
      "execution_count": 3,
      "outputs": [
        {
          "output_type": "stream",
          "name": "stdout",
          "text": [
            "2.2.1+cu121\n",
            "0.17.1+cu121\n"
          ]
        }
      ]
    },
    {
      "cell_type": "markdown",
      "source": [
        "# Get Dataset"
      ],
      "metadata": {
        "id": "wiil7GwmUlbL"
      }
    },
    {
      "cell_type": "code",
      "source": [
        "transform = transforms.Compose([\n",
        "    transforms.RandomAdjustSharpness(4, 0.5),\n",
        "    transforms.RandomPosterize(4, 0.5),\n",
        "    transforms.GaussianBlur(3),\n",
        "    transforms.RandomRotation(90),\n",
        "    ToTensor(),\n",
        "    transforms.Normalize((0.5, 0.5, 0.5),(0.5, 0.5, 0.5)),\n",
        "    Resize((256, 256))\n",
        "])"
      ],
      "metadata": {
        "id": "FR07-xj0rJ83"
      },
      "execution_count": 4,
      "outputs": []
    },
    {
      "cell_type": "code",
      "source": [
        "#Training Version\n",
        "train_data= datasets.Flowers102(\n",
        "    root=\"data\", #where to download to\n",
        "    split='train', #training dataset\n",
        "    download=True, #want to download\n",
        "    transform=transform, #transform data\n",
        "    target_transform=None #transform labels\n",
        ")"
      ],
      "metadata": {
        "id": "gghSD93TUk6y"
      },
      "execution_count": 5,
      "outputs": []
    },
    {
      "cell_type": "code",
      "source": [
        "#Validation\n",
        "val_data= datasets.Flowers102(\n",
        "    root=\"data\", #where to download to\n",
        "    split='val', #training dataset\n",
        "    download=True, #want to download\n",
        "    transform=transform, #transform data\n",
        "    target_transform=None #transform labels\n",
        ")"
      ],
      "metadata": {
        "id": "CC6C5sW4XtB2"
      },
      "execution_count": 6,
      "outputs": []
    },
    {
      "cell_type": "code",
      "source": [
        "#Testing\n",
        "test_data= datasets.Flowers102(\n",
        "    root=\"data\", #where to download to\n",
        "    split='test', #training dataset\n",
        "    download=True, #want to download\n",
        "    transform=transform, #transform data\n",
        "    target_transform=None #transform labels\n",
        ")"
      ],
      "metadata": {
        "id": "MA9MxA__Zs35"
      },
      "execution_count": 7,
      "outputs": []
    },
    {
      "cell_type": "code",
      "source": [
        "'''\n",
        "#View Some data\n",
        "torch.manual_seed(42)\n",
        "fig = plt.figure(figsize=(9,9))\n",
        "rows, cols = 4, 4\n",
        "for i in range(1, rows*cols+1):\n",
        "  randIndex = torch.randint(0, len(train_data), size=[1]).item()\n",
        "  #print(randIndex)\n",
        "  image, label = train_data[randIndex]\n",
        "  fig.add_subplot(rows, cols, i)\n",
        "  #change dims from colour, height, width to height, width, col\n",
        "  image = image.permute(1,2,0)\n",
        "  plt.imshow(image, cmap=\"gray\")\n",
        "  plt.title(label)\n",
        "  plt.axis(False);\n",
        "\n",
        "'''"
      ],
      "metadata": {
        "colab": {
          "base_uri": "https://localhost:8080/",
          "height": 122
        },
        "id": "FC_CHT6oZ_hM",
        "outputId": "c77c2973-3793-4fbf-d27e-67db501b4d2b"
      },
      "execution_count": 8,
      "outputs": [
        {
          "output_type": "execute_result",
          "data": {
            "text/plain": [
              "'\\n#View Some data\\ntorch.manual_seed(42)\\nfig = plt.figure(figsize=(9,9))\\nrows, cols = 4, 4\\nfor i in range(1, rows*cols+1):\\n  randIndex = torch.randint(0, len(train_data), size=[1]).item()\\n  #print(randIndex)\\n  image, label = train_data[randIndex]\\n  fig.add_subplot(rows, cols, i)\\n  #change dims from colour, height, width to height, width, col\\n  image = image.permute(1,2,0)\\n  plt.imshow(image, cmap=\"gray\")\\n  plt.title(label)\\n  plt.axis(False);\\n\\n'"
            ],
            "application/vnd.google.colaboratory.intrinsic+json": {
              "type": "string"
            }
          },
          "metadata": {},
          "execution_count": 8
        }
      ]
    },
    {
      "cell_type": "markdown",
      "source": [
        "# Prep Data"
      ],
      "metadata": {
        "id": "yvOjZReHfQ-D"
      }
    },
    {
      "cell_type": "code",
      "source": [
        "from torch.utils.data import DataLoader"
      ],
      "metadata": {
        "id": "WCHjVyaIaeSh"
      },
      "execution_count": 9,
      "outputs": []
    },
    {
      "cell_type": "code",
      "source": [
        "batchSize = 32 #groups of 32 images\n",
        "\n",
        "#Turn data into iterables\n",
        "trainDataloader = DataLoader(dataset=train_data,\n",
        "                             batch_size=batchSize,\n",
        "                             shuffle=True)\n",
        "\n",
        "valDataloader = DataLoader(dataset=val_data,\n",
        "                            batch_size=batchSize,\n",
        "                            shuffle=False)\n",
        "\n",
        "testDataloader = DataLoader(dataset=test_data,\n",
        "                            batch_size=batchSize,\n",
        "                            shuffle=False)"
      ],
      "metadata": {
        "id": "HkHaKjbGqF5n"
      },
      "execution_count": 10,
      "outputs": []
    },
    {
      "cell_type": "code",
      "source": [
        "#trainFeaturesBatch, trainLabelsBatch = next(iter(trainDataloader))\n",
        "#trainFeaturesBatch.shape\n"
      ],
      "metadata": {
        "id": "t6lJcnOUqHTt"
      },
      "execution_count": 11,
      "outputs": []
    },
    {
      "cell_type": "code",
      "source": [
        "'''\n",
        "#Show sample\n",
        "torch.manual_seed(42)\n",
        "randomIndex = torch.randint(0, len(trainFeaturesBatch), size=[1]).item()\n",
        "img, label = trainFeaturesBatch[randomIndex], trainLabelsBatch[randomIndex]\n",
        "img = img.permute(1,2,0)\n",
        "plt.imshow(img, cmap=\"gray\")\n",
        "plt.title(label)\n",
        "plt.axis(False)\n",
        "'''"
      ],
      "metadata": {
        "colab": {
          "base_uri": "https://localhost:8080/",
          "height": 88
        },
        "id": "J8aK7SvNqJpa",
        "outputId": "7002bb8b-33b1-41b8-ed50-ea081974b8b9"
      },
      "execution_count": 12,
      "outputs": [
        {
          "output_type": "execute_result",
          "data": {
            "text/plain": [
              "'\\n#Show sample\\ntorch.manual_seed(42)\\nrandomIndex = torch.randint(0, len(trainFeaturesBatch), size=[1]).item()\\nimg, label = trainFeaturesBatch[randomIndex], trainLabelsBatch[randomIndex]\\nimg = img.permute(1,2,0)\\nplt.imshow(img, cmap=\"gray\")\\nplt.title(label)\\nplt.axis(False)\\n'"
            ],
            "application/vnd.google.colaboratory.intrinsic+json": {
              "type": "string"
            }
          },
          "metadata": {},
          "execution_count": 12
        }
      ]
    },
    {
      "cell_type": "markdown",
      "source": [
        "# CNN"
      ],
      "metadata": {
        "id": "_R-YVpIfsOrX"
      }
    },
    {
      "cell_type": "code",
      "source": [
        "#Create CNN\n",
        "class FlowersModel(nn.Module):\n",
        "  def __init__(self, inputShape: int, hiddenUnits: int, outputShape: int):\n",
        "    super().__init__()\n",
        "    #convolutional block 1 - feature extractor\n",
        "    self.conv_block1 = nn.Sequential(\n",
        "        #create conv layer\n",
        "        nn.Conv2d(in_channels=inputShape, out_channels=hiddenUnits,\n",
        "                  kernel_size=3, stride=1, padding=1), #condv2d for 2d data\n",
        "        #values we set ourselves in NNs are hyperparameters\n",
        "\n",
        "        #ReLu Layer\n",
        "        nn.ReLU(),\n",
        "\n",
        "        #2nd conv layer\n",
        "        nn.Conv2d(in_channels=hiddenUnits, out_channels=hiddenUnits,\n",
        "                  kernel_size=3, stride=1, padding=1),\n",
        "\n",
        "        #2 ReLu Layer\n",
        "        nn.ReLU(),\n",
        "\n",
        "        #MaxPool Layer\n",
        "        nn.MaxPool2d(kernel_size=2),\n",
        "    )\n",
        "    #convolutional block 2 - feature extractor\n",
        "    self.conv_block2 = nn.Sequential(\n",
        "        #conv layer\n",
        "        nn.Conv2d(in_channels=hiddenUnits, out_channels=hiddenUnits,\n",
        "                  kernel_size=3, stride=1, padding=1),\n",
        "        #ReLu Layer\n",
        "        nn.ReLU(),\n",
        "\n",
        "        #2nd conv layer\n",
        "        nn.Conv2d(in_channels=hiddenUnits, out_channels=hiddenUnits,\n",
        "                  kernel_size=3, stride=1, padding=1),\n",
        "\n",
        "        #2 ReLu Layer\n",
        "        nn.ReLU(),\n",
        "\n",
        "        #MaxPool Layer\n",
        "        nn.MaxPool2d(kernel_size=2),\n",
        "    )\n",
        "    #convolutional block 3 - feature extractor\n",
        "    self.conv_block3 = nn.Sequential(\n",
        "        #conv layer\n",
        "        nn.Conv2d(in_channels=hiddenUnits, out_channels=hiddenUnits,\n",
        "                  kernel_size=3, stride=1, padding=1),\n",
        "        #ReLu Layer\n",
        "        nn.ReLU(),\n",
        "\n",
        "        #2nd conv layer\n",
        "        nn.Conv2d(in_channels=hiddenUnits, out_channels=hiddenUnits,\n",
        "                  kernel_size=3, stride=1, padding=1),\n",
        "\n",
        "        #2 ReLu Layer\n",
        "        nn.ReLU(),\n",
        "\n",
        "        #MaxPool Layer\n",
        "        nn.MaxPool2d(kernel_size=2),\n",
        "    )\n",
        "    #convolutional block 4 - feature extractor\n",
        "    self.conv_block4 = nn.Sequential(\n",
        "        #conv layer\n",
        "        nn.Conv2d(in_channels=hiddenUnits, out_channels=hiddenUnits,\n",
        "                  kernel_size=3, stride=1, padding=1),\n",
        "        #ReLu Layer\n",
        "        nn.ReLU(),\n",
        "\n",
        "        #2nd conv layer\n",
        "        nn.Conv2d(in_channels=hiddenUnits, out_channels=hiddenUnits,\n",
        "                  kernel_size=3, stride=1, padding=1),\n",
        "\n",
        "        #2 ReLu Layer\n",
        "        nn.ReLU(),\n",
        "\n",
        "        #MaxPool Layer\n",
        "        nn.MaxPool2d(kernel_size=2),\n",
        "    )\n",
        "    #convolutional block 5 - feature extractor\n",
        "    self.conv_block5 = nn.Sequential(\n",
        "        #conv layer\n",
        "        nn.Conv2d(in_channels=hiddenUnits, out_channels=hiddenUnits,\n",
        "                  kernel_size=3, stride=1, padding=1),\n",
        "        #ReLu Layer\n",
        "        nn.ReLU(),\n",
        "\n",
        "        #2nd conv layer\n",
        "        nn.Conv2d(in_channels=hiddenUnits, out_channels=hiddenUnits,\n",
        "                  kernel_size=3, stride=1, padding=1),\n",
        "\n",
        "        #2 ReLu Layer\n",
        "        nn.ReLU(),\n",
        "\n",
        "        #MaxPool Layer\n",
        "        nn.MaxPool2d(kernel_size=2),\n",
        "    )\n",
        "    #classifier layer\n",
        "    self.classifier = nn.Sequential(\n",
        "        nn.Flatten(),\n",
        "        nn.Linear(in_features=hiddenUnits*64*64,\n",
        "                  out_features=outputShape)\n",
        "    )\n",
        "\n",
        "  #forward\n",
        "  def forward(self, x):\n",
        "    x = self.conv_block1(x)\n",
        "    #print(x.shape)\n",
        "    x = self.conv_block2(x)\n",
        "    #print(x.shape)\n",
        "    x = self.classifier(x)\n",
        "    return x\n"
      ],
      "metadata": {
        "id": "JbAxssOcr9qG"
      },
      "execution_count": 13,
      "outputs": []
    },
    {
      "cell_type": "code",
      "source": [
        "model1 = FlowersModel(inputShape=3,\n",
        "                      hiddenUnits=102,\n",
        "                      outputShape=102).to(device)\n",
        "model1"
      ],
      "metadata": {
        "colab": {
          "base_uri": "https://localhost:8080/"
        },
        "id": "myhKP3txGAM3",
        "outputId": "66502ab1-ffdf-4894-84e1-156dc962d027"
      },
      "execution_count": 14,
      "outputs": [
        {
          "output_type": "execute_result",
          "data": {
            "text/plain": [
              "FlowersModel(\n",
              "  (conv_block1): Sequential(\n",
              "    (0): Conv2d(3, 102, kernel_size=(3, 3), stride=(1, 1), padding=(1, 1))\n",
              "    (1): ReLU()\n",
              "    (2): Conv2d(102, 102, kernel_size=(3, 3), stride=(1, 1), padding=(1, 1))\n",
              "    (3): ReLU()\n",
              "    (4): MaxPool2d(kernel_size=2, stride=2, padding=0, dilation=1, ceil_mode=False)\n",
              "  )\n",
              "  (conv_block2): Sequential(\n",
              "    (0): Conv2d(102, 102, kernel_size=(3, 3), stride=(1, 1), padding=(1, 1))\n",
              "    (1): ReLU()\n",
              "    (2): Conv2d(102, 102, kernel_size=(3, 3), stride=(1, 1), padding=(1, 1))\n",
              "    (3): ReLU()\n",
              "    (4): MaxPool2d(kernel_size=2, stride=2, padding=0, dilation=1, ceil_mode=False)\n",
              "  )\n",
              "  (conv_block3): Sequential(\n",
              "    (0): Conv2d(102, 102, kernel_size=(3, 3), stride=(1, 1), padding=(1, 1))\n",
              "    (1): ReLU()\n",
              "    (2): Conv2d(102, 102, kernel_size=(3, 3), stride=(1, 1), padding=(1, 1))\n",
              "    (3): ReLU()\n",
              "    (4): MaxPool2d(kernel_size=2, stride=2, padding=0, dilation=1, ceil_mode=False)\n",
              "  )\n",
              "  (conv_block4): Sequential(\n",
              "    (0): Conv2d(102, 102, kernel_size=(3, 3), stride=(1, 1), padding=(1, 1))\n",
              "    (1): ReLU()\n",
              "    (2): Conv2d(102, 102, kernel_size=(3, 3), stride=(1, 1), padding=(1, 1))\n",
              "    (3): ReLU()\n",
              "    (4): MaxPool2d(kernel_size=2, stride=2, padding=0, dilation=1, ceil_mode=False)\n",
              "  )\n",
              "  (conv_block5): Sequential(\n",
              "    (0): Conv2d(102, 102, kernel_size=(3, 3), stride=(1, 1), padding=(1, 1))\n",
              "    (1): ReLU()\n",
              "    (2): Conv2d(102, 102, kernel_size=(3, 3), stride=(1, 1), padding=(1, 1))\n",
              "    (3): ReLU()\n",
              "    (4): MaxPool2d(kernel_size=2, stride=2, padding=0, dilation=1, ceil_mode=False)\n",
              "  )\n",
              "  (classifier): Sequential(\n",
              "    (0): Flatten(start_dim=1, end_dim=-1)\n",
              "    (1): Linear(in_features=417792, out_features=102, bias=True)\n",
              "  )\n",
              ")"
            ]
          },
          "metadata": {},
          "execution_count": 14
        }
      ]
    },
    {
      "cell_type": "markdown",
      "source": [
        "## Loss and Optimisation"
      ],
      "metadata": {
        "id": "qCC8LKQVFfD-"
      }
    },
    {
      "cell_type": "code",
      "source": [
        "##Loss and Optimiser\n",
        "lossCalc = nn.CrossEntropyLoss()\n",
        "optimiser = torch.optim.Adam(params=model1.parameters(),\n",
        "                             lr=0.0001)"
      ],
      "metadata": {
        "id": "svXgQf_lsX63"
      },
      "execution_count": 15,
      "outputs": []
    },
    {
      "cell_type": "markdown",
      "source": [
        "# Test and Training"
      ],
      "metadata": {
        "id": "qF9T6WlwH3HP"
      }
    },
    {
      "cell_type": "markdown",
      "source": [
        "## Setup and functions"
      ],
      "metadata": {
        "id": "me5GcDk_IHgZ"
      }
    },
    {
      "cell_type": "code",
      "source": [
        "# Import tqdm for progress bar\n",
        "from tqdm.auto import tqdm"
      ],
      "metadata": {
        "id": "yBQ18n4DK5tK"
      },
      "execution_count": 16,
      "outputs": []
    },
    {
      "cell_type": "markdown",
      "source": [
        "### Timer"
      ],
      "metadata": {
        "id": "8n0fi759IEpf"
      }
    },
    {
      "cell_type": "code",
      "source": [
        "##Create Timer\n",
        "from timeit import default_timer as timer\n",
        "def printTime(start: float, end: float, device: torch.device = None):\n",
        "    totalTime = end - start\n",
        "    minutes = totalTime // 60\n",
        "    print(f\"Train time on {device}: {totalTime:.3f} seconds.\\n Roughly {minutes} minutes\")\n",
        "    return totalTime"
      ],
      "metadata": {
        "id": "FLyGJMACHf9n"
      },
      "execution_count": 17,
      "outputs": []
    },
    {
      "cell_type": "markdown",
      "source": [
        "### Accuracy"
      ],
      "metadata": {
        "id": "lawwpZUnI3Ug"
      }
    },
    {
      "cell_type": "code",
      "source": [
        "#Accuaracy Calculator\n",
        "def accuracyCalc(y_true, y_pred):\n",
        "    correct = torch.eq(y_true, y_pred).sum().item()\n",
        "    acc = (correct / len(y_pred)) * 100\n",
        "    return acc"
      ],
      "metadata": {
        "id": "jj15WKtoI5Pf"
      },
      "execution_count": 18,
      "outputs": []
    },
    {
      "cell_type": "markdown",
      "source": [
        "### Training"
      ],
      "metadata": {
        "id": "eD4sHKd0Ib6u"
      }
    },
    {
      "cell_type": "code",
      "source": [
        "#Training Function\n",
        "def trainFunction(model: torch.nn.Module,\n",
        "               dataLoader: torch.utils.data.DataLoader,\n",
        "               lossCalc: torch.nn.Module,\n",
        "               optimiser: torch.optim.Optimizer,\n",
        "               accuracyCalc,\n",
        "               device: torch.device = device):\n",
        "    trainLoss, trainAcc = 0, 0\n",
        "    for batch, (X, y) in enumerate(dataLoader):\n",
        "        #Send data to GPU\n",
        "        X, y = X.to(device), y.to(device)\n",
        "\n",
        "        #Forward pass\n",
        "        y_pred = model(X)\n",
        "\n",
        "        #Calculate loss\n",
        "        loss = lossCalc(y_pred, y)\n",
        "        trainLoss += loss\n",
        "        trainAcc += accuracyCalc(y_true=y,\n",
        "                                 y_pred=y_pred.argmax(dim=1))\n",
        "\n",
        "        #Optimizer zero grad\n",
        "        optimiser.zero_grad()\n",
        "\n",
        "        #Backpropagation\n",
        "        loss.backward()\n",
        "\n",
        "        #Optimiser step\n",
        "        optimiser.step()\n",
        "\n",
        "    # Calculate loss and accuracy per epoch\n",
        "    trainLoss /= len(dataLoader)\n",
        "    trainAcc /= len(dataLoader)\n",
        "    print(f\"Train loss: {trainLoss:.5f} | Train accuracy: {trainAcc:.2f}%\")"
      ],
      "metadata": {
        "id": "uIqpXfKWIQOi"
      },
      "execution_count": 19,
      "outputs": []
    },
    {
      "cell_type": "markdown",
      "source": [
        "### Validation"
      ],
      "metadata": {
        "id": "An98FOUaW7r3"
      }
    },
    {
      "cell_type": "code",
      "source": [
        "#Validation Function\n",
        "def valFunction(dataLoader: torch.utils.data.DataLoader,\n",
        "              model: torch.nn.Module,\n",
        "              lossCalc: torch.nn.Module,\n",
        "              accuracyCalc,\n",
        "              device: torch.device = device):\n",
        "    valLoss, valAcc = 0, 0\n",
        "    model.eval()\n",
        "    #Turn on inference context manager\n",
        "    with torch.inference_mode():\n",
        "        for X, y in dataLoader:\n",
        "            #Send data to GPU\n",
        "            X, y = X.to(device), y.to(device)\n",
        "\n",
        "            #Forward pass\n",
        "            val_pred = model(X)\n",
        "\n",
        "            #Calculate loss and accuracy\n",
        "            valLoss += lossCalc(val_pred, y)\n",
        "            valAcc += accuracyCalc(y_true=y,\n",
        "                y_pred=val_pred.argmax(dim=1)\n",
        "            )\n",
        "\n",
        "        #Adjust and display\n",
        "        valLoss /= len(dataLoader)\n",
        "        valAcc /= len(dataLoader)\n",
        "        print(f\"Val loss: {valLoss:.5f} | Val accuracy: {valAcc:.2f}%\\n\")"
      ],
      "metadata": {
        "id": "1iyX52FsW_M6"
      },
      "execution_count": 20,
      "outputs": []
    },
    {
      "cell_type": "markdown",
      "source": [
        "### Test"
      ],
      "metadata": {
        "id": "EPe6ppXqJhFL"
      }
    },
    {
      "cell_type": "code",
      "source": [
        "#Testing Function\n",
        "def testFunction(dataLoader: torch.utils.data.DataLoader,\n",
        "              model: torch.nn.Module,\n",
        "              lossCalc: torch.nn.Module,\n",
        "              accuracyCalc,\n",
        "              device: torch.device = device):\n",
        "    testLoss, testAcc = 0, 0\n",
        "    model.eval()\n",
        "    #Turn on inference context manager\n",
        "    with torch.inference_mode():\n",
        "        for X, y in dataLoader:\n",
        "            #Send data to GPU\n",
        "            X, y = X.to(device), y.to(device)\n",
        "\n",
        "            #Forward pass\n",
        "            test_pred = model(X)\n",
        "\n",
        "            #Calculate loss and accuracy\n",
        "            testLoss += lossCalc(test_pred, y)\n",
        "            testAcc += accuracyCalc(y_true=y,\n",
        "                y_pred=test_pred.argmax(dim=1)\n",
        "            )\n",
        "\n",
        "        #Adjust and display\n",
        "        testLoss /= len(dataLoader)\n",
        "        testAcc /= len(dataLoader)\n",
        "        print(f\"Test loss: {testLoss:.5f} | Test accuracy: {testAcc:.2f}%\\n\")"
      ],
      "metadata": {
        "id": "iq4-hqIzJig1"
      },
      "execution_count": 21,
      "outputs": []
    },
    {
      "cell_type": "markdown",
      "source": [
        "## Train and Test"
      ],
      "metadata": {
        "id": "vkHrJ4lbITXZ"
      }
    },
    {
      "cell_type": "code",
      "source": [
        "torch.manual_seed(42)\n",
        "\n",
        "# Measure time\n",
        "from timeit import default_timer as timer\n",
        "trainTimeStartModel1 = timer()\n",
        "\n",
        "# Train and test model\n",
        "epochs = 20\n",
        "for epoch in tqdm(range(epochs)):\n",
        "    print(f\"Epoch: {epoch}\\n---------\")\n",
        "    trainFunction(dataLoader=trainDataloader,\n",
        "        model=model1,\n",
        "        lossCalc=lossCalc,\n",
        "        optimiser=optimiser,\n",
        "        accuracyCalc=accuracyCalc,\n",
        "        device=device\n",
        "    )\n",
        "    valFunction(dataLoader=valDataloader,\n",
        "        model=model1,\n",
        "        lossCalc=lossCalc,\n",
        "        accuracyCalc=accuracyCalc,\n",
        "        device=device\n",
        "    )\n",
        "\n",
        "\n",
        "testFunction(dataLoader=testDataloader,\n",
        "    model=model1,\n",
        "    lossCalc=lossCalc,\n",
        "    accuracyCalc=accuracyCalc,\n",
        "    device=device\n",
        ")\n",
        "\n",
        "\n",
        "trainTimeEndModel1 = timer()\n",
        "totalTrainTime = printTime(start=trainTimeStartModel1,\n",
        "                           end=trainTimeEndModel1,\n",
        "                           device=device)"
      ],
      "metadata": {
        "colab": {
          "base_uri": "https://localhost:8080/",
          "height": 1000,
          "referenced_widgets": [
            "d323fc2e0515450e9615446ea5e40b9a",
            "1c9053859cd9406e83b77ee59cd2b5fb",
            "bcf536f5b0714f9b932752c236f36766",
            "8476922c0b3a4ac0bc9f1514d95d99cf",
            "65c56d0c43b34d6ba7554c17b226f791",
            "6e62176bda8f4f959d95cc956f50a7e1",
            "ce67138e9cc94821b41a7bb9a22e98ef",
            "6e2e924aaa624f9485405f7e293e8428",
            "916a1576155c46bd8151d183b9692a2c",
            "906817d004e74a57b439846f3ad4ea8b",
            "03dcb666ed2b4c3f91f7d0e0fd1861ea"
          ]
        },
        "id": "Yz8MtaLcIVDI",
        "outputId": "3d887e0a-f5aa-4edd-a117-00542b5a0003"
      },
      "execution_count": 22,
      "outputs": [
        {
          "output_type": "display_data",
          "data": {
            "text/plain": [
              "  0%|          | 0/20 [00:00<?, ?it/s]"
            ],
            "application/vnd.jupyter.widget-view+json": {
              "version_major": 2,
              "version_minor": 0,
              "model_id": "d323fc2e0515450e9615446ea5e40b9a"
            }
          },
          "metadata": {}
        },
        {
          "output_type": "stream",
          "name": "stdout",
          "text": [
            "Epoch: 0\n",
            "---------\n",
            "Train loss: 4.59280 | Train accuracy: 1.46%\n",
            "Val loss: 4.16326 | Val accuracy: 6.05%\n",
            "\n",
            "Epoch: 1\n",
            "---------\n",
            "Train loss: 3.76900 | Train accuracy: 11.52%\n",
            "Val loss: 3.65369 | Val accuracy: 14.58%\n",
            "\n",
            "Epoch: 2\n",
            "---------\n",
            "Train loss: 3.09807 | Train accuracy: 25.35%\n",
            "Val loss: 3.44955 | Val accuracy: 19.89%\n",
            "\n",
            "Epoch: 3\n",
            "---------\n",
            "Train loss: 2.70256 | Train accuracy: 32.55%\n",
            "Val loss: 3.47313 | Val accuracy: 19.34%\n",
            "\n",
            "Epoch: 4\n",
            "---------\n",
            "Train loss: 2.39740 | Train accuracy: 37.68%\n",
            "Val loss: 3.48565 | Val accuracy: 23.12%\n",
            "\n",
            "Epoch: 5\n",
            "---------\n",
            "Train loss: 2.08012 | Train accuracy: 44.42%\n",
            "Val loss: 3.71683 | Val accuracy: 21.82%\n",
            "\n",
            "Epoch: 6\n",
            "---------\n",
            "Train loss: 1.92663 | Train accuracy: 50.54%\n",
            "Val loss: 3.63497 | Val accuracy: 22.50%\n",
            "\n",
            "Epoch: 7\n",
            "---------\n",
            "Train loss: 1.72820 | Train accuracy: 52.76%\n",
            "Val loss: 3.60106 | Val accuracy: 27.18%\n",
            "\n",
            "Epoch: 8\n",
            "---------\n",
            "Train loss: 1.61039 | Train accuracy: 56.95%\n",
            "Val loss: 3.71176 | Val accuracy: 24.99%\n",
            "\n",
            "Epoch: 9\n",
            "---------\n",
            "Train loss: 1.41930 | Train accuracy: 62.04%\n",
            "Val loss: 3.84952 | Val accuracy: 26.13%\n",
            "\n",
            "Epoch: 10\n",
            "---------\n",
            "Train loss: 1.25105 | Train accuracy: 66.98%\n",
            "Val loss: 4.04158 | Val accuracy: 26.46%\n",
            "\n",
            "Epoch: 11\n",
            "---------\n",
            "Train loss: 1.11536 | Train accuracy: 70.24%\n",
            "Val loss: 3.98620 | Val accuracy: 27.37%\n",
            "\n",
            "Epoch: 12\n",
            "---------\n",
            "Train loss: 1.04447 | Train accuracy: 71.46%\n",
            "Val loss: 4.07453 | Val accuracy: 29.07%\n",
            "\n",
            "Epoch: 13\n",
            "---------\n",
            "Train loss: 0.92916 | Train accuracy: 76.14%\n",
            "Val loss: 4.26178 | Val accuracy: 27.40%\n",
            "\n",
            "Epoch: 14\n",
            "---------\n",
            "Train loss: 0.79600 | Train accuracy: 77.86%\n",
            "Val loss: 4.68056 | Val accuracy: 26.17%\n",
            "\n",
            "Epoch: 15\n",
            "---------\n",
            "Train loss: 0.80568 | Train accuracy: 79.65%\n",
            "Val loss: 4.26308 | Val accuracy: 28.32%\n",
            "\n",
            "Epoch: 16\n",
            "---------\n",
            "Train loss: 0.65686 | Train accuracy: 83.02%\n",
            "Val loss: 4.52946 | Val accuracy: 29.16%\n",
            "\n",
            "Epoch: 17\n",
            "---------\n",
            "Train loss: 0.61561 | Train accuracy: 83.38%\n",
            "Val loss: 4.54231 | Val accuracy: 31.07%\n",
            "\n",
            "Epoch: 18\n",
            "---------\n",
            "Train loss: 0.56404 | Train accuracy: 86.45%\n",
            "Val loss: 4.78519 | Val accuracy: 29.45%\n",
            "\n",
            "Epoch: 19\n",
            "---------\n",
            "Train loss: 0.52060 | Train accuracy: 84.84%\n",
            "Val loss: 5.00626 | Val accuracy: 28.64%\n",
            "\n",
            "Test loss: 5.42433 | Test accuracy: 26.50%\n",
            "\n",
            "Train time on cuda: 1469.551 seconds.\n",
            " Roughly 24.0 minutes\n"
          ]
        }
      ]
    },
    {
      "cell_type": "markdown",
      "source": [
        "# End\n",
        "\n",
        "Chris says mess with:\n",
        "* Hyperparameters\n",
        "* Transforms (as many as POSSIBLE :D)\n",
        "* Optimisers (learning rate, weight decay, etc.)"
      ],
      "metadata": {
        "id": "oU-IQbBTYZuU"
      }
    },
    {
      "cell_type": "code",
      "source": [],
      "metadata": {
        "id": "7KeBx6Lib3Je"
      },
      "execution_count": 22,
      "outputs": []
    }
  ]
}