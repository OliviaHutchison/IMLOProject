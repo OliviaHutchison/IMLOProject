{
  "nbformat": 4,
  "nbformat_minor": 0,
  "metadata": {
    "colab": {
      "provenance": [],
      "gpuType": "T4",
      "machine_shape": "hm",
      "authorship_tag": "ABX9TyMGLTrHzI8ZbadiX6YUULbR",
      "include_colab_link": true
    },
    "kernelspec": {
      "name": "python3",
      "display_name": "Python 3"
    },
    "language_info": {
      "name": "python"
    },
    "accelerator": "GPU",
    "widgets": {
      "application/vnd.jupyter.widget-state+json": {
        "213c2f6445c2431dacbd89fbec4badec": {
          "model_module": "@jupyter-widgets/controls",
          "model_name": "HBoxModel",
          "model_module_version": "1.5.0",
          "state": {
            "_dom_classes": [],
            "_model_module": "@jupyter-widgets/controls",
            "_model_module_version": "1.5.0",
            "_model_name": "HBoxModel",
            "_view_count": null,
            "_view_module": "@jupyter-widgets/controls",
            "_view_module_version": "1.5.0",
            "_view_name": "HBoxView",
            "box_style": "",
            "children": [
              "IPY_MODEL_d82c7968b98e4d6a88780defc2fa34fa",
              "IPY_MODEL_994192138c854f1bbb821e816b5652ac",
              "IPY_MODEL_213a1ce3a18b46f79099907d6194cb62"
            ],
            "layout": "IPY_MODEL_a924f49967d24fa68eb6fbe1f88f15e5"
          }
        },
        "d82c7968b98e4d6a88780defc2fa34fa": {
          "model_module": "@jupyter-widgets/controls",
          "model_name": "HTMLModel",
          "model_module_version": "1.5.0",
          "state": {
            "_dom_classes": [],
            "_model_module": "@jupyter-widgets/controls",
            "_model_module_version": "1.5.0",
            "_model_name": "HTMLModel",
            "_view_count": null,
            "_view_module": "@jupyter-widgets/controls",
            "_view_module_version": "1.5.0",
            "_view_name": "HTMLView",
            "description": "",
            "description_tooltip": null,
            "layout": "IPY_MODEL_cc5510ece9a14145b6e2e12a958a153b",
            "placeholder": "​",
            "style": "IPY_MODEL_6ab473c164cb4ef59ff47541e56783e8",
            "value": "100%"
          }
        },
        "994192138c854f1bbb821e816b5652ac": {
          "model_module": "@jupyter-widgets/controls",
          "model_name": "FloatProgressModel",
          "model_module_version": "1.5.0",
          "state": {
            "_dom_classes": [],
            "_model_module": "@jupyter-widgets/controls",
            "_model_module_version": "1.5.0",
            "_model_name": "FloatProgressModel",
            "_view_count": null,
            "_view_module": "@jupyter-widgets/controls",
            "_view_module_version": "1.5.0",
            "_view_name": "ProgressView",
            "bar_style": "success",
            "description": "",
            "description_tooltip": null,
            "layout": "IPY_MODEL_73f1d6b7fff74a01be2db4b36da2f9a3",
            "max": 20,
            "min": 0,
            "orientation": "horizontal",
            "style": "IPY_MODEL_9bb2779a4b0b485faa1da95a027d4df7",
            "value": 20
          }
        },
        "213a1ce3a18b46f79099907d6194cb62": {
          "model_module": "@jupyter-widgets/controls",
          "model_name": "HTMLModel",
          "model_module_version": "1.5.0",
          "state": {
            "_dom_classes": [],
            "_model_module": "@jupyter-widgets/controls",
            "_model_module_version": "1.5.0",
            "_model_name": "HTMLModel",
            "_view_count": null,
            "_view_module": "@jupyter-widgets/controls",
            "_view_module_version": "1.5.0",
            "_view_name": "HTMLView",
            "description": "",
            "description_tooltip": null,
            "layout": "IPY_MODEL_e1c86fbcaae34f348bc11af323fad7d6",
            "placeholder": "​",
            "style": "IPY_MODEL_7eb1c24d600748a297fc7ca6149f7c5d",
            "value": " 20/20 [22:01&lt;00:00, 65.92s/it]"
          }
        },
        "a924f49967d24fa68eb6fbe1f88f15e5": {
          "model_module": "@jupyter-widgets/base",
          "model_name": "LayoutModel",
          "model_module_version": "1.2.0",
          "state": {
            "_model_module": "@jupyter-widgets/base",
            "_model_module_version": "1.2.0",
            "_model_name": "LayoutModel",
            "_view_count": null,
            "_view_module": "@jupyter-widgets/base",
            "_view_module_version": "1.2.0",
            "_view_name": "LayoutView",
            "align_content": null,
            "align_items": null,
            "align_self": null,
            "border": null,
            "bottom": null,
            "display": null,
            "flex": null,
            "flex_flow": null,
            "grid_area": null,
            "grid_auto_columns": null,
            "grid_auto_flow": null,
            "grid_auto_rows": null,
            "grid_column": null,
            "grid_gap": null,
            "grid_row": null,
            "grid_template_areas": null,
            "grid_template_columns": null,
            "grid_template_rows": null,
            "height": null,
            "justify_content": null,
            "justify_items": null,
            "left": null,
            "margin": null,
            "max_height": null,
            "max_width": null,
            "min_height": null,
            "min_width": null,
            "object_fit": null,
            "object_position": null,
            "order": null,
            "overflow": null,
            "overflow_x": null,
            "overflow_y": null,
            "padding": null,
            "right": null,
            "top": null,
            "visibility": null,
            "width": null
          }
        },
        "cc5510ece9a14145b6e2e12a958a153b": {
          "model_module": "@jupyter-widgets/base",
          "model_name": "LayoutModel",
          "model_module_version": "1.2.0",
          "state": {
            "_model_module": "@jupyter-widgets/base",
            "_model_module_version": "1.2.0",
            "_model_name": "LayoutModel",
            "_view_count": null,
            "_view_module": "@jupyter-widgets/base",
            "_view_module_version": "1.2.0",
            "_view_name": "LayoutView",
            "align_content": null,
            "align_items": null,
            "align_self": null,
            "border": null,
            "bottom": null,
            "display": null,
            "flex": null,
            "flex_flow": null,
            "grid_area": null,
            "grid_auto_columns": null,
            "grid_auto_flow": null,
            "grid_auto_rows": null,
            "grid_column": null,
            "grid_gap": null,
            "grid_row": null,
            "grid_template_areas": null,
            "grid_template_columns": null,
            "grid_template_rows": null,
            "height": null,
            "justify_content": null,
            "justify_items": null,
            "left": null,
            "margin": null,
            "max_height": null,
            "max_width": null,
            "min_height": null,
            "min_width": null,
            "object_fit": null,
            "object_position": null,
            "order": null,
            "overflow": null,
            "overflow_x": null,
            "overflow_y": null,
            "padding": null,
            "right": null,
            "top": null,
            "visibility": null,
            "width": null
          }
        },
        "6ab473c164cb4ef59ff47541e56783e8": {
          "model_module": "@jupyter-widgets/controls",
          "model_name": "DescriptionStyleModel",
          "model_module_version": "1.5.0",
          "state": {
            "_model_module": "@jupyter-widgets/controls",
            "_model_module_version": "1.5.0",
            "_model_name": "DescriptionStyleModel",
            "_view_count": null,
            "_view_module": "@jupyter-widgets/base",
            "_view_module_version": "1.2.0",
            "_view_name": "StyleView",
            "description_width": ""
          }
        },
        "73f1d6b7fff74a01be2db4b36da2f9a3": {
          "model_module": "@jupyter-widgets/base",
          "model_name": "LayoutModel",
          "model_module_version": "1.2.0",
          "state": {
            "_model_module": "@jupyter-widgets/base",
            "_model_module_version": "1.2.0",
            "_model_name": "LayoutModel",
            "_view_count": null,
            "_view_module": "@jupyter-widgets/base",
            "_view_module_version": "1.2.0",
            "_view_name": "LayoutView",
            "align_content": null,
            "align_items": null,
            "align_self": null,
            "border": null,
            "bottom": null,
            "display": null,
            "flex": null,
            "flex_flow": null,
            "grid_area": null,
            "grid_auto_columns": null,
            "grid_auto_flow": null,
            "grid_auto_rows": null,
            "grid_column": null,
            "grid_gap": null,
            "grid_row": null,
            "grid_template_areas": null,
            "grid_template_columns": null,
            "grid_template_rows": null,
            "height": null,
            "justify_content": null,
            "justify_items": null,
            "left": null,
            "margin": null,
            "max_height": null,
            "max_width": null,
            "min_height": null,
            "min_width": null,
            "object_fit": null,
            "object_position": null,
            "order": null,
            "overflow": null,
            "overflow_x": null,
            "overflow_y": null,
            "padding": null,
            "right": null,
            "top": null,
            "visibility": null,
            "width": null
          }
        },
        "9bb2779a4b0b485faa1da95a027d4df7": {
          "model_module": "@jupyter-widgets/controls",
          "model_name": "ProgressStyleModel",
          "model_module_version": "1.5.0",
          "state": {
            "_model_module": "@jupyter-widgets/controls",
            "_model_module_version": "1.5.0",
            "_model_name": "ProgressStyleModel",
            "_view_count": null,
            "_view_module": "@jupyter-widgets/base",
            "_view_module_version": "1.2.0",
            "_view_name": "StyleView",
            "bar_color": null,
            "description_width": ""
          }
        },
        "e1c86fbcaae34f348bc11af323fad7d6": {
          "model_module": "@jupyter-widgets/base",
          "model_name": "LayoutModel",
          "model_module_version": "1.2.0",
          "state": {
            "_model_module": "@jupyter-widgets/base",
            "_model_module_version": "1.2.0",
            "_model_name": "LayoutModel",
            "_view_count": null,
            "_view_module": "@jupyter-widgets/base",
            "_view_module_version": "1.2.0",
            "_view_name": "LayoutView",
            "align_content": null,
            "align_items": null,
            "align_self": null,
            "border": null,
            "bottom": null,
            "display": null,
            "flex": null,
            "flex_flow": null,
            "grid_area": null,
            "grid_auto_columns": null,
            "grid_auto_flow": null,
            "grid_auto_rows": null,
            "grid_column": null,
            "grid_gap": null,
            "grid_row": null,
            "grid_template_areas": null,
            "grid_template_columns": null,
            "grid_template_rows": null,
            "height": null,
            "justify_content": null,
            "justify_items": null,
            "left": null,
            "margin": null,
            "max_height": null,
            "max_width": null,
            "min_height": null,
            "min_width": null,
            "object_fit": null,
            "object_position": null,
            "order": null,
            "overflow": null,
            "overflow_x": null,
            "overflow_y": null,
            "padding": null,
            "right": null,
            "top": null,
            "visibility": null,
            "width": null
          }
        },
        "7eb1c24d600748a297fc7ca6149f7c5d": {
          "model_module": "@jupyter-widgets/controls",
          "model_name": "DescriptionStyleModel",
          "model_module_version": "1.5.0",
          "state": {
            "_model_module": "@jupyter-widgets/controls",
            "_model_module_version": "1.5.0",
            "_model_name": "DescriptionStyleModel",
            "_view_count": null,
            "_view_module": "@jupyter-widgets/base",
            "_view_module_version": "1.2.0",
            "_view_name": "StyleView",
            "description_width": ""
          }
        }
      }
    }
  },
  "cells": [
    {
      "cell_type": "markdown",
      "metadata": {
        "id": "view-in-github",
        "colab_type": "text"
      },
      "source": [
        "<a href=\"https://colab.research.google.com/github/OliviaHutchison/IMLOProject/blob/main/CNN_Model.ipynb\" target=\"_parent\"><img src=\"https://colab.research.google.com/assets/colab-badge.svg\" alt=\"Open In Colab\"/></a>"
      ]
    },
    {
      "cell_type": "markdown",
      "source": [
        "# Imports + Setup"
      ],
      "metadata": {
        "id": "fYtvqfkHUhqb"
      }
    },
    {
      "cell_type": "code",
      "source": [
        "#check for GPU access with PyTorch\n",
        "import torch\n",
        "torch.cuda.is_available()"
      ],
      "metadata": {
        "colab": {
          "base_uri": "https://localhost:8080/"
        },
        "id": "PPcBFYjpG5CR",
        "outputId": "7fe8ac9f-ce37-4f98-d8da-cd0283e1c2ce"
      },
      "execution_count": 1,
      "outputs": [
        {
          "output_type": "execute_result",
          "data": {
            "text/plain": [
              "True"
            ]
          },
          "metadata": {},
          "execution_count": 1
        }
      ]
    },
    {
      "cell_type": "code",
      "source": [
        "#setup DAC\n",
        "device = \"cuda\" if torch.cuda.is_available() else \"cpu\"\n",
        "device"
      ],
      "metadata": {
        "colab": {
          "base_uri": "https://localhost:8080/",
          "height": 36
        },
        "id": "hh1ajbMjG7re",
        "outputId": "e403783d-51ed-46bc-9225-e862087fced5"
      },
      "execution_count": 2,
      "outputs": [
        {
          "output_type": "execute_result",
          "data": {
            "text/plain": [
              "'cuda'"
            ],
            "application/vnd.google.colaboratory.intrinsic+json": {
              "type": "string"
            }
          },
          "metadata": {},
          "execution_count": 2
        }
      ]
    },
    {
      "cell_type": "code",
      "source": [
        "#Import PyTorch\n",
        "import torch\n",
        "from torch import nn\n",
        "\n",
        "#Torchvision\n",
        "import torchvision\n",
        "from torchvision import datasets\n",
        "from torchvision import transforms\n",
        "from torchvision.transforms import ToTensor, Resize\n",
        "\n",
        "#Visualisation\n",
        "import matplotlib.pyplot as plt\n",
        "\n",
        "#Version check\n",
        "print(torch.__version__)\n",
        "print(torchvision.__version__)"
      ],
      "metadata": {
        "colab": {
          "base_uri": "https://localhost:8080/"
        },
        "id": "Me46htQ3Ud_X",
        "outputId": "bf5e7403-bd23-4270-d23b-2caace69460d"
      },
      "execution_count": 3,
      "outputs": [
        {
          "output_type": "stream",
          "name": "stdout",
          "text": [
            "2.2.1+cu121\n",
            "0.17.1+cu121\n"
          ]
        }
      ]
    },
    {
      "cell_type": "markdown",
      "source": [
        "# Get Dataset"
      ],
      "metadata": {
        "id": "wiil7GwmUlbL"
      }
    },
    {
      "cell_type": "code",
      "source": [
        "transform = transforms.Compose([\n",
        "    transforms.RandomAutocontrast(0.5),\n",
        "    transforms.RandomAdjustSharpness(4, 0.5),\n",
        "    transforms.RandomPosterize(4, 0.5),\n",
        "    transforms.GaussianBlur(3),\n",
        "    transforms.RandomRotation(90),\n",
        "    ToTensor(),\n",
        "    transforms.Normalize((0.5, 0.5, 0.5),(0.5, 0.5, 0.5)),\n",
        "    Resize((256, 256))\n",
        "])"
      ],
      "metadata": {
        "id": "FR07-xj0rJ83"
      },
      "execution_count": 36,
      "outputs": []
    },
    {
      "cell_type": "code",
      "source": [
        "#Training Version\n",
        "train_data= datasets.Flowers102(\n",
        "    root=\"data\", #where to download to\n",
        "    split='train', #training dataset\n",
        "    download=True, #want to download\n",
        "    transform=transform, #transform data\n",
        "    target_transform=None #transform labels\n",
        ")"
      ],
      "metadata": {
        "id": "gghSD93TUk6y"
      },
      "execution_count": 37,
      "outputs": []
    },
    {
      "cell_type": "code",
      "source": [
        "#Validation\n",
        "val_data= datasets.Flowers102(\n",
        "    root=\"data\", #where to download to\n",
        "    split='val', #training dataset\n",
        "    download=True, #want to download\n",
        "    transform=transform, #transform data\n",
        "    target_transform=None #transform labels\n",
        ")"
      ],
      "metadata": {
        "id": "CC6C5sW4XtB2"
      },
      "execution_count": 38,
      "outputs": []
    },
    {
      "cell_type": "code",
      "source": [
        "#Testing\n",
        "test_data= datasets.Flowers102(\n",
        "    root=\"data\", #where to download to\n",
        "    split='test', #training dataset\n",
        "    download=True, #want to download\n",
        "    transform=transform, #transform data\n",
        "    target_transform=None #transform labels\n",
        ")"
      ],
      "metadata": {
        "id": "MA9MxA__Zs35"
      },
      "execution_count": 39,
      "outputs": []
    },
    {
      "cell_type": "code",
      "source": [
        "'''\n",
        "#View Some data\n",
        "torch.manual_seed(42)\n",
        "fig = plt.figure(figsize=(9,9))\n",
        "rows, cols = 4, 4\n",
        "for i in range(1, rows*cols+1):\n",
        "  randIndex = torch.randint(0, len(train_data), size=[1]).item()\n",
        "  #print(randIndex)\n",
        "  image, label = train_data[randIndex]\n",
        "  fig.add_subplot(rows, cols, i)\n",
        "  #change dims from colour, height, width to height, width, col\n",
        "  image = image.permute(1,2,0)\n",
        "  plt.imshow(image, cmap=\"gray\")\n",
        "  plt.title(label)\n",
        "  plt.axis(False);\n",
        "\n",
        "'''"
      ],
      "metadata": {
        "colab": {
          "base_uri": "https://localhost:8080/",
          "height": 122
        },
        "id": "FC_CHT6oZ_hM",
        "outputId": "9bece349-a425-4106-d0a0-8f4755ffb446"
      },
      "execution_count": 40,
      "outputs": [
        {
          "output_type": "execute_result",
          "data": {
            "text/plain": [
              "'\\n#View Some data\\ntorch.manual_seed(42)\\nfig = plt.figure(figsize=(9,9))\\nrows, cols = 4, 4\\nfor i in range(1, rows*cols+1):\\n  randIndex = torch.randint(0, len(train_data), size=[1]).item()\\n  #print(randIndex)\\n  image, label = train_data[randIndex]\\n  fig.add_subplot(rows, cols, i)\\n  #change dims from colour, height, width to height, width, col\\n  image = image.permute(1,2,0)\\n  plt.imshow(image, cmap=\"gray\")\\n  plt.title(label)\\n  plt.axis(False);\\n\\n'"
            ],
            "application/vnd.google.colaboratory.intrinsic+json": {
              "type": "string"
            }
          },
          "metadata": {},
          "execution_count": 40
        }
      ]
    },
    {
      "cell_type": "markdown",
      "source": [
        "# Prep Data"
      ],
      "metadata": {
        "id": "yvOjZReHfQ-D"
      }
    },
    {
      "cell_type": "code",
      "source": [
        "from torch.utils.data import DataLoader"
      ],
      "metadata": {
        "id": "WCHjVyaIaeSh"
      },
      "execution_count": 41,
      "outputs": []
    },
    {
      "cell_type": "code",
      "source": [
        "batchSize = 32 #groups of 32 images\n",
        "\n",
        "#Turn data into iterables\n",
        "trainDataloader = DataLoader(dataset=train_data,\n",
        "                             batch_size=batchSize,\n",
        "                             shuffle=True)\n",
        "\n",
        "valDataloader = DataLoader(dataset=val_data,\n",
        "                            batch_size=batchSize,\n",
        "                            shuffle=False)\n",
        "\n",
        "testDataloader = DataLoader(dataset=test_data,\n",
        "                            batch_size=batchSize,\n",
        "                            shuffle=False)"
      ],
      "metadata": {
        "id": "HkHaKjbGqF5n"
      },
      "execution_count": 42,
      "outputs": []
    },
    {
      "cell_type": "code",
      "source": [
        "#trainFeaturesBatch, trainLabelsBatch = next(iter(trainDataloader))\n",
        "#trainFeaturesBatch.shape\n"
      ],
      "metadata": {
        "id": "t6lJcnOUqHTt"
      },
      "execution_count": 43,
      "outputs": []
    },
    {
      "cell_type": "code",
      "source": [
        "'''\n",
        "#Show sample\n",
        "torch.manual_seed(42)\n",
        "randomIndex = torch.randint(0, len(trainFeaturesBatch), size=[1]).item()\n",
        "img, label = trainFeaturesBatch[randomIndex], trainLabelsBatch[randomIndex]\n",
        "img = img.permute(1,2,0)\n",
        "plt.imshow(img, cmap=\"gray\")\n",
        "plt.title(label)\n",
        "plt.axis(False)\n",
        "'''"
      ],
      "metadata": {
        "colab": {
          "base_uri": "https://localhost:8080/",
          "height": 88
        },
        "id": "J8aK7SvNqJpa",
        "outputId": "a5e29c08-16dc-40bf-ec64-df47ed329a70"
      },
      "execution_count": 44,
      "outputs": [
        {
          "output_type": "execute_result",
          "data": {
            "text/plain": [
              "'\\n#Show sample\\ntorch.manual_seed(42)\\nrandomIndex = torch.randint(0, len(trainFeaturesBatch), size=[1]).item()\\nimg, label = trainFeaturesBatch[randomIndex], trainLabelsBatch[randomIndex]\\nimg = img.permute(1,2,0)\\nplt.imshow(img, cmap=\"gray\")\\nplt.title(label)\\nplt.axis(False)\\n'"
            ],
            "application/vnd.google.colaboratory.intrinsic+json": {
              "type": "string"
            }
          },
          "metadata": {},
          "execution_count": 44
        }
      ]
    },
    {
      "cell_type": "markdown",
      "source": [
        "# CNN"
      ],
      "metadata": {
        "id": "_R-YVpIfsOrX"
      }
    },
    {
      "cell_type": "code",
      "source": [
        "#Create CNN\n",
        "class FlowersModel(nn.Module):\n",
        "  def __init__(self, inputShape: int, hiddenUnits: int, outputShape: int):\n",
        "    super().__init__()\n",
        "    #convolutional block 1 - feature extractor\n",
        "    self.conv_block1 = nn.Sequential(\n",
        "        #create conv layer\n",
        "        nn.Conv2d(in_channels=inputShape, out_channels=hiddenUnits,\n",
        "                  kernel_size=3, stride=1, padding=1), #condv2d for 2d data\n",
        "        #values we set ourselves in NNs are hyperparameters\n",
        "\n",
        "        #ReLu Layer\n",
        "        nn.ReLU(),\n",
        "\n",
        "        #2nd conv layer\n",
        "        nn.Conv2d(in_channels=hiddenUnits, out_channels=hiddenUnits,\n",
        "                  kernel_size=3, stride=1, padding=1),\n",
        "\n",
        "        #2 ReLu Layer\n",
        "        nn.ReLU(),\n",
        "\n",
        "        #MaxPool Layer\n",
        "        nn.MaxPool2d(kernel_size=2),\n",
        "    )\n",
        "    #convolutional block 2 - feature extractor\n",
        "    self.conv_block2 = nn.Sequential(\n",
        "        #conv layer\n",
        "        nn.Conv2d(in_channels=hiddenUnits, out_channels=hiddenUnits,\n",
        "                  kernel_size=3, stride=1, padding=1),\n",
        "        #ReLu Layer\n",
        "        nn.ReLU(),\n",
        "\n",
        "        #2nd conv layer\n",
        "        nn.Conv2d(in_channels=hiddenUnits, out_channels=hiddenUnits,\n",
        "                  kernel_size=3, stride=1, padding=1),\n",
        "\n",
        "        #2 ReLu Layer\n",
        "        nn.ReLU(),\n",
        "\n",
        "        #MaxPool Layer\n",
        "        nn.MaxPool2d(kernel_size=2),\n",
        "    )\n",
        "    #convolutional block 3 - feature extractor\n",
        "    self.conv_block3 = nn.Sequential(\n",
        "        #conv layer\n",
        "        nn.Conv2d(in_channels=hiddenUnits, out_channels=hiddenUnits,\n",
        "                  kernel_size=3, stride=1, padding=1),\n",
        "        #ReLu Layer\n",
        "        nn.ReLU(),\n",
        "\n",
        "        #2nd conv layer\n",
        "        nn.Conv2d(in_channels=hiddenUnits, out_channels=hiddenUnits,\n",
        "                  kernel_size=3, stride=1, padding=1),\n",
        "\n",
        "        #2 ReLu Layer\n",
        "        nn.ReLU(),\n",
        "\n",
        "        #MaxPool Layer\n",
        "        nn.MaxPool2d(kernel_size=2),\n",
        "    )\n",
        "    #convolutional block 4 - feature extractor\n",
        "    self.conv_block4 = nn.Sequential(\n",
        "        #conv layer\n",
        "        nn.Conv2d(in_channels=hiddenUnits, out_channels=hiddenUnits,\n",
        "                  kernel_size=3, stride=1, padding=1),\n",
        "        #ReLu Layer\n",
        "        nn.ReLU(),\n",
        "\n",
        "        #2nd conv layer\n",
        "        nn.Conv2d(in_channels=hiddenUnits, out_channels=hiddenUnits,\n",
        "                  kernel_size=3, stride=1, padding=1),\n",
        "\n",
        "        #2 ReLu Layer\n",
        "        nn.ReLU(),\n",
        "\n",
        "        #MaxPool Layer\n",
        "        nn.MaxPool2d(kernel_size=2),\n",
        "    )\n",
        "    #convolutional block 5 - feature extractor\n",
        "    self.conv_block5 = nn.Sequential(\n",
        "        #conv layer\n",
        "        nn.Conv2d(in_channels=hiddenUnits, out_channels=hiddenUnits,\n",
        "                  kernel_size=3, stride=1, padding=1),\n",
        "        #ReLu Layer\n",
        "        nn.ReLU(),\n",
        "\n",
        "        #2nd conv layer\n",
        "        nn.Conv2d(in_channels=hiddenUnits, out_channels=hiddenUnits,\n",
        "                  kernel_size=3, stride=1, padding=1),\n",
        "\n",
        "        #2 ReLu Layer\n",
        "        nn.ReLU(),\n",
        "\n",
        "        #MaxPool Layer\n",
        "        nn.MaxPool2d(kernel_size=2),\n",
        "    )\n",
        "    #classifier layer\n",
        "    self.classifier = nn.Sequential(\n",
        "        nn.Flatten(),\n",
        "        nn.Linear(in_features=hiddenUnits*64*64,\n",
        "                  out_features=outputShape)\n",
        "    )\n",
        "\n",
        "  #forward\n",
        "  def forward(self, x):\n",
        "    x = self.conv_block1(x)\n",
        "    #print(x.shape)\n",
        "    x = self.conv_block2(x)\n",
        "    #print(x.shape)\n",
        "    x = self.classifier(x)\n",
        "    return x\n"
      ],
      "metadata": {
        "id": "JbAxssOcr9qG"
      },
      "execution_count": 45,
      "outputs": []
    },
    {
      "cell_type": "code",
      "source": [
        "model1 = FlowersModel(inputShape=3,\n",
        "                      hiddenUnits=102,\n",
        "                      outputShape=102).to(device)\n",
        "model1"
      ],
      "metadata": {
        "colab": {
          "base_uri": "https://localhost:8080/"
        },
        "id": "myhKP3txGAM3",
        "outputId": "260286b5-83fd-4a93-d005-307bdbae7dee"
      },
      "execution_count": 46,
      "outputs": [
        {
          "output_type": "execute_result",
          "data": {
            "text/plain": [
              "FlowersModel(\n",
              "  (conv_block1): Sequential(\n",
              "    (0): Conv2d(3, 102, kernel_size=(3, 3), stride=(1, 1), padding=(1, 1))\n",
              "    (1): ReLU()\n",
              "    (2): Conv2d(102, 102, kernel_size=(3, 3), stride=(1, 1), padding=(1, 1))\n",
              "    (3): ReLU()\n",
              "    (4): MaxPool2d(kernel_size=2, stride=2, padding=0, dilation=1, ceil_mode=False)\n",
              "  )\n",
              "  (conv_block2): Sequential(\n",
              "    (0): Conv2d(102, 102, kernel_size=(3, 3), stride=(1, 1), padding=(1, 1))\n",
              "    (1): ReLU()\n",
              "    (2): Conv2d(102, 102, kernel_size=(3, 3), stride=(1, 1), padding=(1, 1))\n",
              "    (3): ReLU()\n",
              "    (4): MaxPool2d(kernel_size=2, stride=2, padding=0, dilation=1, ceil_mode=False)\n",
              "  )\n",
              "  (conv_block3): Sequential(\n",
              "    (0): Conv2d(102, 102, kernel_size=(3, 3), stride=(1, 1), padding=(1, 1))\n",
              "    (1): ReLU()\n",
              "    (2): Conv2d(102, 102, kernel_size=(3, 3), stride=(1, 1), padding=(1, 1))\n",
              "    (3): ReLU()\n",
              "    (4): MaxPool2d(kernel_size=2, stride=2, padding=0, dilation=1, ceil_mode=False)\n",
              "  )\n",
              "  (conv_block4): Sequential(\n",
              "    (0): Conv2d(102, 102, kernel_size=(3, 3), stride=(1, 1), padding=(1, 1))\n",
              "    (1): ReLU()\n",
              "    (2): Conv2d(102, 102, kernel_size=(3, 3), stride=(1, 1), padding=(1, 1))\n",
              "    (3): ReLU()\n",
              "    (4): MaxPool2d(kernel_size=2, stride=2, padding=0, dilation=1, ceil_mode=False)\n",
              "  )\n",
              "  (conv_block5): Sequential(\n",
              "    (0): Conv2d(102, 102, kernel_size=(3, 3), stride=(1, 1), padding=(1, 1))\n",
              "    (1): ReLU()\n",
              "    (2): Conv2d(102, 102, kernel_size=(3, 3), stride=(1, 1), padding=(1, 1))\n",
              "    (3): ReLU()\n",
              "    (4): MaxPool2d(kernel_size=2, stride=2, padding=0, dilation=1, ceil_mode=False)\n",
              "  )\n",
              "  (classifier): Sequential(\n",
              "    (0): Flatten(start_dim=1, end_dim=-1)\n",
              "    (1): Linear(in_features=417792, out_features=102, bias=True)\n",
              "  )\n",
              ")"
            ]
          },
          "metadata": {},
          "execution_count": 46
        }
      ]
    },
    {
      "cell_type": "markdown",
      "source": [
        "## Loss and Optimisation"
      ],
      "metadata": {
        "id": "qCC8LKQVFfD-"
      }
    },
    {
      "cell_type": "code",
      "source": [
        "##Loss and Optimiser\n",
        "lossCalc = nn.CrossEntropyLoss()\n",
        "optimiser = torch.optim.Adam(params=model1.parameters(),\n",
        "                             lr=0.0001)"
      ],
      "metadata": {
        "id": "svXgQf_lsX63"
      },
      "execution_count": 47,
      "outputs": []
    },
    {
      "cell_type": "markdown",
      "source": [
        "## Save Model"
      ],
      "metadata": {
        "id": "g0n0HcpfUI4T"
      }
    },
    {
      "cell_type": "markdown",
      "source": [
        "# Test and Training"
      ],
      "metadata": {
        "id": "qF9T6WlwH3HP"
      }
    },
    {
      "cell_type": "markdown",
      "source": [
        "## Setup and functions"
      ],
      "metadata": {
        "id": "me5GcDk_IHgZ"
      }
    },
    {
      "cell_type": "code",
      "source": [
        "# Import tqdm for progress bar\n",
        "from tqdm.auto import tqdm"
      ],
      "metadata": {
        "id": "yBQ18n4DK5tK"
      },
      "execution_count": 48,
      "outputs": []
    },
    {
      "cell_type": "markdown",
      "source": [
        "### Timer"
      ],
      "metadata": {
        "id": "8n0fi759IEpf"
      }
    },
    {
      "cell_type": "code",
      "source": [
        "##Create Timer\n",
        "from timeit import default_timer as timer\n",
        "def printTime(start: float, end: float, device: torch.device = None):\n",
        "    totalTime = end - start\n",
        "    minutes = totalTime // 60\n",
        "    print(f\"Train time on {device}: {totalTime:.3f} seconds.\\n Roughly {minutes} minutes\")\n",
        "    return totalTime"
      ],
      "metadata": {
        "id": "FLyGJMACHf9n"
      },
      "execution_count": 49,
      "outputs": []
    },
    {
      "cell_type": "markdown",
      "source": [
        "### Accuracy"
      ],
      "metadata": {
        "id": "lawwpZUnI3Ug"
      }
    },
    {
      "cell_type": "code",
      "source": [
        "#Accuaracy Calculator\n",
        "def accuracyCalc(y_true, y_pred):\n",
        "    correct = torch.eq(y_true, y_pred).sum().item()\n",
        "    acc = (correct / len(y_pred)) * 100\n",
        "    return acc"
      ],
      "metadata": {
        "id": "jj15WKtoI5Pf"
      },
      "execution_count": 50,
      "outputs": []
    },
    {
      "cell_type": "markdown",
      "source": [
        "### Training"
      ],
      "metadata": {
        "id": "eD4sHKd0Ib6u"
      }
    },
    {
      "cell_type": "code",
      "source": [
        "#Training Function\n",
        "def trainFunction(model: torch.nn.Module,\n",
        "               dataLoader: torch.utils.data.DataLoader,\n",
        "               lossCalc: torch.nn.Module,\n",
        "               optimiser: torch.optim.Optimizer,\n",
        "               accuracyCalc,\n",
        "               device: torch.device = device):\n",
        "    trainLoss, trainAcc = 0, 0\n",
        "    for batch, (X, y) in enumerate(dataLoader):\n",
        "        #Send data to GPU\n",
        "        X, y = X.to(device), y.to(device)\n",
        "\n",
        "        #Forward pass\n",
        "        y_pred = model(X)\n",
        "\n",
        "        #Calculate loss\n",
        "        loss = lossCalc(y_pred, y)\n",
        "        trainLoss += loss\n",
        "        trainAcc += accuracyCalc(y_true=y,\n",
        "                                 y_pred=y_pred.argmax(dim=1))\n",
        "\n",
        "        #Optimizer zero grad\n",
        "        optimiser.zero_grad()\n",
        "\n",
        "        #Backpropagation\n",
        "        loss.backward()\n",
        "\n",
        "        #Optimiser step\n",
        "        optimiser.step()\n",
        "\n",
        "    # Calculate loss and accuracy per epoch\n",
        "    trainLoss /= len(dataLoader)\n",
        "    trainAcc /= len(dataLoader)\n",
        "    print(f\"Train loss: {trainLoss:.5f} | Train accuracy: {trainAcc:.2f}%\")"
      ],
      "metadata": {
        "id": "uIqpXfKWIQOi"
      },
      "execution_count": 51,
      "outputs": []
    },
    {
      "cell_type": "markdown",
      "source": [
        "### Validation"
      ],
      "metadata": {
        "id": "An98FOUaW7r3"
      }
    },
    {
      "cell_type": "code",
      "source": [
        "#Validation Function\n",
        "def valFunction(dataLoader: torch.utils.data.DataLoader,\n",
        "              model: torch.nn.Module,\n",
        "              lossCalc: torch.nn.Module,\n",
        "              accuracyCalc,\n",
        "              device: torch.device = device):\n",
        "    valLoss, valAcc = 0, 0\n",
        "    model.eval()\n",
        "    #Turn on inference context manager\n",
        "    with torch.inference_mode():\n",
        "        for X, y in dataLoader:\n",
        "            #Send data to GPU\n",
        "            X, y = X.to(device), y.to(device)\n",
        "\n",
        "            #Forward pass\n",
        "            val_pred = model(X)\n",
        "\n",
        "            #Calculate loss and accuracy\n",
        "            valLoss += lossCalc(val_pred, y)\n",
        "            valAcc += accuracyCalc(y_true=y,\n",
        "                y_pred=val_pred.argmax(dim=1)\n",
        "            )\n",
        "\n",
        "        #Adjust and display\n",
        "        valLoss /= len(dataLoader)\n",
        "        valAcc /= len(dataLoader)\n",
        "        print(f\"Val loss: {valLoss:.5f} | Val accuracy: {valAcc:.2f}%\\n\")"
      ],
      "metadata": {
        "id": "1iyX52FsW_M6"
      },
      "execution_count": 52,
      "outputs": []
    },
    {
      "cell_type": "markdown",
      "source": [
        "### Test"
      ],
      "metadata": {
        "id": "EPe6ppXqJhFL"
      }
    },
    {
      "cell_type": "code",
      "source": [
        "#Testing Function\n",
        "def testFunction(dataLoader: torch.utils.data.DataLoader,\n",
        "              model: torch.nn.Module,\n",
        "              lossCalc: torch.nn.Module,\n",
        "              accuracyCalc,\n",
        "              device: torch.device = device):\n",
        "    testLoss, testAcc = 0, 0\n",
        "    model.eval()\n",
        "    #Turn on inference context manager\n",
        "    with torch.inference_mode():\n",
        "        for X, y in dataLoader:\n",
        "            #Send data to GPU\n",
        "            X, y = X.to(device), y.to(device)\n",
        "\n",
        "            #Forward pass\n",
        "            test_pred = model(X)\n",
        "\n",
        "            #Calculate loss and accuracy\n",
        "            testLoss += lossCalc(test_pred, y)\n",
        "            testAcc += accuracyCalc(y_true=y,\n",
        "                y_pred=test_pred.argmax(dim=1)\n",
        "            )\n",
        "\n",
        "        #Adjust and display\n",
        "        testLoss /= len(dataLoader)\n",
        "        testAcc /= len(dataLoader)\n",
        "        print(f\"Test loss: {testLoss:.5f} | Test accuracy: {testAcc:.2f}%\\n\")"
      ],
      "metadata": {
        "id": "iq4-hqIzJig1"
      },
      "execution_count": 53,
      "outputs": []
    },
    {
      "cell_type": "markdown",
      "source": [
        "## Train and Test"
      ],
      "metadata": {
        "id": "vkHrJ4lbITXZ"
      }
    },
    {
      "cell_type": "code",
      "source": [
        "torch.manual_seed(42)\n",
        "\n",
        "# Measure time\n",
        "from timeit import default_timer as timer\n",
        "trainTimeStartModel1 = timer()\n",
        "\n",
        "# Train and test model\n",
        "epochs = 20\n",
        "for epoch in tqdm(range(epochs)):\n",
        "    print(f\"Epoch: {epoch}\\n---------\")\n",
        "    trainFunction(dataLoader=trainDataloader,\n",
        "        model=model1,\n",
        "        lossCalc=lossCalc,\n",
        "        optimiser=optimiser,\n",
        "        accuracyCalc=accuracyCalc,\n",
        "        device=device\n",
        "    )\n",
        "    valFunction(dataLoader=valDataloader,\n",
        "        model=model1,\n",
        "        lossCalc=lossCalc,\n",
        "        accuracyCalc=accuracyCalc,\n",
        "        device=device\n",
        "    )\n",
        "\n",
        "\n",
        "testFunction(dataLoader=testDataloader,\n",
        "    model=model1,\n",
        "    lossCalc=lossCalc,\n",
        "    accuracyCalc=accuracyCalc,\n",
        "    device=device\n",
        ")\n",
        "\n",
        "\n",
        "trainTimeEndModel1 = timer()\n",
        "totalTrainTime = printTime(start=trainTimeStartModel1,\n",
        "                           end=trainTimeEndModel1,\n",
        "                           device=device)"
      ],
      "metadata": {
        "colab": {
          "base_uri": "https://localhost:8080/",
          "height": 1000,
          "referenced_widgets": [
            "213c2f6445c2431dacbd89fbec4badec",
            "d82c7968b98e4d6a88780defc2fa34fa",
            "994192138c854f1bbb821e816b5652ac",
            "213a1ce3a18b46f79099907d6194cb62",
            "a924f49967d24fa68eb6fbe1f88f15e5",
            "cc5510ece9a14145b6e2e12a958a153b",
            "6ab473c164cb4ef59ff47541e56783e8",
            "73f1d6b7fff74a01be2db4b36da2f9a3",
            "9bb2779a4b0b485faa1da95a027d4df7",
            "e1c86fbcaae34f348bc11af323fad7d6",
            "7eb1c24d600748a297fc7ca6149f7c5d"
          ]
        },
        "id": "Yz8MtaLcIVDI",
        "outputId": "93908813-d6cf-4b2e-9459-98b9f65468e5"
      },
      "execution_count": 54,
      "outputs": [
        {
          "data": {
            "application/vnd.jupyter.widget-view+json": {
              "model_id": "213c2f6445c2431dacbd89fbec4badec",
              "version_major": 2,
              "version_minor": 0
            },
            "text/plain": [
              "  0%|          | 0/20 [00:00<?, ?it/s]"
            ]
          },
          "metadata": {},
          "output_type": "display_data"
        },
        {
          "output_type": "stream",
          "name": "stdout",
          "text": [
            "Epoch: 0\n",
            "---------\n",
            "Train loss: 4.62946 | Train accuracy: 0.39%\n",
            "Val loss: 4.62332 | Val accuracy: 1.07%\n",
            "\n",
            "Epoch: 1\n",
            "---------\n",
            "Train loss: 4.62449 | Train accuracy: 0.88%\n",
            "Val loss: 4.62097 | Val accuracy: 1.76%\n",
            "\n",
            "Epoch: 2\n",
            "---------\n",
            "Train loss: 4.62125 | Train accuracy: 1.87%\n",
            "Val loss: 4.61828 | Val accuracy: 1.86%\n",
            "\n",
            "Epoch: 3\n",
            "---------\n",
            "Train loss: 4.61813 | Train accuracy: 2.05%\n",
            "Val loss: 4.61518 | Val accuracy: 4.41%\n",
            "\n",
            "Epoch: 4\n",
            "---------\n",
            "Train loss: 4.61359 | Train accuracy: 3.91%\n",
            "Val loss: 4.61108 | Val accuracy: 3.93%\n",
            "\n",
            "Epoch: 5\n",
            "---------\n",
            "Train loss: 4.60853 | Train accuracy: 5.30%\n",
            "Val loss: 4.60572 | Val accuracy: 4.92%\n",
            "\n",
            "Epoch: 6\n",
            "---------\n",
            "Train loss: 4.60185 | Train accuracy: 5.09%\n",
            "Val loss: 4.60043 | Val accuracy: 4.39%\n",
            "\n",
            "Epoch: 7\n",
            "---------\n",
            "Train loss: 4.59373 | Train accuracy: 6.40%\n",
            "Val loss: 4.59255 | Val accuracy: 5.97%\n",
            "\n",
            "Epoch: 8\n",
            "---------\n",
            "Train loss: 4.58485 | Train accuracy: 5.66%\n",
            "Val loss: 4.58399 | Val accuracy: 4.69%\n",
            "\n",
            "Epoch: 9\n",
            "---------\n",
            "Train loss: 4.57178 | Train accuracy: 5.47%\n",
            "Val loss: 4.57308 | Val accuracy: 5.08%\n",
            "\n",
            "Epoch: 10\n",
            "---------\n",
            "Train loss: 4.55895 | Train accuracy: 7.09%\n",
            "Val loss: 4.56167 | Val accuracy: 6.74%\n",
            "\n",
            "Epoch: 11\n",
            "---------\n",
            "Train loss: 4.54173 | Train accuracy: 8.91%\n",
            "Val loss: 4.54665 | Val accuracy: 4.98%\n",
            "\n",
            "Epoch: 12\n",
            "---------\n",
            "Train loss: 4.52290 | Train accuracy: 8.31%\n",
            "Val loss: 4.53061 | Val accuracy: 5.76%\n",
            "\n",
            "Epoch: 13\n",
            "---------\n",
            "Train loss: 4.50382 | Train accuracy: 10.31%\n",
            "Val loss: 4.51296 | Val accuracy: 7.52%\n",
            "\n",
            "Epoch: 14\n",
            "---------\n",
            "Train loss: 4.48142 | Train accuracy: 10.37%\n",
            "Val loss: 4.49036 | Val accuracy: 7.73%\n",
            "\n",
            "Epoch: 15\n",
            "---------\n",
            "Train loss: 4.45143 | Train accuracy: 10.59%\n",
            "Val loss: 4.46611 | Val accuracy: 6.36%\n",
            "\n",
            "Epoch: 16\n",
            "---------\n",
            "Train loss: 4.42181 | Train accuracy: 11.84%\n",
            "Val loss: 4.44095 | Val accuracy: 7.23%\n",
            "\n",
            "Epoch: 17\n",
            "---------\n",
            "Train loss: 4.38849 | Train accuracy: 11.96%\n",
            "Val loss: 4.41280 | Val accuracy: 7.81%\n",
            "\n",
            "Epoch: 18\n",
            "---------\n",
            "Train loss: 4.34934 | Train accuracy: 12.42%\n",
            "Val loss: 4.37718 | Val accuracy: 8.98%\n",
            "\n",
            "Epoch: 19\n",
            "---------\n",
            "Train loss: 4.31231 | Train accuracy: 13.50%\n",
            "Val loss: 4.35048 | Val accuracy: 9.00%\n",
            "\n",
            "Test loss: 4.37259 | Test accuracy: 7.34%\n",
            "\n",
            "Train time on cuda: 1518.298 seconds.\n",
            " Roughly 25.0 minutes\n"
          ]
        }
      ]
    },
    {
      "cell_type": "markdown",
      "source": [
        "## Save Model\n",
        "\n",
        "1. `torch.save()` - saving and loading object, save in pythons's pickle format\n",
        "\n",
        "2. `torch.load()` - load with pickle\n",
        "\n",
        "3. `torch.nn.Module.load_state_dict()` - load models saved state dictionary"
      ],
      "metadata": {
        "id": "J75AgwqQIHpF"
      }
    },
    {
      "cell_type": "code",
      "source": [
        "torch.save(model1.state_dict(), './CNNModel.pth')"
      ],
      "metadata": {
        "id": "h1TnUjP9IRhZ"
      },
      "execution_count": 55,
      "outputs": []
    },
    {
      "cell_type": "markdown",
      "source": [
        "### Predictions\n"
      ],
      "metadata": {
        "id": "1syrnq9VeRIs"
      }
    },
    {
      "cell_type": "code",
      "source": [
        "def makePredictions(model: torch.nn.Module,\n",
        "                    data: list,\n",
        "                    device: torch.device = device):\n",
        "  predProbs = []\n",
        "  model.eval()\n",
        "  with torch.inference_mode():\n",
        "    for sample in data:\n",
        "      #prep sample\n",
        "      sample = torch.unsqueeze(sample, dim=0).to(device)\n",
        "\n",
        "      #forward pass\n",
        "      predLogit = model(sample)\n",
        "\n",
        "      #prediction prob\n",
        "      predProb = torch.softmax(predLogit.squeeze(), dim=0)\n",
        "\n",
        "      #Get pred prob off GPU\n",
        "      predProbs.append(predProb.cpu())\n",
        "  #Stack all\n",
        "  return torch.stack(predProbs)\n"
      ],
      "metadata": {
        "id": "YXk1c4FUeUyi"
      },
      "execution_count": 56,
      "outputs": []
    },
    {
      "cell_type": "code",
      "source": [
        "import random\n",
        "random.seed(42)\n",
        "testSamples = []\n",
        "testLabels= []\n",
        "for sample, label in random.sample(list(test_data), k=9):\n",
        "  testSamples.append(sample)\n",
        "  testLabels.append(label)\n",
        "\n"
      ],
      "metadata": {
        "id": "hGanpAJtfqC1"
      },
      "execution_count": 57,
      "outputs": []
    },
    {
      "cell_type": "code",
      "source": [
        "#Make predictions\n",
        "predProbs = makePredictions(model=model1,\n",
        "                            data=testSamples)\n",
        "\n",
        "predProbs[:10]"
      ],
      "metadata": {
        "id": "I_zkEPGfmg5G"
      },
      "execution_count": null,
      "outputs": []
    },
    {
      "cell_type": "code",
      "source": [
        "#Convert to labels\n",
        "predClass = predProbs.argmax(dim=1)"
      ],
      "metadata": {
        "id": "GiqEL14mm20Z"
      },
      "execution_count": null,
      "outputs": []
    },
    {
      "cell_type": "code",
      "source": [
        "plt.figure(figsize=(9,9))\n",
        "nrows= 3\n",
        "ncols = 3\n",
        "for i, sample in enumerate(testSamples):\n",
        "  plt.subplot(nrows, ncols, i+1)\n",
        "\n",
        "  changedSample = sample.permute(1,2,0)\n",
        "  plt.imshow(changedSample.squeeze())\n",
        "\n",
        "  #Pred label\n",
        "  predLabel = predClass[i]\n",
        "  #Get truth label\n",
        "  truthLabel = testLabels[i]\n",
        "\n",
        "  #check for equality\n",
        "  if truthLabel == predLabel:\n",
        "    plt.title(\"True\")\n",
        "  else:\n",
        "    plt.title(f\"False. True Label: {truthLabel}, Pred:{predLabel}\")"
      ],
      "metadata": {
        "id": "6MV2SIKSnG1-"
      },
      "execution_count": null,
      "outputs": []
    },
    {
      "cell_type": "markdown",
      "source": [],
      "metadata": {
        "id": "v45TSYgqgESe"
      }
    },
    {
      "cell_type": "markdown",
      "source": [
        "# End\n",
        "\n",
        "Chris says mess with:\n",
        "* Hyperparameters\n",
        "* Transforms (as many as POSSIBLE :D)\n",
        "* Optimisers (learning rate, weight decay, etc.)"
      ],
      "metadata": {
        "id": "oU-IQbBTYZuU"
      }
    },
    {
      "cell_type": "code",
      "source": [],
      "metadata": {
        "id": "7KeBx6Lib3Je"
      },
      "execution_count": 60,
      "outputs": []
    }
  ]
}