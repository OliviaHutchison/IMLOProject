{
  "nbformat": 4,
  "nbformat_minor": 0,
  "metadata": {
    "colab": {
      "provenance": [],
      "gpuType": "T4",
      "machine_shape": "hm",
      "authorship_tag": "ABX9TyPYo18tGJoHWctIUkN8Q3fr",
      "include_colab_link": true
    },
    "kernelspec": {
      "name": "python3",
      "display_name": "Python 3"
    },
    "language_info": {
      "name": "python"
    },
    "accelerator": "GPU",
    "widgets": {
      "application/vnd.jupyter.widget-state+json": {
        "89073fe9c8b747bd9afb6e51cf73bd3c": {
          "model_module": "@jupyter-widgets/controls",
          "model_name": "HBoxModel",
          "model_module_version": "1.5.0",
          "state": {
            "_dom_classes": [],
            "_model_module": "@jupyter-widgets/controls",
            "_model_module_version": "1.5.0",
            "_model_name": "HBoxModel",
            "_view_count": null,
            "_view_module": "@jupyter-widgets/controls",
            "_view_module_version": "1.5.0",
            "_view_name": "HBoxView",
            "box_style": "",
            "children": [
              "IPY_MODEL_d33b327b6a1e455c924e083d63f8c87b",
              "IPY_MODEL_4d22eec41ee84027a4186c9b5e33aec5",
              "IPY_MODEL_3c8be775bc1e44138aa00bb98e6fa7db"
            ],
            "layout": "IPY_MODEL_d78b8447f8db4a6287f12345c16a6f91"
          }
        },
        "d33b327b6a1e455c924e083d63f8c87b": {
          "model_module": "@jupyter-widgets/controls",
          "model_name": "HTMLModel",
          "model_module_version": "1.5.0",
          "state": {
            "_dom_classes": [],
            "_model_module": "@jupyter-widgets/controls",
            "_model_module_version": "1.5.0",
            "_model_name": "HTMLModel",
            "_view_count": null,
            "_view_module": "@jupyter-widgets/controls",
            "_view_module_version": "1.5.0",
            "_view_name": "HTMLView",
            "description": "",
            "description_tooltip": null,
            "layout": "IPY_MODEL_ea7919a9533e4caabfd0041934b8832e",
            "placeholder": "​",
            "style": "IPY_MODEL_f696489104534fb3a4217bb109ec95f0",
            "value": "100%"
          }
        },
        "4d22eec41ee84027a4186c9b5e33aec5": {
          "model_module": "@jupyter-widgets/controls",
          "model_name": "FloatProgressModel",
          "model_module_version": "1.5.0",
          "state": {
            "_dom_classes": [],
            "_model_module": "@jupyter-widgets/controls",
            "_model_module_version": "1.5.0",
            "_model_name": "FloatProgressModel",
            "_view_count": null,
            "_view_module": "@jupyter-widgets/controls",
            "_view_module_version": "1.5.0",
            "_view_name": "ProgressView",
            "bar_style": "success",
            "description": "",
            "description_tooltip": null,
            "layout": "IPY_MODEL_d54f1f1bc70c45199def020c29179670",
            "max": 10,
            "min": 0,
            "orientation": "horizontal",
            "style": "IPY_MODEL_4e25ea04d6b14049972f0418a388f396",
            "value": 10
          }
        },
        "3c8be775bc1e44138aa00bb98e6fa7db": {
          "model_module": "@jupyter-widgets/controls",
          "model_name": "HTMLModel",
          "model_module_version": "1.5.0",
          "state": {
            "_dom_classes": [],
            "_model_module": "@jupyter-widgets/controls",
            "_model_module_version": "1.5.0",
            "_model_name": "HTMLModel",
            "_view_count": null,
            "_view_module": "@jupyter-widgets/controls",
            "_view_module_version": "1.5.0",
            "_view_name": "HTMLView",
            "description": "",
            "description_tooltip": null,
            "layout": "IPY_MODEL_ea18cd524d5a441e8bc3e2acf1b7e7a1",
            "placeholder": "​",
            "style": "IPY_MODEL_7b350b49a0d0402091d31308448e8227",
            "value": " 10/10 [11:52&lt;00:00, 71.22s/it]"
          }
        },
        "d78b8447f8db4a6287f12345c16a6f91": {
          "model_module": "@jupyter-widgets/base",
          "model_name": "LayoutModel",
          "model_module_version": "1.2.0",
          "state": {
            "_model_module": "@jupyter-widgets/base",
            "_model_module_version": "1.2.0",
            "_model_name": "LayoutModel",
            "_view_count": null,
            "_view_module": "@jupyter-widgets/base",
            "_view_module_version": "1.2.0",
            "_view_name": "LayoutView",
            "align_content": null,
            "align_items": null,
            "align_self": null,
            "border": null,
            "bottom": null,
            "display": null,
            "flex": null,
            "flex_flow": null,
            "grid_area": null,
            "grid_auto_columns": null,
            "grid_auto_flow": null,
            "grid_auto_rows": null,
            "grid_column": null,
            "grid_gap": null,
            "grid_row": null,
            "grid_template_areas": null,
            "grid_template_columns": null,
            "grid_template_rows": null,
            "height": null,
            "justify_content": null,
            "justify_items": null,
            "left": null,
            "margin": null,
            "max_height": null,
            "max_width": null,
            "min_height": null,
            "min_width": null,
            "object_fit": null,
            "object_position": null,
            "order": null,
            "overflow": null,
            "overflow_x": null,
            "overflow_y": null,
            "padding": null,
            "right": null,
            "top": null,
            "visibility": null,
            "width": null
          }
        },
        "ea7919a9533e4caabfd0041934b8832e": {
          "model_module": "@jupyter-widgets/base",
          "model_name": "LayoutModel",
          "model_module_version": "1.2.0",
          "state": {
            "_model_module": "@jupyter-widgets/base",
            "_model_module_version": "1.2.0",
            "_model_name": "LayoutModel",
            "_view_count": null,
            "_view_module": "@jupyter-widgets/base",
            "_view_module_version": "1.2.0",
            "_view_name": "LayoutView",
            "align_content": null,
            "align_items": null,
            "align_self": null,
            "border": null,
            "bottom": null,
            "display": null,
            "flex": null,
            "flex_flow": null,
            "grid_area": null,
            "grid_auto_columns": null,
            "grid_auto_flow": null,
            "grid_auto_rows": null,
            "grid_column": null,
            "grid_gap": null,
            "grid_row": null,
            "grid_template_areas": null,
            "grid_template_columns": null,
            "grid_template_rows": null,
            "height": null,
            "justify_content": null,
            "justify_items": null,
            "left": null,
            "margin": null,
            "max_height": null,
            "max_width": null,
            "min_height": null,
            "min_width": null,
            "object_fit": null,
            "object_position": null,
            "order": null,
            "overflow": null,
            "overflow_x": null,
            "overflow_y": null,
            "padding": null,
            "right": null,
            "top": null,
            "visibility": null,
            "width": null
          }
        },
        "f696489104534fb3a4217bb109ec95f0": {
          "model_module": "@jupyter-widgets/controls",
          "model_name": "DescriptionStyleModel",
          "model_module_version": "1.5.0",
          "state": {
            "_model_module": "@jupyter-widgets/controls",
            "_model_module_version": "1.5.0",
            "_model_name": "DescriptionStyleModel",
            "_view_count": null,
            "_view_module": "@jupyter-widgets/base",
            "_view_module_version": "1.2.0",
            "_view_name": "StyleView",
            "description_width": ""
          }
        },
        "d54f1f1bc70c45199def020c29179670": {
          "model_module": "@jupyter-widgets/base",
          "model_name": "LayoutModel",
          "model_module_version": "1.2.0",
          "state": {
            "_model_module": "@jupyter-widgets/base",
            "_model_module_version": "1.2.0",
            "_model_name": "LayoutModel",
            "_view_count": null,
            "_view_module": "@jupyter-widgets/base",
            "_view_module_version": "1.2.0",
            "_view_name": "LayoutView",
            "align_content": null,
            "align_items": null,
            "align_self": null,
            "border": null,
            "bottom": null,
            "display": null,
            "flex": null,
            "flex_flow": null,
            "grid_area": null,
            "grid_auto_columns": null,
            "grid_auto_flow": null,
            "grid_auto_rows": null,
            "grid_column": null,
            "grid_gap": null,
            "grid_row": null,
            "grid_template_areas": null,
            "grid_template_columns": null,
            "grid_template_rows": null,
            "height": null,
            "justify_content": null,
            "justify_items": null,
            "left": null,
            "margin": null,
            "max_height": null,
            "max_width": null,
            "min_height": null,
            "min_width": null,
            "object_fit": null,
            "object_position": null,
            "order": null,
            "overflow": null,
            "overflow_x": null,
            "overflow_y": null,
            "padding": null,
            "right": null,
            "top": null,
            "visibility": null,
            "width": null
          }
        },
        "4e25ea04d6b14049972f0418a388f396": {
          "model_module": "@jupyter-widgets/controls",
          "model_name": "ProgressStyleModel",
          "model_module_version": "1.5.0",
          "state": {
            "_model_module": "@jupyter-widgets/controls",
            "_model_module_version": "1.5.0",
            "_model_name": "ProgressStyleModel",
            "_view_count": null,
            "_view_module": "@jupyter-widgets/base",
            "_view_module_version": "1.2.0",
            "_view_name": "StyleView",
            "bar_color": null,
            "description_width": ""
          }
        },
        "ea18cd524d5a441e8bc3e2acf1b7e7a1": {
          "model_module": "@jupyter-widgets/base",
          "model_name": "LayoutModel",
          "model_module_version": "1.2.0",
          "state": {
            "_model_module": "@jupyter-widgets/base",
            "_model_module_version": "1.2.0",
            "_model_name": "LayoutModel",
            "_view_count": null,
            "_view_module": "@jupyter-widgets/base",
            "_view_module_version": "1.2.0",
            "_view_name": "LayoutView",
            "align_content": null,
            "align_items": null,
            "align_self": null,
            "border": null,
            "bottom": null,
            "display": null,
            "flex": null,
            "flex_flow": null,
            "grid_area": null,
            "grid_auto_columns": null,
            "grid_auto_flow": null,
            "grid_auto_rows": null,
            "grid_column": null,
            "grid_gap": null,
            "grid_row": null,
            "grid_template_areas": null,
            "grid_template_columns": null,
            "grid_template_rows": null,
            "height": null,
            "justify_content": null,
            "justify_items": null,
            "left": null,
            "margin": null,
            "max_height": null,
            "max_width": null,
            "min_height": null,
            "min_width": null,
            "object_fit": null,
            "object_position": null,
            "order": null,
            "overflow": null,
            "overflow_x": null,
            "overflow_y": null,
            "padding": null,
            "right": null,
            "top": null,
            "visibility": null,
            "width": null
          }
        },
        "7b350b49a0d0402091d31308448e8227": {
          "model_module": "@jupyter-widgets/controls",
          "model_name": "DescriptionStyleModel",
          "model_module_version": "1.5.0",
          "state": {
            "_model_module": "@jupyter-widgets/controls",
            "_model_module_version": "1.5.0",
            "_model_name": "DescriptionStyleModel",
            "_view_count": null,
            "_view_module": "@jupyter-widgets/base",
            "_view_module_version": "1.2.0",
            "_view_name": "StyleView",
            "description_width": ""
          }
        }
      }
    }
  },
  "cells": [
    {
      "cell_type": "markdown",
      "metadata": {
        "id": "view-in-github",
        "colab_type": "text"
      },
      "source": [
        "<a href=\"https://colab.research.google.com/github/OliviaHutchison/IMLOProject/blob/main/CNN_Model.ipynb\" target=\"_parent\"><img src=\"https://colab.research.google.com/assets/colab-badge.svg\" alt=\"Open In Colab\"/></a>"
      ]
    },
    {
      "cell_type": "markdown",
      "source": [
        "# Imports + Setup"
      ],
      "metadata": {
        "id": "fYtvqfkHUhqb"
      }
    },
    {
      "cell_type": "code",
      "source": [
        "#check for GPU access with PyTorch\n",
        "import torch\n",
        "torch.cuda.is_available()"
      ],
      "metadata": {
        "colab": {
          "base_uri": "https://localhost:8080/"
        },
        "id": "PPcBFYjpG5CR",
        "outputId": "b92dd012-bdb0-45ae-d9d6-0c1c14fcee42"
      },
      "execution_count": 1,
      "outputs": [
        {
          "output_type": "execute_result",
          "data": {
            "text/plain": [
              "True"
            ]
          },
          "metadata": {},
          "execution_count": 1
        }
      ]
    },
    {
      "cell_type": "code",
      "source": [
        "#setup DAC\n",
        "device = \"cuda\" if torch.cuda.is_available() else \"cpu\"\n",
        "device"
      ],
      "metadata": {
        "colab": {
          "base_uri": "https://localhost:8080/",
          "height": 36
        },
        "id": "hh1ajbMjG7re",
        "outputId": "04acb4c1-1087-4e10-babf-fbef48542be9"
      },
      "execution_count": 2,
      "outputs": [
        {
          "output_type": "execute_result",
          "data": {
            "text/plain": [
              "'cuda'"
            ],
            "application/vnd.google.colaboratory.intrinsic+json": {
              "type": "string"
            }
          },
          "metadata": {},
          "execution_count": 2
        }
      ]
    },
    {
      "cell_type": "code",
      "source": [
        "#Import PyTorch\n",
        "import torch\n",
        "from torch import nn\n",
        "\n",
        "#Torchvision\n",
        "import torchvision\n",
        "from torchvision import datasets\n",
        "from torchvision import transforms\n",
        "from torchvision.transforms import ToTensor, Resize\n",
        "\n",
        "#Visualisation\n",
        "import matplotlib.pyplot as plt\n",
        "\n",
        "#Version check\n",
        "print(torch.__version__)\n",
        "print(torchvision.__version__)"
      ],
      "metadata": {
        "colab": {
          "base_uri": "https://localhost:8080/"
        },
        "id": "Me46htQ3Ud_X",
        "outputId": "8be27842-8f81-4a51-a306-652d729a336a"
      },
      "execution_count": 3,
      "outputs": [
        {
          "output_type": "stream",
          "name": "stdout",
          "text": [
            "2.2.1+cu121\n",
            "0.17.1+cu121\n"
          ]
        }
      ]
    },
    {
      "cell_type": "markdown",
      "source": [
        "# Get Dataset"
      ],
      "metadata": {
        "id": "wiil7GwmUlbL"
      }
    },
    {
      "cell_type": "code",
      "source": [
        "transform = transforms.Compose([\n",
        "    ToTensor(),\n",
        "    transforms.Normalize((0.5, 0.5, 0.5),(0.5, 0.5, 0.5)),\n",
        "    Resize((256, 256))\n",
        "])"
      ],
      "metadata": {
        "id": "FR07-xj0rJ83"
      },
      "execution_count": 4,
      "outputs": []
    },
    {
      "cell_type": "code",
      "source": [
        "#Training Version\n",
        "train_data= datasets.Flowers102(\n",
        "    root=\"data\", #where to download to\n",
        "    split='train', #training dataset\n",
        "    download=True, #want to download\n",
        "    transform=transform, #transform data\n",
        "    target_transform=None #transform labels\n",
        ")"
      ],
      "metadata": {
        "id": "gghSD93TUk6y"
      },
      "execution_count": 5,
      "outputs": []
    },
    {
      "cell_type": "code",
      "source": [
        "#Validation\n",
        "val_data= datasets.Flowers102(\n",
        "    root=\"data\", #where to download to\n",
        "    split='val', #training dataset\n",
        "    download=True, #want to download\n",
        "    transform=transform, #transform data\n",
        "    target_transform=None #transform labels\n",
        ")"
      ],
      "metadata": {
        "id": "CC6C5sW4XtB2"
      },
      "execution_count": 6,
      "outputs": []
    },
    {
      "cell_type": "code",
      "source": [
        "#Testing\n",
        "test_data= datasets.Flowers102(\n",
        "    root=\"data\", #where to download to\n",
        "    split='test', #training dataset\n",
        "    download=True, #want to download\n",
        "    transform=transform, #transform data\n",
        "    target_transform=None #transform labels\n",
        ")"
      ],
      "metadata": {
        "id": "MA9MxA__Zs35"
      },
      "execution_count": 7,
      "outputs": []
    },
    {
      "cell_type": "code",
      "source": [
        "'''\n",
        "#View Some data\n",
        "torch.manual_seed(42)\n",
        "fig = plt.figure(figsize=(9,9))\n",
        "rows, cols = 4, 4\n",
        "for i in range(1, rows*cols+1):\n",
        "  randIndex = torch.randint(0, len(train_data), size=[1]).item()\n",
        "  #print(randIndex)\n",
        "  image, label = train_data[randIndex]\n",
        "  fig.add_subplot(rows, cols, i)\n",
        "  #change dims from colour, height, width to height, width, col\n",
        "  image = image.permute(1,2,0)\n",
        "  plt.imshow(image, cmap=\"gray\")\n",
        "  plt.title(label)\n",
        "  plt.axis(False);\n",
        "\n",
        "'''"
      ],
      "metadata": {
        "colab": {
          "base_uri": "https://localhost:8080/",
          "height": 122
        },
        "id": "FC_CHT6oZ_hM",
        "outputId": "edd32834-a487-4d66-c555-1057bb4d0817"
      },
      "execution_count": 8,
      "outputs": [
        {
          "output_type": "execute_result",
          "data": {
            "text/plain": [
              "'\\n#View Some data\\ntorch.manual_seed(42)\\nfig = plt.figure(figsize=(9,9))\\nrows, cols = 4, 4\\nfor i in range(1, rows*cols+1):\\n  randIndex = torch.randint(0, len(train_data), size=[1]).item()\\n  #print(randIndex)\\n  image, label = train_data[randIndex]\\n  fig.add_subplot(rows, cols, i)\\n  #change dims from colour, height, width to height, width, col\\n  image = image.permute(1,2,0)\\n  plt.imshow(image, cmap=\"gray\")\\n  plt.title(label)\\n  plt.axis(False);\\n\\n'"
            ],
            "application/vnd.google.colaboratory.intrinsic+json": {
              "type": "string"
            }
          },
          "metadata": {},
          "execution_count": 8
        }
      ]
    },
    {
      "cell_type": "markdown",
      "source": [
        "# Prep Data"
      ],
      "metadata": {
        "id": "yvOjZReHfQ-D"
      }
    },
    {
      "cell_type": "code",
      "source": [
        "from torch.utils.data import DataLoader"
      ],
      "metadata": {
        "id": "WCHjVyaIaeSh"
      },
      "execution_count": 9,
      "outputs": []
    },
    {
      "cell_type": "code",
      "source": [
        "batchSize = 32 #groups of 32 images\n",
        "\n",
        "#Turn data into iterables\n",
        "trainDataloader = DataLoader(dataset=train_data,\n",
        "                             batch_size=batchSize,\n",
        "                             shuffle=True)\n",
        "\n",
        "testDataloader = DataLoader(dataset=test_data,\n",
        "                            batch_size=batchSize,\n",
        "                            shuffle=False)"
      ],
      "metadata": {
        "id": "HkHaKjbGqF5n"
      },
      "execution_count": 10,
      "outputs": []
    },
    {
      "cell_type": "code",
      "source": [
        "#trainFeaturesBatch, trainLabelsBatch = next(iter(trainDataloader))\n",
        "#trainFeaturesBatch.shape\n"
      ],
      "metadata": {
        "id": "t6lJcnOUqHTt"
      },
      "execution_count": 11,
      "outputs": []
    },
    {
      "cell_type": "code",
      "source": [
        "'''\n",
        "#Show sample\n",
        "torch.manual_seed(42)\n",
        "randomIndex = torch.randint(0, len(trainFeaturesBatch), size=[1]).item()\n",
        "img, label = trainFeaturesBatch[randomIndex], trainLabelsBatch[randomIndex]\n",
        "img = img.permute(1,2,0)\n",
        "plt.imshow(img, cmap=\"gray\")\n",
        "plt.title(label)\n",
        "plt.axis(False)\n",
        "'''"
      ],
      "metadata": {
        "colab": {
          "base_uri": "https://localhost:8080/",
          "height": 88
        },
        "id": "J8aK7SvNqJpa",
        "outputId": "fb0bf5ff-7d9f-401f-dc09-c4cdc34c37f4"
      },
      "execution_count": 12,
      "outputs": [
        {
          "output_type": "execute_result",
          "data": {
            "text/plain": [
              "'\\n#Show sample\\ntorch.manual_seed(42)\\nrandomIndex = torch.randint(0, len(trainFeaturesBatch), size=[1]).item()\\nimg, label = trainFeaturesBatch[randomIndex], trainLabelsBatch[randomIndex]\\nimg = img.permute(1,2,0)\\nplt.imshow(img, cmap=\"gray\")\\nplt.title(label)\\nplt.axis(False)\\n'"
            ],
            "application/vnd.google.colaboratory.intrinsic+json": {
              "type": "string"
            }
          },
          "metadata": {},
          "execution_count": 12
        }
      ]
    },
    {
      "cell_type": "markdown",
      "source": [
        "# CNN"
      ],
      "metadata": {
        "id": "_R-YVpIfsOrX"
      }
    },
    {
      "cell_type": "code",
      "source": [
        "#Create CNN\n",
        "class FlowersModel(nn.Module):\n",
        "  def __init__(self, inputShape: int, hiddenUnits: int, outputShape: int):\n",
        "    super().__init__()\n",
        "    #convolutional block 1 - feature extractor\n",
        "    self.conv_block1 = nn.Sequential(\n",
        "        #create conv layer\n",
        "        nn.Conv2d(in_channels=inputShape, out_channels=hiddenUnits,\n",
        "                  kernel_size=3, stride=1, padding=1), #condv2d for 2d data\n",
        "        #values we set ourselves in NNs are hyperparameters\n",
        "\n",
        "        #ReLu Layer\n",
        "        nn.ReLU(),\n",
        "\n",
        "        #2nd conv layer\n",
        "        nn.Conv2d(in_channels=hiddenUnits, out_channels=hiddenUnits,\n",
        "                  kernel_size=3, stride=1, padding=1),\n",
        "\n",
        "        #2 ReLu Layer\n",
        "        nn.ReLU(),\n",
        "\n",
        "        #MaxPool Layer\n",
        "        nn.MaxPool2d(kernel_size=2),\n",
        "    )\n",
        "    #convolutional block 2 - feature extractor\n",
        "    self.conv_block2 = nn.Sequential(\n",
        "        #conv layer\n",
        "        nn.Conv2d(in_channels=hiddenUnits, out_channels=hiddenUnits,\n",
        "                  kernel_size=3, stride=1, padding=1),\n",
        "        #ReLu Layer\n",
        "        nn.ReLU(),\n",
        "\n",
        "        #2nd conv layer\n",
        "        nn.Conv2d(in_channels=hiddenUnits, out_channels=hiddenUnits,\n",
        "                  kernel_size=3, stride=1, padding=1),\n",
        "\n",
        "        #2 ReLu Layer\n",
        "        nn.ReLU(),\n",
        "\n",
        "        #MaxPool Layer\n",
        "        nn.MaxPool2d(kernel_size=2),\n",
        "    )\n",
        "    #convolutional block 3 - feature extractor\n",
        "    self.conv_block3 = nn.Sequential(\n",
        "        #conv layer\n",
        "        nn.Conv2d(in_channels=hiddenUnits, out_channels=hiddenUnits,\n",
        "                  kernel_size=3, stride=1, padding=1),\n",
        "        #ReLu Layer\n",
        "        nn.ReLU(),\n",
        "\n",
        "        #2nd conv layer\n",
        "        nn.Conv2d(in_channels=hiddenUnits, out_channels=hiddenUnits,\n",
        "                  kernel_size=3, stride=1, padding=1),\n",
        "\n",
        "        #2 ReLu Layer\n",
        "        nn.ReLU(),\n",
        "\n",
        "        #MaxPool Layer\n",
        "        nn.MaxPool2d(kernel_size=2),\n",
        "    )\n",
        "    #convolutional block 4 - feature extractor\n",
        "    self.conv_block4 = nn.Sequential(\n",
        "        #conv layer\n",
        "        nn.Conv2d(in_channels=hiddenUnits, out_channels=hiddenUnits,\n",
        "                  kernel_size=3, stride=1, padding=1),\n",
        "        #ReLu Layer\n",
        "        nn.ReLU(),\n",
        "\n",
        "        #2nd conv layer\n",
        "        nn.Conv2d(in_channels=hiddenUnits, out_channels=hiddenUnits,\n",
        "                  kernel_size=3, stride=1, padding=1),\n",
        "\n",
        "        #2 ReLu Layer\n",
        "        nn.ReLU(),\n",
        "\n",
        "        #MaxPool Layer\n",
        "        nn.MaxPool2d(kernel_size=2),\n",
        "    )\n",
        "    #classifier layer\n",
        "    self.classifier = nn.Sequential(\n",
        "        nn.Flatten(),\n",
        "        nn.Linear(in_features=hiddenUnits*64*64,\n",
        "                  out_features=outputShape)\n",
        "    )\n",
        "\n",
        "  #forward\n",
        "  def forward(self, x):\n",
        "    x = self.conv_block1(x)\n",
        "    #print(x.shape)\n",
        "    x = self.conv_block2(x)\n",
        "    #print(x.shape)\n",
        "    x = self.classifier(x)\n",
        "    return x\n"
      ],
      "metadata": {
        "id": "JbAxssOcr9qG"
      },
      "execution_count": 13,
      "outputs": []
    },
    {
      "cell_type": "code",
      "source": [
        "model1 = FlowersModel(inputShape=3,\n",
        "                      hiddenUnits=102,\n",
        "                      outputShape=102).to(device)\n",
        "model1"
      ],
      "metadata": {
        "colab": {
          "base_uri": "https://localhost:8080/"
        },
        "id": "myhKP3txGAM3",
        "outputId": "91d23216-f91b-4165-f751-afe8b68eee7e"
      },
      "execution_count": 14,
      "outputs": [
        {
          "output_type": "execute_result",
          "data": {
            "text/plain": [
              "FlowersModel(\n",
              "  (conv_block1): Sequential(\n",
              "    (0): Conv2d(3, 102, kernel_size=(3, 3), stride=(1, 1), padding=(1, 1))\n",
              "    (1): ReLU()\n",
              "    (2): Conv2d(102, 102, kernel_size=(3, 3), stride=(1, 1), padding=(1, 1))\n",
              "    (3): ReLU()\n",
              "    (4): MaxPool2d(kernel_size=2, stride=2, padding=0, dilation=1, ceil_mode=False)\n",
              "  )\n",
              "  (conv_block2): Sequential(\n",
              "    (0): Conv2d(102, 102, kernel_size=(3, 3), stride=(1, 1), padding=(1, 1))\n",
              "    (1): ReLU()\n",
              "    (2): Conv2d(102, 102, kernel_size=(3, 3), stride=(1, 1), padding=(1, 1))\n",
              "    (3): ReLU()\n",
              "    (4): MaxPool2d(kernel_size=2, stride=2, padding=0, dilation=1, ceil_mode=False)\n",
              "  )\n",
              "  (conv_block3): Sequential(\n",
              "    (0): Conv2d(102, 102, kernel_size=(3, 3), stride=(1, 1), padding=(1, 1))\n",
              "    (1): ReLU()\n",
              "    (2): Conv2d(102, 102, kernel_size=(3, 3), stride=(1, 1), padding=(1, 1))\n",
              "    (3): ReLU()\n",
              "    (4): MaxPool2d(kernel_size=2, stride=2, padding=0, dilation=1, ceil_mode=False)\n",
              "  )\n",
              "  (conv_block4): Sequential(\n",
              "    (0): Conv2d(102, 102, kernel_size=(3, 3), stride=(1, 1), padding=(1, 1))\n",
              "    (1): ReLU()\n",
              "    (2): Conv2d(102, 102, kernel_size=(3, 3), stride=(1, 1), padding=(1, 1))\n",
              "    (3): ReLU()\n",
              "    (4): MaxPool2d(kernel_size=2, stride=2, padding=0, dilation=1, ceil_mode=False)\n",
              "  )\n",
              "  (classifier): Sequential(\n",
              "    (0): Flatten(start_dim=1, end_dim=-1)\n",
              "    (1): Linear(in_features=417792, out_features=102, bias=True)\n",
              "  )\n",
              ")"
            ]
          },
          "metadata": {},
          "execution_count": 14
        }
      ]
    },
    {
      "cell_type": "markdown",
      "source": [
        "## Loss and Optimisation"
      ],
      "metadata": {
        "id": "qCC8LKQVFfD-"
      }
    },
    {
      "cell_type": "code",
      "source": [
        "##Loss and Optimiser\n",
        "lossCalc = nn.CrossEntropyLoss()\n",
        "optimiser = torch.optim.SGD(params=model1.parameters(),\n",
        "                             lr=0.1)"
      ],
      "metadata": {
        "id": "svXgQf_lsX63"
      },
      "execution_count": 15,
      "outputs": []
    },
    {
      "cell_type": "markdown",
      "source": [
        "# Test and Training"
      ],
      "metadata": {
        "id": "qF9T6WlwH3HP"
      }
    },
    {
      "cell_type": "markdown",
      "source": [
        "## Setup and functions"
      ],
      "metadata": {
        "id": "me5GcDk_IHgZ"
      }
    },
    {
      "cell_type": "code",
      "source": [
        "# Import tqdm for progress bar\n",
        "from tqdm.auto import tqdm"
      ],
      "metadata": {
        "id": "yBQ18n4DK5tK"
      },
      "execution_count": 16,
      "outputs": []
    },
    {
      "cell_type": "markdown",
      "source": [
        "### Timer"
      ],
      "metadata": {
        "id": "8n0fi759IEpf"
      }
    },
    {
      "cell_type": "code",
      "source": [
        "##Create Timer\n",
        "from timeit import default_timer as timer\n",
        "def printTime(start: float, end: float, device: torch.device = None):\n",
        "    totalTime = end - start\n",
        "    minutes = totalTime // 60\n",
        "    print(f\"Train time on {device}: {totalTime:.3f} seconds.\\n Roughly {minutes} minutes\")\n",
        "    return totalTime"
      ],
      "metadata": {
        "id": "FLyGJMACHf9n"
      },
      "execution_count": 17,
      "outputs": []
    },
    {
      "cell_type": "markdown",
      "source": [
        "### Accuracy"
      ],
      "metadata": {
        "id": "lawwpZUnI3Ug"
      }
    },
    {
      "cell_type": "code",
      "source": [
        "#Accuaracy Calculator\n",
        "def accuracyCalc(y_true, y_pred):\n",
        "    correct = torch.eq(y_true, y_pred).sum().item()\n",
        "    acc = (correct / len(y_pred)) * 100\n",
        "    return acc"
      ],
      "metadata": {
        "id": "jj15WKtoI5Pf"
      },
      "execution_count": 18,
      "outputs": []
    },
    {
      "cell_type": "markdown",
      "source": [
        "### Training"
      ],
      "metadata": {
        "id": "eD4sHKd0Ib6u"
      }
    },
    {
      "cell_type": "code",
      "source": [
        "#Training Function\n",
        "def trainFunction(model: torch.nn.Module,\n",
        "               dataLoader: torch.utils.data.DataLoader,\n",
        "               lossCalc: torch.nn.Module,\n",
        "               optimiser: torch.optim.Optimizer,\n",
        "               accuracyCalc,\n",
        "               device: torch.device = device):\n",
        "    trainLoss, trainAcc = 0, 0\n",
        "    for batch, (X, y) in enumerate(dataLoader):\n",
        "        #Send data to GPU\n",
        "        X, y = X.to(device), y.to(device)\n",
        "\n",
        "        #Forward pass\n",
        "        y_pred = model(X)\n",
        "\n",
        "        #Calculate loss\n",
        "        loss = lossCalc(y_pred, y)\n",
        "        trainLoss += loss\n",
        "        trainAcc += accuracyCalc(y_true=y,\n",
        "                                 y_pred=y_pred.argmax(dim=1))\n",
        "\n",
        "        #Optimizer zero grad\n",
        "        optimiser.zero_grad()\n",
        "\n",
        "        #Backpropagation\n",
        "        loss.backward()\n",
        "\n",
        "        #Optimiser step\n",
        "        optimiser.step()\n",
        "\n",
        "    # Calculate loss and accuracy per epoch\n",
        "    trainLoss /= len(dataLoader)\n",
        "    trainAcc /= len(dataLoader)\n",
        "    print(f\"Train loss: {trainLoss:.5f} | Train accuracy: {trainAcc:.2f}%\")"
      ],
      "metadata": {
        "id": "uIqpXfKWIQOi"
      },
      "execution_count": 19,
      "outputs": []
    },
    {
      "cell_type": "markdown",
      "source": [
        "### Test"
      ],
      "metadata": {
        "id": "EPe6ppXqJhFL"
      }
    },
    {
      "cell_type": "code",
      "source": [
        "#Testing Function\n",
        "def testFunction(dataLoader: torch.utils.data.DataLoader,\n",
        "              model: torch.nn.Module,\n",
        "              lossCalc: torch.nn.Module,\n",
        "              accuracyCalc,\n",
        "              device: torch.device = device):\n",
        "    testLoss, testAcc = 0, 0\n",
        "    model.eval()\n",
        "    #Turn on inference context manager\n",
        "    with torch.inference_mode():\n",
        "        for X, y in dataLoader:\n",
        "            #Send data to GPU\n",
        "            X, y = X.to(device), y.to(device)\n",
        "\n",
        "            #Forward pass\n",
        "            test_pred = model(X)\n",
        "\n",
        "            #Calculate loss and accuracy\n",
        "            testLoss += lossCalc(test_pred, y)\n",
        "            testAcc += accuracyCalc(y_true=y,\n",
        "                y_pred=test_pred.argmax(dim=1)\n",
        "            )\n",
        "\n",
        "        #Adjust and display\n",
        "        testLoss /= len(dataLoader)\n",
        "        testAcc /= len(dataLoader)\n",
        "        print(f\"Test loss: {testLoss:.5f} | Test accuracy: {testAcc:.2f}%\\n\")"
      ],
      "metadata": {
        "id": "iq4-hqIzJig1"
      },
      "execution_count": 20,
      "outputs": []
    },
    {
      "cell_type": "markdown",
      "source": [
        "## Train and Test"
      ],
      "metadata": {
        "id": "vkHrJ4lbITXZ"
      }
    },
    {
      "cell_type": "code",
      "source": [
        "torch.manual_seed(42)\n",
        "\n",
        "# Measure time\n",
        "from timeit import default_timer as timer\n",
        "trainTimeStartModel1 = timer()\n",
        "\n",
        "# Train and test model\n",
        "epochs = 10\n",
        "for epoch in tqdm(range(epochs)):\n",
        "    print(f\"Epoch: {epoch}\\n---------\")\n",
        "    trainFunction(dataLoader=trainDataloader,\n",
        "        model=model1,\n",
        "        lossCalc=lossCalc,\n",
        "        optimiser=optimiser,\n",
        "        accuracyCalc=accuracyCalc,\n",
        "        device=device\n",
        "    )\n",
        "    testFunction(dataLoader=testDataloader,\n",
        "        model=model1,\n",
        "        lossCalc=lossCalc,\n",
        "        accuracyCalc=accuracyCalc,\n",
        "        device=device\n",
        "    )\n",
        "\n",
        "trainTimeEndModel1 = timer()\n",
        "totalTrainTime = printTime(start=trainTimeStartModel1,\n",
        "                           end=trainTimeEndModel1,\n",
        "                           device=device)"
      ],
      "metadata": {
        "colab": {
          "base_uri": "https://localhost:8080/",
          "height": 951,
          "referenced_widgets": [
            "89073fe9c8b747bd9afb6e51cf73bd3c",
            "d33b327b6a1e455c924e083d63f8c87b",
            "4d22eec41ee84027a4186c9b5e33aec5",
            "3c8be775bc1e44138aa00bb98e6fa7db",
            "d78b8447f8db4a6287f12345c16a6f91",
            "ea7919a9533e4caabfd0041934b8832e",
            "f696489104534fb3a4217bb109ec95f0",
            "d54f1f1bc70c45199def020c29179670",
            "4e25ea04d6b14049972f0418a388f396",
            "ea18cd524d5a441e8bc3e2acf1b7e7a1",
            "7b350b49a0d0402091d31308448e8227"
          ]
        },
        "id": "Yz8MtaLcIVDI",
        "outputId": "37af7ca2-0671-4954-edb2-8229804e8921"
      },
      "execution_count": 21,
      "outputs": [
        {
          "output_type": "display_data",
          "data": {
            "text/plain": [
              "  0%|          | 0/10 [00:00<?, ?it/s]"
            ],
            "application/vnd.jupyter.widget-view+json": {
              "version_major": 2,
              "version_minor": 0,
              "model_id": "89073fe9c8b747bd9afb6e51cf73bd3c"
            }
          },
          "metadata": {}
        },
        {
          "output_type": "stream",
          "name": "stdout",
          "text": [
            "Epoch: 0\n",
            "---------\n",
            "Train loss: 4.62054 | Train accuracy: 0.88%\n",
            "Test loss: 4.58247 | Test accuracy: 2.33%\n",
            "\n",
            "Epoch: 1\n",
            "---------\n",
            "Train loss: 4.59116 | Train accuracy: 1.58%\n",
            "Test loss: 4.55784 | Test accuracy: 1.05%\n",
            "\n",
            "Epoch: 2\n",
            "---------\n",
            "Train loss: 4.59844 | Train accuracy: 2.06%\n",
            "Test loss: 4.52799 | Test accuracy: 1.70%\n",
            "\n",
            "Epoch: 3\n",
            "---------\n",
            "Train loss: 4.70470 | Train accuracy: 0.89%\n",
            "Test loss: 4.62268 | Test accuracy: 1.62%\n",
            "\n",
            "Epoch: 4\n",
            "---------\n",
            "Train loss: 4.62674 | Train accuracy: 0.39%\n",
            "Test loss: 4.62409 | Test accuracy: 1.12%\n",
            "\n",
            "Epoch: 5\n",
            "---------\n",
            "Train loss: 4.62636 | Train accuracy: 0.49%\n",
            "Test loss: 4.62392 | Test accuracy: 1.38%\n",
            "\n",
            "Epoch: 6\n",
            "---------\n",
            "Train loss: 4.62641 | Train accuracy: 0.98%\n",
            "Test loss: 4.62358 | Test accuracy: 1.47%\n",
            "\n",
            "Epoch: 7\n",
            "---------\n",
            "Train loss: 4.62541 | Train accuracy: 0.78%\n",
            "Test loss: 4.62321 | Test accuracy: 1.44%\n",
            "\n",
            "Epoch: 8\n",
            "---------\n",
            "Train loss: 4.63002 | Train accuracy: 1.17%\n",
            "Test loss: 4.62463 | Test accuracy: 0.55%\n",
            "\n",
            "Epoch: 9\n",
            "---------\n",
            "Train loss: 4.62621 | Train accuracy: 0.49%\n",
            "Test loss: 4.62260 | Test accuracy: 0.91%\n",
            "\n",
            "Train time on cuda: 712.735 seconds.\n",
            " Roughly 11.0 minutes\n"
          ]
        }
      ]
    },
    {
      "cell_type": "markdown",
      "source": [
        "# End\n",
        "\n",
        "Chris says mess with:\n",
        "* Hyperparameters\n",
        "* Transforms (as many as POSSIBLE :D)\n",
        "* Optimisers (learning rate, weight decay, etc.)"
      ],
      "metadata": {
        "id": "oU-IQbBTYZuU"
      }
    },
    {
      "cell_type": "code",
      "source": [],
      "metadata": {
        "id": "7KeBx6Lib3Je"
      },
      "execution_count": null,
      "outputs": []
    }
  ]
}