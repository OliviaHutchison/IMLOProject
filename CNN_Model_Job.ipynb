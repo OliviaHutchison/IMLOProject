{
  "nbformat": 4,
  "nbformat_minor": 0,
  "metadata": {
    "colab": {
      "provenance": [],
      "machine_shape": "hm",
      "authorship_tag": "ABX9TyNdBdnhh1zRocVYY8tH2zz8",
      "include_colab_link": true
    },
    "kernelspec": {
      "name": "python3",
      "display_name": "Python 3"
    },
    "language_info": {
      "name": "python"
    },
    "widgets": {
      "application/vnd.jupyter.widget-state+json": {
        "4bf2a71fdca04271b7329f5cd7173c59": {
          "model_module": "@jupyter-widgets/controls",
          "model_name": "HBoxModel",
          "model_module_version": "1.5.0",
          "state": {
            "_dom_classes": [],
            "_model_module": "@jupyter-widgets/controls",
            "_model_module_version": "1.5.0",
            "_model_name": "HBoxModel",
            "_view_count": null,
            "_view_module": "@jupyter-widgets/controls",
            "_view_module_version": "1.5.0",
            "_view_name": "HBoxView",
            "box_style": "",
            "children": [
              "IPY_MODEL_3b50a6f31f0f40f9afb2748830dbe9c2",
              "IPY_MODEL_60e0cae95f824ccda820a6f504db51d2",
              "IPY_MODEL_2c5ab039d83b483aae8f4217024e715e"
            ],
            "layout": "IPY_MODEL_c9876e57f8024a57a84389aa9b6e1223"
          }
        },
        "3b50a6f31f0f40f9afb2748830dbe9c2": {
          "model_module": "@jupyter-widgets/controls",
          "model_name": "HTMLModel",
          "model_module_version": "1.5.0",
          "state": {
            "_dom_classes": [],
            "_model_module": "@jupyter-widgets/controls",
            "_model_module_version": "1.5.0",
            "_model_name": "HTMLModel",
            "_view_count": null,
            "_view_module": "@jupyter-widgets/controls",
            "_view_module_version": "1.5.0",
            "_view_name": "HTMLView",
            "description": "",
            "description_tooltip": null,
            "layout": "IPY_MODEL_87dddcf2eec64689adbe54350e2801db",
            "placeholder": "​",
            "style": "IPY_MODEL_ef5a26f246e24651b2501745de24216f",
            "value": "  0%"
          }
        },
        "60e0cae95f824ccda820a6f504db51d2": {
          "model_module": "@jupyter-widgets/controls",
          "model_name": "FloatProgressModel",
          "model_module_version": "1.5.0",
          "state": {
            "_dom_classes": [],
            "_model_module": "@jupyter-widgets/controls",
            "_model_module_version": "1.5.0",
            "_model_name": "FloatProgressModel",
            "_view_count": null,
            "_view_module": "@jupyter-widgets/controls",
            "_view_module_version": "1.5.0",
            "_view_name": "ProgressView",
            "bar_style": "danger",
            "description": "",
            "description_tooltip": null,
            "layout": "IPY_MODEL_e7df6a51a70744f6a095ff12d2a9537f",
            "max": 100,
            "min": 0,
            "orientation": "horizontal",
            "style": "IPY_MODEL_2774ba4c0a4b4ebbaa158a43d5715acb",
            "value": 0
          }
        },
        "2c5ab039d83b483aae8f4217024e715e": {
          "model_module": "@jupyter-widgets/controls",
          "model_name": "HTMLModel",
          "model_module_version": "1.5.0",
          "state": {
            "_dom_classes": [],
            "_model_module": "@jupyter-widgets/controls",
            "_model_module_version": "1.5.0",
            "_model_name": "HTMLModel",
            "_view_count": null,
            "_view_module": "@jupyter-widgets/controls",
            "_view_module_version": "1.5.0",
            "_view_name": "HTMLView",
            "description": "",
            "description_tooltip": null,
            "layout": "IPY_MODEL_098fa0ae674a4f56ad63a1a3c3a9be74",
            "placeholder": "​",
            "style": "IPY_MODEL_d6afd99c9d7c428c8cdc77171ed86877",
            "value": " 0/100 [00:39&lt;?, ?it/s]"
          }
        },
        "c9876e57f8024a57a84389aa9b6e1223": {
          "model_module": "@jupyter-widgets/base",
          "model_name": "LayoutModel",
          "model_module_version": "1.2.0",
          "state": {
            "_model_module": "@jupyter-widgets/base",
            "_model_module_version": "1.2.0",
            "_model_name": "LayoutModel",
            "_view_count": null,
            "_view_module": "@jupyter-widgets/base",
            "_view_module_version": "1.2.0",
            "_view_name": "LayoutView",
            "align_content": null,
            "align_items": null,
            "align_self": null,
            "border": null,
            "bottom": null,
            "display": null,
            "flex": null,
            "flex_flow": null,
            "grid_area": null,
            "grid_auto_columns": null,
            "grid_auto_flow": null,
            "grid_auto_rows": null,
            "grid_column": null,
            "grid_gap": null,
            "grid_row": null,
            "grid_template_areas": null,
            "grid_template_columns": null,
            "grid_template_rows": null,
            "height": null,
            "justify_content": null,
            "justify_items": null,
            "left": null,
            "margin": null,
            "max_height": null,
            "max_width": null,
            "min_height": null,
            "min_width": null,
            "object_fit": null,
            "object_position": null,
            "order": null,
            "overflow": null,
            "overflow_x": null,
            "overflow_y": null,
            "padding": null,
            "right": null,
            "top": null,
            "visibility": null,
            "width": null
          }
        },
        "87dddcf2eec64689adbe54350e2801db": {
          "model_module": "@jupyter-widgets/base",
          "model_name": "LayoutModel",
          "model_module_version": "1.2.0",
          "state": {
            "_model_module": "@jupyter-widgets/base",
            "_model_module_version": "1.2.0",
            "_model_name": "LayoutModel",
            "_view_count": null,
            "_view_module": "@jupyter-widgets/base",
            "_view_module_version": "1.2.0",
            "_view_name": "LayoutView",
            "align_content": null,
            "align_items": null,
            "align_self": null,
            "border": null,
            "bottom": null,
            "display": null,
            "flex": null,
            "flex_flow": null,
            "grid_area": null,
            "grid_auto_columns": null,
            "grid_auto_flow": null,
            "grid_auto_rows": null,
            "grid_column": null,
            "grid_gap": null,
            "grid_row": null,
            "grid_template_areas": null,
            "grid_template_columns": null,
            "grid_template_rows": null,
            "height": null,
            "justify_content": null,
            "justify_items": null,
            "left": null,
            "margin": null,
            "max_height": null,
            "max_width": null,
            "min_height": null,
            "min_width": null,
            "object_fit": null,
            "object_position": null,
            "order": null,
            "overflow": null,
            "overflow_x": null,
            "overflow_y": null,
            "padding": null,
            "right": null,
            "top": null,
            "visibility": null,
            "width": null
          }
        },
        "ef5a26f246e24651b2501745de24216f": {
          "model_module": "@jupyter-widgets/controls",
          "model_name": "DescriptionStyleModel",
          "model_module_version": "1.5.0",
          "state": {
            "_model_module": "@jupyter-widgets/controls",
            "_model_module_version": "1.5.0",
            "_model_name": "DescriptionStyleModel",
            "_view_count": null,
            "_view_module": "@jupyter-widgets/base",
            "_view_module_version": "1.2.0",
            "_view_name": "StyleView",
            "description_width": ""
          }
        },
        "e7df6a51a70744f6a095ff12d2a9537f": {
          "model_module": "@jupyter-widgets/base",
          "model_name": "LayoutModel",
          "model_module_version": "1.2.0",
          "state": {
            "_model_module": "@jupyter-widgets/base",
            "_model_module_version": "1.2.0",
            "_model_name": "LayoutModel",
            "_view_count": null,
            "_view_module": "@jupyter-widgets/base",
            "_view_module_version": "1.2.0",
            "_view_name": "LayoutView",
            "align_content": null,
            "align_items": null,
            "align_self": null,
            "border": null,
            "bottom": null,
            "display": null,
            "flex": null,
            "flex_flow": null,
            "grid_area": null,
            "grid_auto_columns": null,
            "grid_auto_flow": null,
            "grid_auto_rows": null,
            "grid_column": null,
            "grid_gap": null,
            "grid_row": null,
            "grid_template_areas": null,
            "grid_template_columns": null,
            "grid_template_rows": null,
            "height": null,
            "justify_content": null,
            "justify_items": null,
            "left": null,
            "margin": null,
            "max_height": null,
            "max_width": null,
            "min_height": null,
            "min_width": null,
            "object_fit": null,
            "object_position": null,
            "order": null,
            "overflow": null,
            "overflow_x": null,
            "overflow_y": null,
            "padding": null,
            "right": null,
            "top": null,
            "visibility": null,
            "width": null
          }
        },
        "2774ba4c0a4b4ebbaa158a43d5715acb": {
          "model_module": "@jupyter-widgets/controls",
          "model_name": "ProgressStyleModel",
          "model_module_version": "1.5.0",
          "state": {
            "_model_module": "@jupyter-widgets/controls",
            "_model_module_version": "1.5.0",
            "_model_name": "ProgressStyleModel",
            "_view_count": null,
            "_view_module": "@jupyter-widgets/base",
            "_view_module_version": "1.2.0",
            "_view_name": "StyleView",
            "bar_color": null,
            "description_width": ""
          }
        },
        "098fa0ae674a4f56ad63a1a3c3a9be74": {
          "model_module": "@jupyter-widgets/base",
          "model_name": "LayoutModel",
          "model_module_version": "1.2.0",
          "state": {
            "_model_module": "@jupyter-widgets/base",
            "_model_module_version": "1.2.0",
            "_model_name": "LayoutModel",
            "_view_count": null,
            "_view_module": "@jupyter-widgets/base",
            "_view_module_version": "1.2.0",
            "_view_name": "LayoutView",
            "align_content": null,
            "align_items": null,
            "align_self": null,
            "border": null,
            "bottom": null,
            "display": null,
            "flex": null,
            "flex_flow": null,
            "grid_area": null,
            "grid_auto_columns": null,
            "grid_auto_flow": null,
            "grid_auto_rows": null,
            "grid_column": null,
            "grid_gap": null,
            "grid_row": null,
            "grid_template_areas": null,
            "grid_template_columns": null,
            "grid_template_rows": null,
            "height": null,
            "justify_content": null,
            "justify_items": null,
            "left": null,
            "margin": null,
            "max_height": null,
            "max_width": null,
            "min_height": null,
            "min_width": null,
            "object_fit": null,
            "object_position": null,
            "order": null,
            "overflow": null,
            "overflow_x": null,
            "overflow_y": null,
            "padding": null,
            "right": null,
            "top": null,
            "visibility": null,
            "width": null
          }
        },
        "d6afd99c9d7c428c8cdc77171ed86877": {
          "model_module": "@jupyter-widgets/controls",
          "model_name": "DescriptionStyleModel",
          "model_module_version": "1.5.0",
          "state": {
            "_model_module": "@jupyter-widgets/controls",
            "_model_module_version": "1.5.0",
            "_model_name": "DescriptionStyleModel",
            "_view_count": null,
            "_view_module": "@jupyter-widgets/base",
            "_view_module_version": "1.2.0",
            "_view_name": "StyleView",
            "description_width": ""
          }
        }
      }
    }
  },
  "cells": [
    {
      "cell_type": "markdown",
      "metadata": {
        "id": "view-in-github",
        "colab_type": "text"
      },
      "source": [
        "<a href=\"https://colab.research.google.com/github/OliviaHutchison/IMLOProject/blob/main/CNN_Model_Job.ipynb\" target=\"_parent\"><img src=\"https://colab.research.google.com/assets/colab-badge.svg\" alt=\"Open In Colab\"/></a>"
      ]
    },
    {
      "cell_type": "markdown",
      "source": [
        "# Imports + Setup"
      ],
      "metadata": {
        "id": "fYtvqfkHUhqb"
      }
    },
    {
      "cell_type": "code",
      "source": [
        "#check for GPU access with PyTorch\n",
        "import torch\n",
        "torch.cuda.is_available()"
      ],
      "metadata": {
        "id": "PPcBFYjpG5CR",
        "colab": {
          "base_uri": "https://localhost:8080/"
        },
        "outputId": "0cc95b70-af5d-4d4d-f7f1-4e7d841c120b"
      },
      "execution_count": null,
      "outputs": [
        {
          "output_type": "execute_result",
          "data": {
            "text/plain": [
              "False"
            ]
          },
          "metadata": {},
          "execution_count": 1
        }
      ]
    },
    {
      "cell_type": "code",
      "source": [
        "#setup DAC\n",
        "device = \"cuda\" if torch.cuda.is_available() else \"cpu\"\n",
        "device"
      ],
      "metadata": {
        "id": "hh1ajbMjG7re",
        "colab": {
          "base_uri": "https://localhost:8080/",
          "height": 36
        },
        "outputId": "0875f88d-6c8a-40b8-ac5f-37fb11829ab2"
      },
      "execution_count": null,
      "outputs": [
        {
          "output_type": "execute_result",
          "data": {
            "text/plain": [
              "'cpu'"
            ],
            "application/vnd.google.colaboratory.intrinsic+json": {
              "type": "string"
            }
          },
          "metadata": {},
          "execution_count": 2
        }
      ]
    },
    {
      "cell_type": "code",
      "source": [
        "#Import PyTorch\n",
        "import torch\n",
        "from torch import nn\n",
        "\n",
        "#Torchvision\n",
        "import torchvision\n",
        "from torchvision import datasets\n",
        "from torchvision import transforms\n",
        "from torchvision.transforms import ToTensor, Resize\n",
        "\n",
        "#Version check\n",
        "print(torch.__version__)\n",
        "print(torchvision.__version__)"
      ],
      "metadata": {
        "id": "Me46htQ3Ud_X",
        "colab": {
          "base_uri": "https://localhost:8080/"
        },
        "outputId": "63858073-c53a-4fa7-b781-a209467d8482"
      },
      "execution_count": null,
      "outputs": [
        {
          "output_type": "stream",
          "name": "stdout",
          "text": [
            "2.3.0+cu121\n",
            "0.18.0+cu121\n"
          ]
        }
      ]
    },
    {
      "cell_type": "markdown",
      "source": [
        "# Get Dataset"
      ],
      "metadata": {
        "id": "wiil7GwmUlbL"
      }
    },
    {
      "cell_type": "code",
      "source": [
        "transform = transforms.Compose([\n",
        "    transforms.RandomHorizontalFlip(0.5),\n",
        "    transforms.RandomVerticalFlip(0.5),\n",
        "    transforms.RandomRotation(70),\n",
        "    transforms.RandomPerspective(0.2, 0.5),\n",
        "    transforms.RandomAutocontrast(0.5),\n",
        "    transforms.RandomEqualize(0.5),\n",
        "    transforms.RandomAdjustSharpness(4, 0.5),\n",
        "    transforms.RandomPosterize(4, 0.5),\n",
        "    transforms.GaussianBlur(3),\n",
        "    ToTensor(),\n",
        "    transforms.Normalize((0.5, 0.5, 0.5),(0.5, 0.5, 0.5)),\n",
        "    Resize((256, 256))\n",
        "])\n",
        "\n",
        "testTransform = transforms.Compose([\n",
        "    ToTensor(),\n",
        "    transforms.Normalize((0.5, 0.5, 0.5),(0.5, 0.5, 0.5)),\n",
        "    Resize((256, 256))\n",
        "])"
      ],
      "metadata": {
        "id": "FR07-xj0rJ83"
      },
      "execution_count": null,
      "outputs": []
    },
    {
      "cell_type": "code",
      "source": [
        "#Training Version\n",
        "train_data= datasets.Flowers102(\n",
        "    root=\"data\", #where to download to\n",
        "    split='train', #training dataset\n",
        "    download=True, #want to download\n",
        "    transform=transform, #transform data\n",
        "    target_transform=None #transform labels\n",
        ")"
      ],
      "metadata": {
        "id": "gghSD93TUk6y",
        "colab": {
          "base_uri": "https://localhost:8080/"
        },
        "outputId": "0923cfe6-c115-472e-c1ad-6c2b70891a67"
      },
      "execution_count": null,
      "outputs": [
        {
          "output_type": "stream",
          "name": "stdout",
          "text": [
            "Downloading https://thor.robots.ox.ac.uk/datasets/flowers-102/102flowers.tgz to data/flowers-102/102flowers.tgz\n"
          ]
        },
        {
          "output_type": "stream",
          "name": "stderr",
          "text": [
            "100%|██████████| 344862509/344862509 [00:01<00:00, 203075065.25it/s]\n"
          ]
        },
        {
          "output_type": "stream",
          "name": "stdout",
          "text": [
            "Extracting data/flowers-102/102flowers.tgz to data/flowers-102\n",
            "Downloading https://thor.robots.ox.ac.uk/datasets/flowers-102/imagelabels.mat to data/flowers-102/imagelabels.mat\n"
          ]
        },
        {
          "output_type": "stream",
          "name": "stderr",
          "text": [
            "100%|██████████| 502/502 [00:00<00:00, 305327.81it/s]\n"
          ]
        },
        {
          "output_type": "stream",
          "name": "stdout",
          "text": [
            "Downloading https://thor.robots.ox.ac.uk/datasets/flowers-102/setid.mat to data/flowers-102/setid.mat\n"
          ]
        },
        {
          "output_type": "stream",
          "name": "stderr",
          "text": [
            "100%|██████████| 14989/14989 [00:00<00:00, 6967574.27it/s]\n"
          ]
        }
      ]
    },
    {
      "cell_type": "code",
      "source": [
        "#Validation\n",
        "val_data= datasets.Flowers102(\n",
        "    root=\"data\", #where to download to\n",
        "    split='val', #training dataset\n",
        "    download=True, #want to download\n",
        "    transform=testTransform, #transform data\n",
        "    target_transform=None #transform labels\n",
        ")"
      ],
      "metadata": {
        "id": "CC6C5sW4XtB2"
      },
      "execution_count": null,
      "outputs": []
    },
    {
      "cell_type": "code",
      "source": [
        "#Testing\n",
        "test_data= datasets.Flowers102(\n",
        "    root=\"data\", #where to download to\n",
        "    split='test', #training dataset\n",
        "    download=True, #want to download\n",
        "    transform=testTransform, #transform data\n",
        "    target_transform=None #transform labels\n",
        ")"
      ],
      "metadata": {
        "id": "MA9MxA__Zs35"
      },
      "execution_count": null,
      "outputs": []
    },
    {
      "cell_type": "markdown",
      "source": [
        "# Prep Data"
      ],
      "metadata": {
        "id": "yvOjZReHfQ-D"
      }
    },
    {
      "cell_type": "code",
      "source": [
        "from torch.utils.data import DataLoader"
      ],
      "metadata": {
        "id": "WCHjVyaIaeSh"
      },
      "execution_count": null,
      "outputs": []
    },
    {
      "cell_type": "code",
      "source": [
        "batchSize = 16 #groups of 16 images\n",
        "\n",
        "#Turn data into iterables\n",
        "trainDataloader = DataLoader(dataset=train_data,\n",
        "                             batch_size=batchSize,\n",
        "                             shuffle=True)\n",
        "\n",
        "valDataloader = DataLoader(dataset=val_data,\n",
        "                            batch_size=batchSize,\n",
        "                            shuffle=False)\n",
        "\n",
        "testDataloader = DataLoader(dataset=test_data,\n",
        "                            batch_size=batchSize,\n",
        "                            shuffle=False)"
      ],
      "metadata": {
        "id": "HkHaKjbGqF5n"
      },
      "execution_count": null,
      "outputs": []
    },
    {
      "cell_type": "markdown",
      "source": [
        "# CNN"
      ],
      "metadata": {
        "id": "_R-YVpIfsOrX"
      }
    },
    {
      "cell_type": "code",
      "source": [
        "#Create CNN\n",
        "class FlowersModel(nn.Module):\n",
        "  def __init__(self, inputShape: int, hiddenUnits: int, outputShape: int):\n",
        "    super().__init__()\n",
        "    #convolutional block 1 - feature extractor\n",
        "    self.conv_block1 = nn.Sequential(\n",
        "        #create conv layer\n",
        "        nn.Conv2d(in_channels=inputShape, out_channels=hiddenUnits,\n",
        "                  kernel_size=3, stride=1, padding=1), #condv2d for 2d data\n",
        "        #values we set ourselves in NNs are hyperparameters\n",
        "\n",
        "        #Batch Norm Layer\n",
        "        nn.BatchNorm2d(hiddenUnits),\n",
        "\n",
        "        #ReLu Layer\n",
        "        nn.ReLU(),\n",
        "\n",
        "\n",
        "        #2nd conv layer\n",
        "        nn.Conv2d(in_channels=hiddenUnits, out_channels=hiddenUnits,\n",
        "                  kernel_size=3, stride=1, padding=1),\n",
        "\n",
        "        #Batch Norm Layer\n",
        "        nn.BatchNorm2d(hiddenUnits),\n",
        "\n",
        "        #2 ReLu Layer\n",
        "        nn.ReLU(),\n",
        "\n",
        "        #MaxPool Layer\n",
        "        nn.MaxPool2d(kernel_size=2),\n",
        "    )\n",
        "    #convolutional block 2 - feature extractor\n",
        "    self.conv_block2 = nn.Sequential(\n",
        "        #conv layer\n",
        "        nn.Conv2d(in_channels=hiddenUnits, out_channels=hiddenUnits,\n",
        "                  kernel_size=3, stride=1, padding=1),\n",
        "\n",
        "        #Batch Norm Layer\n",
        "        nn.BatchNorm2d(hiddenUnits),\n",
        "\n",
        "        #ReLu Layer\n",
        "        nn.ReLU(),\n",
        "\n",
        "\n",
        "        #2nd conv layer\n",
        "        nn.Conv2d(in_channels=hiddenUnits, out_channels=hiddenUnits,\n",
        "                  kernel_size=3, stride=1, padding=1),\n",
        "\n",
        "        #Batch Norm Layer\n",
        "        nn.BatchNorm2d(hiddenUnits),\n",
        "\n",
        "        #2 ReLu Layer\n",
        "        nn.ReLU(),\n",
        "\n",
        "        #MaxPool Layer\n",
        "        nn.MaxPool2d(kernel_size=2),\n",
        "    )\n",
        "    #convolutional block 3 - feature extractor\n",
        "    self.conv_block3 = nn.Sequential(\n",
        "        #conv layer\n",
        "        nn.Conv2d(in_channels=hiddenUnits, out_channels=hiddenUnits,\n",
        "                  kernel_size=3, stride=1, padding=1),\n",
        "\n",
        "        #Batch Norm Layer\n",
        "        nn.BatchNorm2d(hiddenUnits),\n",
        "\n",
        "        #ReLu Layer\n",
        "        nn.ReLU(),\n",
        "\n",
        "\n",
        "        #2nd conv layer\n",
        "        nn.Conv2d(in_channels=hiddenUnits, out_channels=hiddenUnits,\n",
        "                  kernel_size=3, stride=1, padding=1),\n",
        "\n",
        "        #Batch Norm Layer\n",
        "        nn.BatchNorm2d(hiddenUnits),\n",
        "\n",
        "        #2 ReLu Layer\n",
        "        nn.ReLU(),\n",
        "\n",
        "        #MaxPool Layer\n",
        "        nn.MaxPool2d(kernel_size=2),\n",
        "\n",
        "\n",
        "    )\n",
        "    #convolutional block 4 - feature extractor\n",
        "    self.conv_block4 = nn.Sequential(\n",
        "        #conv layer\n",
        "        nn.Conv2d(in_channels=hiddenUnits, out_channels=hiddenUnits,\n",
        "                  kernel_size=3, stride=1, padding=1),\n",
        "\n",
        "        #Batch Norm Layer\n",
        "        nn.BatchNorm2d(hiddenUnits),\n",
        "\n",
        "        #ReLu Layer\n",
        "        nn.ReLU(),\n",
        "\n",
        "        #Batch Norm Layer\n",
        "        nn.BatchNorm2d(hiddenUnits),\n",
        "\n",
        "        #2nd conv layer\n",
        "        nn.Conv2d(in_channels=hiddenUnits, out_channels=hiddenUnits,\n",
        "                  kernel_size=3, stride=1, padding=1),\n",
        "\n",
        "        #Batch Norm Layer\n",
        "        nn.BatchNorm2d(hiddenUnits),\n",
        "\n",
        "        #2 ReLu Layer\n",
        "        nn.ReLU(),\n",
        "\n",
        "\n",
        "        #MaxPool Layer\n",
        "        nn.MaxPool2d(kernel_size=2),\n",
        "\n",
        "\n",
        "    )\n",
        "    #convolutional block 5 - feature extractor\n",
        "    self.conv_block5 = nn.Sequential(\n",
        "        #conv layer\n",
        "        nn.Conv2d(in_channels=hiddenUnits, out_channels=hiddenUnits,\n",
        "                  kernel_size=3, stride=1, padding=1),\n",
        "\n",
        "        #Batch Norm Layer\n",
        "        nn.BatchNorm2d(hiddenUnits),\n",
        "\n",
        "        #ReLu Layer\n",
        "        nn.ReLU(),\n",
        "\n",
        "        #Batch Norm Layer\n",
        "        nn.BatchNorm2d(hiddenUnits),\n",
        "\n",
        "        #2nd conv layer\n",
        "        nn.Conv2d(in_channels=hiddenUnits, out_channels=hiddenUnits,\n",
        "                  kernel_size=3, stride=1, padding=1),\n",
        "\n",
        "        #Batch Norm Layer\n",
        "        nn.BatchNorm2d(hiddenUnits),\n",
        "\n",
        "        #2 ReLu Layer\n",
        "        nn.ReLU(),\n",
        "\n",
        "        #Dropout 2d\n",
        "        nn.Dropout2d(0.5),\n",
        "\n",
        "        #MaxPool Layer\n",
        "        nn.MaxPool2d(kernel_size=2),\n",
        "\n",
        "\n",
        "    )\n",
        "    #classifier layer\n",
        "    self.classifierFinal = nn.Sequential(\n",
        "        #Flatten\n",
        "        nn.Flatten(),\n",
        "\n",
        "        #Linear and ReLU and Dropout\n",
        "        nn.Linear(in_features=hiddenUnits * 8 * 8, out_features=hiddenUnits * 4),\n",
        "        nn.ReLU(),\n",
        "\n",
        "        #Linear and ReLU and Dropout\n",
        "        nn.Linear(in_features=hiddenUnits * 4, out_features=hiddenUnits * 2),\n",
        "        nn.ReLU(),\n",
        "\n",
        "        nn.Linear(in_features=hiddenUnits * 2, out_features=outputShape),\n",
        "    )\n",
        "\n",
        "  #forward\n",
        "  def forward(self, x):\n",
        "    x = self.conv_block1(x)\n",
        "\n",
        "    x = self.conv_block2(x)\n",
        "\n",
        "    x = self.conv_block3(x)\n",
        "\n",
        "    x = self.conv_block4(x)\n",
        "\n",
        "    x = self.conv_block5(x)\n",
        "\n",
        "    x = self.classifierFinal(x)\n",
        "    return x\n"
      ],
      "metadata": {
        "id": "JbAxssOcr9qG"
      },
      "execution_count": null,
      "outputs": []
    },
    {
      "cell_type": "code",
      "source": [
        "model1 = FlowersModel(inputShape=3,\n",
        "                      hiddenUnits=102,\n",
        "                      outputShape=102).to(device)"
      ],
      "metadata": {
        "id": "myhKP3txGAM3"
      },
      "execution_count": null,
      "outputs": []
    },
    {
      "cell_type": "markdown",
      "source": [
        "## Loss and Optimisation"
      ],
      "metadata": {
        "id": "qCC8LKQVFfD-"
      }
    },
    {
      "cell_type": "code",
      "source": [
        "##Loss and Optimiser\n",
        "lossCalc = nn.CrossEntropyLoss()\n",
        "optimiser = torch.optim.Adam(params=model1.parameters(),\n",
        "                             lr=0.00005)"
      ],
      "metadata": {
        "id": "svXgQf_lsX63"
      },
      "execution_count": null,
      "outputs": []
    },
    {
      "cell_type": "markdown",
      "source": [
        "## Save Model"
      ],
      "metadata": {
        "id": "g0n0HcpfUI4T"
      }
    },
    {
      "cell_type": "markdown",
      "source": [
        "# Test and Training"
      ],
      "metadata": {
        "id": "qF9T6WlwH3HP"
      }
    },
    {
      "cell_type": "markdown",
      "source": [
        "## Setup and functions"
      ],
      "metadata": {
        "id": "me5GcDk_IHgZ"
      }
    },
    {
      "cell_type": "code",
      "source": [
        "# Import tqdm for progress bar\n",
        "from tqdm.auto import tqdm"
      ],
      "metadata": {
        "id": "yBQ18n4DK5tK"
      },
      "execution_count": null,
      "outputs": []
    },
    {
      "cell_type": "markdown",
      "source": [
        "### Accuracy"
      ],
      "metadata": {
        "id": "lawwpZUnI3Ug"
      }
    },
    {
      "cell_type": "code",
      "source": [
        "#Accuaracy Calculator\n",
        "def accuracyCalc(y_true, y_pred):\n",
        "    correct = torch.eq(y_true, y_pred).sum().item()\n",
        "    acc = (correct / len(y_pred)) * 100\n",
        "    return acc"
      ],
      "metadata": {
        "id": "jj15WKtoI5Pf"
      },
      "execution_count": null,
      "outputs": []
    },
    {
      "cell_type": "markdown",
      "source": [
        "### Training"
      ],
      "metadata": {
        "id": "eD4sHKd0Ib6u"
      }
    },
    {
      "cell_type": "code",
      "source": [
        "#Training Function\n",
        "def trainFunction(model: torch.nn.Module,\n",
        "               dataLoader: torch.utils.data.DataLoader,\n",
        "               lossCalc: torch.nn.Module,\n",
        "               optimiser: torch.optim.Optimizer,\n",
        "               accuracyCalc,\n",
        "               device: torch.device = device):\n",
        "    trainLoss, trainAcc = 0, 0\n",
        "    for batch, (X, y) in enumerate(dataLoader):\n",
        "        #Send data to GPU\n",
        "        X, y = X.to(device), y.to(device)\n",
        "\n",
        "        #Forward pass\n",
        "        y_pred = model(X)\n",
        "\n",
        "        #Calculate loss\n",
        "        loss = lossCalc(y_pred, y)\n",
        "        trainLoss += loss\n",
        "        trainAcc += accuracyCalc(y_true=y,\n",
        "                                 y_pred=y_pred.argmax(dim=1))\n",
        "\n",
        "        #Optimizer zero grad\n",
        "        optimiser.zero_grad()\n",
        "\n",
        "        #Backpropagation\n",
        "        loss.backward()\n",
        "\n",
        "        #Optimiser step\n",
        "        optimiser.step()\n",
        "\n",
        "    # Calculate loss and accuracy per epoch\n",
        "    trainLoss /= len(dataLoader)\n",
        "    trainAcc /= len(dataLoader)\n",
        "    print(f\"Train loss: {trainLoss:.5f} | Train accuracy: {trainAcc:.2f}%\")"
      ],
      "metadata": {
        "id": "uIqpXfKWIQOi"
      },
      "execution_count": null,
      "outputs": []
    },
    {
      "cell_type": "markdown",
      "source": [
        "### Validation"
      ],
      "metadata": {
        "id": "An98FOUaW7r3"
      }
    },
    {
      "cell_type": "code",
      "source": [
        "#Validation Function\n",
        "def valFunction(dataLoader: torch.utils.data.DataLoader,\n",
        "              model: torch.nn.Module,\n",
        "              lossCalc: torch.nn.Module,\n",
        "              accuracyCalc,\n",
        "              device: torch.device = device):\n",
        "    valLoss, valAcc = 0, 0\n",
        "    model.eval()\n",
        "    #Turn on inference context manager\n",
        "    with torch.inference_mode():\n",
        "        for X, y in dataLoader:\n",
        "            #Send data to GPU\n",
        "            X, y = X.to(device), y.to(device)\n",
        "\n",
        "            #Forward pass\n",
        "            val_pred = model(X)\n",
        "\n",
        "            #Calculate loss and accuracy\n",
        "            valLoss += lossCalc(val_pred, y)\n",
        "            valAcc += accuracyCalc(y_true=y,\n",
        "                y_pred=val_pred.argmax(dim=1)\n",
        "            )\n",
        "\n",
        "        #Adjust and display\n",
        "        valLoss /= len(dataLoader)\n",
        "        valAcc /= len(dataLoader)\n",
        "        print(f\"Val loss: {valLoss:.5f} | Val accuracy: {valAcc:.2f}%\\n\")"
      ],
      "metadata": {
        "id": "1iyX52FsW_M6"
      },
      "execution_count": null,
      "outputs": []
    },
    {
      "cell_type": "markdown",
      "source": [
        "### Test"
      ],
      "metadata": {
        "id": "EPe6ppXqJhFL"
      }
    },
    {
      "cell_type": "code",
      "source": [
        "#Testing Function\n",
        "def testFunction(dataLoader: torch.utils.data.DataLoader,\n",
        "              model: torch.nn.Module,\n",
        "              lossCalc: torch.nn.Module,\n",
        "              accuracyCalc,\n",
        "              device: torch.device = device):\n",
        "    testLoss, testAcc = 0, 0\n",
        "    model.eval()\n",
        "    #Turn on inference context manager\n",
        "    with torch.inference_mode():\n",
        "        for X, y in dataLoader:\n",
        "            #Send data to GPU\n",
        "            X, y = X.to(device), y.to(device)\n",
        "\n",
        "            #Forward pass\n",
        "            test_pred = model(X)\n",
        "\n",
        "            #Calculate loss and accuracy\n",
        "            testLoss += lossCalc(test_pred, y)\n",
        "            testAcc += accuracyCalc(y_true=y,\n",
        "                y_pred=test_pred.argmax(dim=1)\n",
        "            )\n",
        "\n",
        "        #Adjust and display\n",
        "        testLoss /= len(dataLoader)\n",
        "        testAcc /= len(dataLoader)\n",
        "        print(f\"Test loss: {testLoss:.5f} | Test accuracy: {testAcc:.2f}%\\n\")"
      ],
      "metadata": {
        "id": "iq4-hqIzJig1"
      },
      "execution_count": null,
      "outputs": []
    },
    {
      "cell_type": "markdown",
      "source": [
        "## Train and Test"
      ],
      "metadata": {
        "id": "vkHrJ4lbITXZ"
      }
    },
    {
      "cell_type": "code",
      "source": [
        "torch.manual_seed(42)\n",
        "\n",
        "# Measure time\n",
        "from timeit import default_timer as timer\n",
        "trainTimeStartModel1 = timer()\n",
        "\n",
        "# Train and test model\n",
        "epochs = 100\n",
        "for epoch in tqdm(range(epochs)):\n",
        "    print(f\"Epoch: {epoch}\\n---------\")\n",
        "    trainFunction(dataLoader=trainDataloader,\n",
        "        model=model1,\n",
        "        lossCalc=lossCalc,\n",
        "        optimiser=optimiser,\n",
        "        accuracyCalc=accuracyCalc,\n",
        "        device=device\n",
        "    )\n",
        "    valFunction(dataLoader=valDataloader,\n",
        "        model=model1,\n",
        "        lossCalc=lossCalc,\n",
        "        accuracyCalc=accuracyCalc,\n",
        "        device=device\n",
        "    )\n",
        "\n",
        "\n",
        "testFunction(dataLoader=testDataloader,\n",
        "    model=model1,\n",
        "    lossCalc=lossCalc,\n",
        "    accuracyCalc=accuracyCalc,\n",
        "    device=device\n",
        ")"
      ],
      "metadata": {
        "id": "Yz8MtaLcIVDI",
        "colab": {
          "base_uri": "https://localhost:8080/",
          "height": 475,
          "referenced_widgets": [
            "4bf2a71fdca04271b7329f5cd7173c59",
            "3b50a6f31f0f40f9afb2748830dbe9c2",
            "60e0cae95f824ccda820a6f504db51d2",
            "2c5ab039d83b483aae8f4217024e715e",
            "c9876e57f8024a57a84389aa9b6e1223",
            "87dddcf2eec64689adbe54350e2801db",
            "ef5a26f246e24651b2501745de24216f",
            "e7df6a51a70744f6a095ff12d2a9537f",
            "2774ba4c0a4b4ebbaa158a43d5715acb",
            "098fa0ae674a4f56ad63a1a3c3a9be74",
            "d6afd99c9d7c428c8cdc77171ed86877"
          ]
        },
        "outputId": "0d622e43-7778-4ada-d172-e8869fe383b4"
      },
      "execution_count": null,
      "outputs": [
        {
          "output_type": "display_data",
          "data": {
            "text/plain": [
              "  0%|          | 0/100 [00:00<?, ?it/s]"
            ],
            "application/vnd.jupyter.widget-view+json": {
              "version_major": 2,
              "version_minor": 0,
              "model_id": "4bf2a71fdca04271b7329f5cd7173c59"
            }
          },
          "metadata": {}
        },
        {
          "output_type": "stream",
          "name": "stdout",
          "text": [
            "Epoch: 0\n",
            "---------\n"
          ]
        },
        {
          "output_type": "error",
          "ename": "KeyboardInterrupt",
          "evalue": "",
          "traceback": [
            "\u001b[0;31m---------------------------------------------------------------------------\u001b[0m",
            "\u001b[0;31mKeyboardInterrupt\u001b[0m                         Traceback (most recent call last)",
            "\u001b[0;32m<ipython-input-18-7aaafd4f345e>\u001b[0m in \u001b[0;36m<cell line: 9>\u001b[0;34m()\u001b[0m\n\u001b[1;32m      9\u001b[0m \u001b[0;32mfor\u001b[0m \u001b[0mepoch\u001b[0m \u001b[0;32min\u001b[0m \u001b[0mtqdm\u001b[0m\u001b[0;34m(\u001b[0m\u001b[0mrange\u001b[0m\u001b[0;34m(\u001b[0m\u001b[0mepochs\u001b[0m\u001b[0;34m)\u001b[0m\u001b[0;34m)\u001b[0m\u001b[0;34m:\u001b[0m\u001b[0;34m\u001b[0m\u001b[0;34m\u001b[0m\u001b[0m\n\u001b[1;32m     10\u001b[0m     \u001b[0mprint\u001b[0m\u001b[0;34m(\u001b[0m\u001b[0;34mf\"Epoch: {epoch}\\n---------\"\u001b[0m\u001b[0;34m)\u001b[0m\u001b[0;34m\u001b[0m\u001b[0;34m\u001b[0m\u001b[0m\n\u001b[0;32m---> 11\u001b[0;31m     trainFunction(dataLoader=trainDataloader,\n\u001b[0m\u001b[1;32m     12\u001b[0m         \u001b[0mmodel\u001b[0m\u001b[0;34m=\u001b[0m\u001b[0mmodel1\u001b[0m\u001b[0;34m,\u001b[0m\u001b[0;34m\u001b[0m\u001b[0;34m\u001b[0m\u001b[0m\n\u001b[1;32m     13\u001b[0m         \u001b[0mlossCalc\u001b[0m\u001b[0;34m=\u001b[0m\u001b[0mlossCalc\u001b[0m\u001b[0;34m,\u001b[0m\u001b[0;34m\u001b[0m\u001b[0;34m\u001b[0m\u001b[0m\n",
            "\u001b[0;32m<ipython-input-15-3e73ad83d3bd>\u001b[0m in \u001b[0;36mtrainFunction\u001b[0;34m(model, dataLoader, lossCalc, optimiser, accuracyCalc, device)\u001b[0m\n\u001b[1;32m     24\u001b[0m \u001b[0;34m\u001b[0m\u001b[0m\n\u001b[1;32m     25\u001b[0m         \u001b[0;31m#Backpropagation\u001b[0m\u001b[0;34m\u001b[0m\u001b[0;34m\u001b[0m\u001b[0m\n\u001b[0;32m---> 26\u001b[0;31m         \u001b[0mloss\u001b[0m\u001b[0;34m.\u001b[0m\u001b[0mbackward\u001b[0m\u001b[0;34m(\u001b[0m\u001b[0;34m)\u001b[0m\u001b[0;34m\u001b[0m\u001b[0;34m\u001b[0m\u001b[0m\n\u001b[0m\u001b[1;32m     27\u001b[0m \u001b[0;34m\u001b[0m\u001b[0m\n\u001b[1;32m     28\u001b[0m         \u001b[0;31m#Optimiser step\u001b[0m\u001b[0;34m\u001b[0m\u001b[0;34m\u001b[0m\u001b[0m\n",
            "\u001b[0;32m/usr/local/lib/python3.10/dist-packages/torch/_tensor.py\u001b[0m in \u001b[0;36mbackward\u001b[0;34m(self, gradient, retain_graph, create_graph, inputs)\u001b[0m\n\u001b[1;32m    523\u001b[0m                 \u001b[0minputs\u001b[0m\u001b[0;34m=\u001b[0m\u001b[0minputs\u001b[0m\u001b[0;34m,\u001b[0m\u001b[0;34m\u001b[0m\u001b[0;34m\u001b[0m\u001b[0m\n\u001b[1;32m    524\u001b[0m             )\n\u001b[0;32m--> 525\u001b[0;31m         torch.autograd.backward(\n\u001b[0m\u001b[1;32m    526\u001b[0m             \u001b[0mself\u001b[0m\u001b[0;34m,\u001b[0m \u001b[0mgradient\u001b[0m\u001b[0;34m,\u001b[0m \u001b[0mretain_graph\u001b[0m\u001b[0;34m,\u001b[0m \u001b[0mcreate_graph\u001b[0m\u001b[0;34m,\u001b[0m \u001b[0minputs\u001b[0m\u001b[0;34m=\u001b[0m\u001b[0minputs\u001b[0m\u001b[0;34m\u001b[0m\u001b[0;34m\u001b[0m\u001b[0m\n\u001b[1;32m    527\u001b[0m         )\n",
            "\u001b[0;32m/usr/local/lib/python3.10/dist-packages/torch/autograd/__init__.py\u001b[0m in \u001b[0;36mbackward\u001b[0;34m(tensors, grad_tensors, retain_graph, create_graph, grad_variables, inputs)\u001b[0m\n\u001b[1;32m    265\u001b[0m     \u001b[0;31m# some Python versions print out the first line of a multi-line function\u001b[0m\u001b[0;34m\u001b[0m\u001b[0;34m\u001b[0m\u001b[0m\n\u001b[1;32m    266\u001b[0m     \u001b[0;31m# calls in the traceback and some print out the last line\u001b[0m\u001b[0;34m\u001b[0m\u001b[0;34m\u001b[0m\u001b[0m\n\u001b[0;32m--> 267\u001b[0;31m     _engine_run_backward(\n\u001b[0m\u001b[1;32m    268\u001b[0m         \u001b[0mtensors\u001b[0m\u001b[0;34m,\u001b[0m\u001b[0;34m\u001b[0m\u001b[0;34m\u001b[0m\u001b[0m\n\u001b[1;32m    269\u001b[0m         \u001b[0mgrad_tensors_\u001b[0m\u001b[0;34m,\u001b[0m\u001b[0;34m\u001b[0m\u001b[0;34m\u001b[0m\u001b[0m\n",
            "\u001b[0;32m/usr/local/lib/python3.10/dist-packages/torch/autograd/graph.py\u001b[0m in \u001b[0;36m_engine_run_backward\u001b[0;34m(t_outputs, *args, **kwargs)\u001b[0m\n\u001b[1;32m    742\u001b[0m         \u001b[0munregister_hooks\u001b[0m \u001b[0;34m=\u001b[0m \u001b[0m_register_logging_hooks_on_whole_graph\u001b[0m\u001b[0;34m(\u001b[0m\u001b[0mt_outputs\u001b[0m\u001b[0;34m)\u001b[0m\u001b[0;34m\u001b[0m\u001b[0;34m\u001b[0m\u001b[0m\n\u001b[1;32m    743\u001b[0m     \u001b[0;32mtry\u001b[0m\u001b[0;34m:\u001b[0m\u001b[0;34m\u001b[0m\u001b[0;34m\u001b[0m\u001b[0m\n\u001b[0;32m--> 744\u001b[0;31m         return Variable._execution_engine.run_backward(  # Calls into the C++ engine to run the backward pass\n\u001b[0m\u001b[1;32m    745\u001b[0m             \u001b[0mt_outputs\u001b[0m\u001b[0;34m,\u001b[0m \u001b[0;34m*\u001b[0m\u001b[0margs\u001b[0m\u001b[0;34m,\u001b[0m \u001b[0;34m**\u001b[0m\u001b[0mkwargs\u001b[0m\u001b[0;34m\u001b[0m\u001b[0;34m\u001b[0m\u001b[0m\n\u001b[1;32m    746\u001b[0m         )  # Calls into the C++ engine to run the backward pass\n",
            "\u001b[0;31mKeyboardInterrupt\u001b[0m: "
          ]
        }
      ]
    },
    {
      "cell_type": "markdown",
      "source": [
        "## Save Model\n",
        "\n",
        "1. `torch.save()` - saving and loading object, save in pythons's pickle format\n",
        "\n",
        "2. `torch.load()` - load with pickle\n",
        "\n",
        "3. `torch.nn.Module.load_state_dict()` - load models saved state dictionary"
      ],
      "metadata": {
        "id": "J75AgwqQIHpF"
      }
    },
    {
      "cell_type": "code",
      "source": [
        "torch.save(model1.state_dict(), './CNNModel.pth')"
      ],
      "metadata": {
        "id": "h1TnUjP9IRhZ"
      },
      "execution_count": null,
      "outputs": []
    }
  ]
}